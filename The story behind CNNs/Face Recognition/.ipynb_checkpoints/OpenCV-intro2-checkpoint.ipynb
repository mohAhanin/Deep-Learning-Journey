{
 "cells": [
  {
   "cell_type": "code",
   "execution_count": 1,
   "id": "e7a6be01",
   "metadata": {},
   "outputs": [
    {
     "name": "stdout",
     "output_type": "stream",
     "text": [
      "Python 3.11.3\n"
     ]
    }
   ],
   "source": [
    "!python --version"
   ]
  },
  {
   "cell_type": "code",
   "execution_count": 2,
   "id": "2cbda845",
   "metadata": {},
   "outputs": [
    {
     "name": "stdout",
     "output_type": "stream",
     "text": [
      "Collecting opencv-python\n"
     ]
    },
    {
     "name": "stderr",
     "output_type": "stream",
     "text": [
      "DEPRECATION: Loading egg at c:\\anaconda\\lib\\site-packages\\emoji-2.7.0-py3.11.egg is deprecated. pip 24.3 will enforce this behaviour change. A possible replacement is to use pip for package installation.. Discussion can be found at https://github.com/pypa/pip/issues/12330\n",
      "  WARNING: Retrying (Retry(total=4, connect=None, read=None, redirect=None, status=None)) after connection broken by 'ReadTimeoutError(\"HTTPSConnectionPool(host='files.pythonhosted.org', port=443): Read timed out. (read timeout=15)\")': /packages/ec/6c/fab8113424af5049f85717e8e527ca3773299a3c6b02506e66436e19874f/opencv_python-4.10.0.84-cp37-abi3-win_amd64.whl.metadata\n",
      "  WARNING: Retrying (Retry(total=3, connect=None, read=None, redirect=None, status=None)) after connection broken by 'ReadTimeoutError(\"HTTPSConnectionPool(host='files.pythonhosted.org', port=443): Read timed out. (read timeout=15)\")': /packages/ec/6c/fab8113424af5049f85717e8e527ca3773299a3c6b02506e66436e19874f/opencv_python-4.10.0.84-cp37-abi3-win_amd64.whl.metadata\n",
      "  WARNING: Retrying (Retry(total=2, connect=None, read=None, redirect=None, status=None)) after connection broken by 'ReadTimeoutError(\"HTTPSConnectionPool(host='files.pythonhosted.org', port=443): Read timed out. (read timeout=15)\")': /packages/ec/6c/fab8113424af5049f85717e8e527ca3773299a3c6b02506e66436e19874f/opencv_python-4.10.0.84-cp37-abi3-win_amd64.whl.metadata\n",
      "  WARNING: Retrying (Retry(total=1, connect=None, read=None, redirect=None, status=None)) after connection broken by 'ReadTimeoutError(\"HTTPSConnectionPool(host='files.pythonhosted.org', port=443): Read timed out. (read timeout=15)\")': /packages/ec/6c/fab8113424af5049f85717e8e527ca3773299a3c6b02506e66436e19874f/opencv_python-4.10.0.84-cp37-abi3-win_amd64.whl.metadata\n",
      "  WARNING: Retrying (Retry(total=0, connect=None, read=None, redirect=None, status=None)) after connection broken by 'ReadTimeoutError(\"HTTPSConnectionPool(host='files.pythonhosted.org', port=443): Read timed out. (read timeout=15)\")': /packages/ec/6c/fab8113424af5049f85717e8e527ca3773299a3c6b02506e66436e19874f/opencv_python-4.10.0.84-cp37-abi3-win_amd64.whl.metadata\n",
      "ERROR: Could not install packages due to an OSError: HTTPSConnectionPool(host='files.pythonhosted.org', port=443): Max retries exceeded with url: /packages/ec/6c/fab8113424af5049f85717e8e527ca3773299a3c6b02506e66436e19874f/opencv_python-4.10.0.84-cp37-abi3-win_amd64.whl.metadata (Caused by ReadTimeoutError(\"HTTPSConnectionPool(host='files.pythonhosted.org', port=443): Read timed out. (read timeout=15)\"))\n",
      "\n",
      "\n",
      "[notice] A new release of pip is available: 24.0 -> 24.2\n",
      "[notice] To update, run: python.exe -m pip install --upgrade pip\n"
     ]
    }
   ],
   "source": [
    "!pip install opencv-python\n"
   ]
  },
  {
   "cell_type": "code",
   "execution_count": 3,
   "id": "99ef6612",
   "metadata": {},
   "outputs": [
    {
     "name": "stdout",
     "output_type": "stream",
     "text": [
      "Requirement already satisfied: pip in c:\\anaconda\\lib\\site-packages (24.0)\n",
      "Collecting pip\n",
      "  Using cached pip-24.2-py3-none-any.whl.metadata (3.6 kB)\n",
      "Using cached pip-24.2-py3-none-any.whl (1.8 MB)\n",
      "Installing collected packages: pip\n",
      "  Attempting uninstall: pip\n",
      "    Found existing installation: pip 24.0\n",
      "    Uninstalling pip-24.0:\n",
      "      Successfully uninstalled pip-24.0\n",
      "Successfully installed pip-24.2\n"
     ]
    },
    {
     "name": "stderr",
     "output_type": "stream",
     "text": [
      "DEPRECATION: Loading egg at c:\\anaconda\\lib\\site-packages\\emoji-2.7.0-py3.11.egg is deprecated. pip 24.3 will enforce this behaviour change. A possible replacement is to use pip for package installation.. Discussion can be found at https://github.com/pypa/pip/issues/12330\n"
     ]
    }
   ],
   "source": [
    "!python -m pip install --upgrade pip\n"
   ]
  },
  {
   "cell_type": "code",
   "execution_count": 5,
   "id": "6bac6053",
   "metadata": {},
   "outputs": [
    {
     "name": "stdout",
     "output_type": "stream",
     "text": [
      "Collecting opencv-python\n",
      "  Using cached opencv_python-4.10.0.84-cp37-abi3-win_amd64.whl.metadata (20 kB)\n",
      "Requirement already satisfied: numpy>=1.21.2 in c:\\anaconda\\lib\\site-packages (from opencv-python) (1.24.3)\n",
      "Downloading opencv_python-4.10.0.84-cp37-abi3-win_amd64.whl (38.8 MB)\n",
      "   ---------------------------------------- 0.0/38.8 MB ? eta -:--:--\n",
      "   ---------------------------------------- 0.0/38.8 MB ? eta -:--:--\n",
      "   ---------------------------------------- 0.0/38.8 MB ? eta -:--:--\n",
      "   ---------------------------------------- 0.0/38.8 MB ? eta -:--:--\n",
      "    --------------------------------------- 0.5/38.8 MB 2.4 MB/s eta 0:00:16\n",
      "    --------------------------------------- 0.8/38.8 MB 2.0 MB/s eta 0:00:20\n",
      "   - -------------------------------------- 1.6/38.8 MB 2.5 MB/s eta 0:00:15\n",
      "   -- ------------------------------------- 2.6/38.8 MB 3.3 MB/s eta 0:00:12\n",
      "   --- ------------------------------------ 3.7/38.8 MB 3.5 MB/s eta 0:00:11\n",
      "   ---- ----------------------------------- 4.7/38.8 MB 3.7 MB/s eta 0:00:10\n",
      "   ----- ---------------------------------- 5.2/38.8 MB 3.8 MB/s eta 0:00:09\n",
      "   ----- ---------------------------------- 5.2/38.8 MB 3.8 MB/s eta 0:00:09\n",
      "   -------- ------------------------------- 8.1/38.8 MB 4.3 MB/s eta 0:00:08\n",
      "   --------- ------------------------------ 9.4/38.8 MB 4.5 MB/s eta 0:00:07\n",
      "   ----------- ---------------------------- 10.7/38.8 MB 4.6 MB/s eta 0:00:07\n",
      "   ------------ --------------------------- 12.1/38.8 MB 4.7 MB/s eta 0:00:06\n",
      "   ------------- -------------------------- 13.1/38.8 MB 4.8 MB/s eta 0:00:06\n",
      "   -------------- ------------------------- 14.4/38.8 MB 4.9 MB/s eta 0:00:05\n",
      "   ---------------- ----------------------- 15.7/38.8 MB 5.0 MB/s eta 0:00:05\n",
      "   ----------------- ---------------------- 16.8/38.8 MB 5.0 MB/s eta 0:00:05\n",
      "   ------------------ --------------------- 18.1/38.8 MB 5.0 MB/s eta 0:00:05\n",
      "   ------------------- -------------------- 19.4/38.8 MB 5.1 MB/s eta 0:00:04\n",
      "   --------------------- ------------------ 20.4/38.8 MB 5.1 MB/s eta 0:00:04\n",
      "   --------------------- ------------------ 20.4/38.8 MB 5.1 MB/s eta 0:00:04\n",
      "   ----------------------- ---------------- 23.1/38.8 MB 5.2 MB/s eta 0:00:04\n",
      "   ------------------------- -------------- 24.4/38.8 MB 5.3 MB/s eta 0:00:03\n",
      "   -------------------------- ------------- 25.4/38.8 MB 5.3 MB/s eta 0:00:03\n",
      "   --------------------------- ------------ 27.0/38.8 MB 5.3 MB/s eta 0:00:03\n",
      "   ---------------------------- ----------- 27.3/38.8 MB 5.3 MB/s eta 0:00:03\n",
      "   ------------------------------ --------- 29.4/38.8 MB 5.4 MB/s eta 0:00:02\n",
      "   ------------------------------- -------- 30.4/38.8 MB 5.4 MB/s eta 0:00:02\n",
      "   -------------------------------- ------- 31.5/38.8 MB 5.4 MB/s eta 0:00:02\n",
      "   --------------------------------- ------ 32.5/38.8 MB 5.4 MB/s eta 0:00:02\n",
      "   ---------------------------------- ----- 33.8/38.8 MB 5.4 MB/s eta 0:00:01\n",
      "   ----------------------------------- ---- 34.6/38.8 MB 5.4 MB/s eta 0:00:01\n",
      "   ----------------------------------- ---- 34.6/38.8 MB 5.4 MB/s eta 0:00:01\n",
      "   ---------------------------------------  38.0/38.8 MB 5.5 MB/s eta 0:00:01\n",
      "   ---------------------------------------  38.8/38.8 MB 5.5 MB/s eta 0:00:01\n",
      "   ---------------------------------------  38.8/38.8 MB 5.5 MB/s eta 0:00:01\n",
      "   ---------------------------------------- 38.8/38.8 MB 5.1 MB/s eta 0:00:00\n",
      "Installing collected packages: opencv-python\n",
      "Successfully installed opencv-python-4.10.0.84\n",
      "Note: you may need to restart the kernel to use updated packages.\n"
     ]
    },
    {
     "name": "stderr",
     "output_type": "stream",
     "text": [
      "DEPRECATION: Loading egg at c:\\anaconda\\lib\\site-packages\\emoji-2.7.0-py3.11.egg is deprecated. pip 24.3 will enforce this behaviour change. A possible replacement is to use pip for package installation. Discussion can be found at https://github.com/pypa/pip/issues/12330\n"
     ]
    }
   ],
   "source": [
    "pip install opencv-python --default-timeout=100\n"
   ]
  },
  {
   "cell_type": "code",
   "execution_count": null,
   "id": "39bef02b",
   "metadata": {},
   "outputs": [],
   "source": []
  }
 ],
 "metadata": {
  "kernelspec": {
   "display_name": "Python 3 (ipykernel)",
   "language": "python",
   "name": "python3"
  },
  "language_info": {
   "codemirror_mode": {
    "name": "ipython",
    "version": 3
   },
   "file_extension": ".py",
   "mimetype": "text/x-python",
   "name": "python",
   "nbconvert_exporter": "python",
   "pygments_lexer": "ipython3",
   "version": "3.11.3"
  }
 },
 "nbformat": 4,
 "nbformat_minor": 5
}
