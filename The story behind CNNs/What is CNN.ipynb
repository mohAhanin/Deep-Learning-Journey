{
 "cells": [
  {
   "cell_type": "raw",
   "id": "3ea7eace",
   "metadata": {},
   "source": [
    "Using Keras and TensorFlow to Build CNNs\n",
    "To simplify building CNNs that classify images, Keras offers the Conv2D class, which\n",
    "models convolution layers, and the MaxPooling2D class, which implements max pool‐\n",
    "ing layers. The following statements create a CNN with two pairs of convolution and\n",
    "pooling layers, a flatten layer to reshape the output into a 1D array for input to a\n",
    "dense layer, a dense layer to classify the features extracted from the bottleneck layers,\n",
    "and a softmax output layer for classification:"
   ]
  },
  {
   "cell_type": "code",
   "execution_count": 1,
   "id": "e5ef1367",
   "metadata": {},
   "outputs": [],
   "source": [
    "from tensorflow.keras.models import Sequential\n",
    "from tensorflow.keras.layers import Conv2D, MaxPooling2D, Flatten, Dense\n",
    "\n",
    "model = Sequential()\n",
    "model.add(Conv2D(32, (3, 3), activation='relu', input_shape=(28, 28, 1)))\n",
    "model.add(MaxPooling2D(2, 2))\n",
    "model.add(Conv2D(64, (3, 3), activation='relu'))\n",
    "model.add(MaxPooling2D(2, 2))\n",
    "model.add(Flatten())\n",
    "model.add(Dense(128, activation='relu'))\n",
    "model.add(Dense(10, activation='softmax'))"
   ]
  },
  {
   "cell_type": "raw",
   "id": "d37328ba",
   "metadata": {},
   "source": [
    "The first parameter passed to the Conv2D function is the number of convolution ker‐\n",
    "nels to include in the layer. More kernels means more fitting power, similar to the\n",
    "number of neurons in a dense layer. The second parameter is the dimensions of each\n",
    "kernel. You sometimes get greater accuracy from 5 × 5 kernels, but a kernel that size\n",
    "increases training time by requiring 25 multiplication operations for each pixel as\n",
    "opposed to nine for a 3 × 3 kernel. The input_shape parameter in the first layer\n",
    "specifies the size of the images input to the CNN: in this case, one-channel (grayscale)\n",
    "28 × 28 images. All the images used to train a CNN must be the same size.\n"
   ]
  },
  {
   "cell_type": "markdown",
   "id": "332c4c51",
   "metadata": {},
   "source": [
    "Mnist Image classification"
   ]
  },
  {
   "cell_type": "code",
   "execution_count": 3,
   "id": "7086e8ee",
   "metadata": {},
   "outputs": [],
   "source": [
    "from tensorflow.keras.datasets import mnist\n",
    "(train_images, y_train), (test_images, y_test) = mnist.load_data()\n",
    "x_train = train_images.reshape(60000, 28, 28, 1) / 255\n",
    "x_test = test_images.reshape(10000, 28, 28, 1) / 255\n"
   ]
  },
  {
   "cell_type": "code",
   "execution_count": 5,
   "id": "e0eabaca",
   "metadata": {},
   "outputs": [
    {
     "data": {
      "text/plain": [
       "(60000, 28, 28, 1)"
      ]
     },
     "execution_count": 5,
     "metadata": {},
     "output_type": "execute_result"
    }
   ],
   "source": [
    "x_train.shape"
   ]
  },
  {
   "cell_type": "code",
   "execution_count": 11,
   "id": "39a477a4",
   "metadata": {},
   "outputs": [
    {
     "data": {
      "image/png": "[encoded data removed]",
      "text/plain": [
       "<Figure size 640x480 with 1 Axes>"
      ]
     },
     "metadata": {},
     "output_type": "display_data"
    }
   ],
   "source": [
    "import matplotlib.pyplot as plt\n",
    "\n",
    "image = x_train[405]\n",
    "\n",
    "# Plotting the image\n",
    "plt.imshow(image, cmap='gray')\n",
    "plt.title('Image at x_train[405]')\n",
    "plt.show()\n"
   ]
  },
  {
   "cell_type": "code",
   "execution_count": 12,
   "id": "a1dd3836",
   "metadata": {},
   "outputs": [
    {
     "name": "stdout",
     "output_type": "stream",
     "text": [
      "Model: \"sequential_1\"\n",
      "________________________________________________________________________________\n",
      " Layer (type)                       Output Shape                    Param #     \n",
      "================================================================================\n",
      " conv2d_2 (Conv2D)                  (None, 26, 26, 32)              320         \n",
      "                                                                                \n",
      " max_pooling2d_2 (MaxPooling2D)     (None, 13, 13, 32)              0           \n",
      "                                                                                \n",
      " conv2d_3 (Conv2D)                  (None, 11, 11, 64)              18496       \n",
      "                                                                                \n",
      " max_pooling2d_3 (MaxPooling2D)     (None, 5, 5, 64)                0           \n",
      "                                                                                \n",
      " flatten_1 (Flatten)                (None, 1600)                    0           \n",
      "                                                                                \n",
      " dense_2 (Dense)                    (None, 128)                     204928      \n",
      "                                                                                \n",
      " dense_3 (Dense)                    (None, 10)                      1290        \n",
      "                                                                                \n",
      "================================================================================\n",
      "Total params: 225034 (879.04 KB)\n",
      "Trainable params: 225034 (879.04 KB)\n",
      "Non-trainable params: 0 (0.00 Byte)\n",
      "________________________________________________________________________________\n"
     ]
    }
   ],
   "source": [
    "from tensorflow.keras.layers import Conv2D, MaxPooling2D, Dense, Flatten\n",
    "from tensorflow.keras.models import Sequential\n",
    "\n",
    "model = Sequential()\n",
    "model.add(Conv2D(32, (3, 3), activation='relu', input_shape=(28, 28, 1)))\n",
    "model.add(MaxPooling2D(2, 2))\n",
    "model.add(Conv2D(64, (3, 3), activation='relu'))\n",
    "model.add(MaxPooling2D(2, 2))\n",
    "model.add(Flatten())\n",
    "model.add(Dense(128, activation='relu'))\n",
    "model.add(Dense(10, activation='softmax'))\n",
    "\n",
    "model.compile(optimizer='adam', loss='sparse_categorical_crossentropy',metrics=['accuracy'])\n",
    "\n",
    "model.summary(line_length=80)"
   ]
  },
  {
   "cell_type": "code",
   "execution_count": null,
   "id": "d0a9e471",
   "metadata": {},
   "outputs": [
    {
     "name": "stdout",
     "output_type": "stream",
     "text": [
      "Epoch 1/10\n",
      "1200/1200 [==============================] - 25s 20ms/step - loss: 0.1484 - accuracy: 0.9551 - val_loss: 0.0515 - val_accuracy: 0.9835\n",
      "Epoch 2/10\n",
      "1200/1200 [==============================] - 27s 22ms/step - loss: 0.0443 - accuracy: 0.9865 - val_loss: 0.0333 - val_accuracy: 0.9873\n",
      "Epoch 3/10\n",
      "1200/1200 [==============================] - 27s 22ms/step - loss: 0.0305 - accuracy: 0.9904 - val_loss: 0.0378 - val_accuracy: 0.9879\n",
      "Epoch 4/10\n",
      "1200/1200 [==============================] - 26s 22ms/step - loss: 0.0225 - accuracy: 0.9926 - val_loss: 0.0281 - val_accuracy: 0.9903\n",
      "Epoch 5/10\n",
      "1200/1200 [==============================] - 28s 23ms/step - loss: 0.0169 - accuracy: 0.9945 - val_loss: 0.0340 - val_accuracy: 0.9886\n",
      "Epoch 6/10\n",
      "1200/1200 [==============================] - 32s 26ms/step - loss: 0.0121 - accuracy: 0.9963 - val_loss: 0.0297 - val_accuracy: 0.9915\n",
      "Epoch 7/10\n",
      " 788/1200 [==================>...........] - ETA: 9s - loss: 0.0101 - accuracy: 0.9965"
     ]
    }
   ],
   "source": [
    "%matplotlib inline\n",
    "import matplotlib.pyplot as plt\n",
    "import seaborn as sns\n",
    "sns.set()\n",
    "\n",
    "hist = model.fit(x_train, y_train, validation_data=(x_test, y_test), epochs=10, batch_size=50)\n",
    "\n",
    "acc = hist.history['accuracy']\n",
    "\n",
    "val_acc = hist.history['val_accuracy']\n",
    "\n",
    "epochs = range(1, len(acc) + 1)\n",
    "\n",
    "plt.plot(epochs, acc, '-', label='Training Accuracy')\n",
    "plt.plot(epochs, val_acc, ':', label='Validation Accuracy')\n",
    "plt.title('Training and Validation Accuracy')\n",
    "plt.xlabel('Epoch')\n",
    "plt.ylabel('Accuracy')\n",
    "plt.legend(loc='lower right')"
   ]
  },
  {
   "cell_type": "code",
   "execution_count": null,
   "id": "b8e20a01",
   "metadata": {},
   "outputs": [],
   "source": []
  }
 ],
 "metadata": {
  "kernelspec": {
   "display_name": "Python 3 (ipykernel)",
   "language": "python",
   "name": "python3"
  },
  "language_info": {
   "codemirror_mode": {
    "name": "ipython",
    "version": 3
   },
   "file_extension": ".py",
   "mimetype": "text/x-python",
   "name": "python",
   "nbconvert_exporter": "python",
   "pygments_lexer": "ipython3",
   "version": "3.11.3"
  }
 },
 "nbformat": 4,
 "nbformat_minor": 5
}
