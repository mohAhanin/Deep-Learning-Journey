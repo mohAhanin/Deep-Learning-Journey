{
 "cells": [
  {
   "cell_type": "code",
   "execution_count": 1,
   "id": "792f354d-e198-4092-8f1a-566305c1cd89",
   "metadata": {
    "tags": []
   },
   "outputs": [],
   "source": [
    "import tensorflow as tf\n",
    "from sklearn.datasets import fetch_california_housing\n",
    "from tensorflow import keras\n",
    "from tensorflow.keras import layers\n",
    "import pandas as pd\n",
    "import matplotlib.pyplot as plt "
   ]
  },
  {
   "cell_type": "code",
   "execution_count": 2,
   "id": "c964f2ec-4ef0-46b4-b3c8-85943e19ebd0",
   "metadata": {
    "tags": []
   },
   "outputs": [],
   "source": [
    "fmnist = keras.datasets.fashion_mnist"
   ]
  },
  {
   "cell_type": "code",
   "execution_count": 3,
   "id": "13cf4a6e-1610-4a16-9ac0-f5c81a60abe5",
   "metadata": {
    "tags": []
   },
   "outputs": [],
   "source": [
    "(X_train, y_train), (X_test, y_test) = fmnist.load_data()"
   ]
  },
  {
   "cell_type": "code",
   "execution_count": 4,
   "id": "6c48423f-dc8e-4670-abdc-589ac62dad4e",
   "metadata": {},
   "outputs": [
    {
     "name": "stdout",
     "output_type": "stream",
     "text": [
      "X_train : (60000, 28, 28)\n",
      "X_test : (10000, 28, 28)\n",
      "y_train : (60000,)\n",
      "y_test : (10000,)\n"
     ]
    }
   ],
   "source": [
    "print(f'X_train :',X_train.shape)\n",
    "print(f'X_test :',X_test.shape)\n",
    "print(f'y_train :',y_train.shape)\n",
    "print(f'y_test :',y_test.shape)"
   ]
  },
  {
   "cell_type": "code",
   "execution_count": 5,
   "id": "3408dbe5-81ee-424f-9a95-9bbbe3ab6780",
   "metadata": {
    "tags": []
   },
   "outputs": [],
   "source": [
    "#plt.imshow(X_train[0], cmap = 'gray')"
   ]
  },
  {
   "cell_type": "code",
   "execution_count": 6,
   "id": "18d29a78-1781-4f62-b9c1-d9a208a037e0",
   "metadata": {},
   "outputs": [],
   "source": [
    "#plt.imshow(y_train[0], cmap = 'gray')"
   ]
  },
  {
   "cell_type": "code",
   "execution_count": 7,
   "id": "cffb27eb-c517-4572-bafb-191b9cf88d7e",
   "metadata": {
    "tags": []
   },
   "outputs": [],
   "source": [
    "#X_train[0]"
   ]
  },
  {
   "cell_type": "code",
   "execution_count": 8,
   "id": "76ebf96b-d30d-4df6-8589-8b66ab8e8a74",
   "metadata": {
    "tags": []
   },
   "outputs": [],
   "source": [
    "#print(y_train[0])"
   ]
  },
  {
   "cell_type": "code",
   "execution_count": 9,
   "id": "9970b1f0-5616-4037-90ba-77b054af1646",
   "metadata": {
    "tags": []
   },
   "outputs": [],
   "source": [
    "X_train=X_train/255\n",
    "X_test=X_test/255"
   ]
  },
  {
   "cell_type": "code",
   "execution_count": 10,
   "id": "90114d0f-7cdf-472b-b1a4-e35ba9d67dac",
   "metadata": {
    "tags": []
   },
   "outputs": [],
   "source": [
    "#X_train[0]"
   ]
  },
  {
   "cell_type": "code",
   "execution_count": 11,
   "id": "42418d9e-4c4e-4b4a-877c-2eb2432935a5",
   "metadata": {
    "tags": []
   },
   "outputs": [],
   "source": [
    "#plt.imshow(X_train[0], cmap = 'gray')"
   ]
  },
  {
   "cell_type": "code",
   "execution_count": 12,
   "id": "b10f25e4",
   "metadata": {},
   "outputs": [],
   "source": [
    "from keras.initializers import GlorotNormal\n",
    "initializer1 = GlorotNormal(seed=None)\n",
    "from keras.initializers import HeNormal\n",
    "initializer2 = HeNormal(seed=None)"
   ]
  },
  {
   "cell_type": "markdown",
   "id": "c5dbb013",
   "metadata": {},
   "source": [
    "model1"
   ]
  },
  {
   "cell_type": "code",
   "execution_count": 13,
   "id": "4acc9caa-e9fb-4936-b4cf-03ce8ee84328",
   "metadata": {},
   "outputs": [],
   "source": [
    "model = tf.keras.Sequential()\n",
    "model.add(keras.layers.Flatten(input_shape=[28,28]))\n",
    "model.add(keras.layers.Dense(100,activation='relu',kernel_initializer=initializer1))\n",
    "model.add(keras.layers.Dense(75,activation='relu'))\n",
    "model.add(keras.layers.Dense(10,activation='softmax'))"
   ]
  },
  {
   "cell_type": "code",
   "execution_count": 14,
   "id": "22571a98-7096-4b26-bcb8-8ff5bfd2fccf",
   "metadata": {},
   "outputs": [
    {
     "name": "stdout",
     "output_type": "stream",
     "text": [
      "Model: \"sequential\"\n",
      "_________________________________________________________________\n",
      " Layer (type)                Output Shape              Param #   \n",
      "=================================================================\n",
      " flatten (Flatten)           (None, 784)               0         \n",
      "                                                                 \n",
      " dense (Dense)               (None, 100)               78500     \n",
      "                                                                 \n",
      " dense_1 (Dense)             (None, 75)                7575      \n",
      "                                                                 \n",
      " dense_2 (Dense)             (None, 10)                760       \n",
      "                                                                 \n",
      "=================================================================\n",
      "Total params: 86835 (339.20 KB)\n",
      "Trainable params: 86835 (339.20 KB)\n",
      "Non-trainable params: 0 (0.00 Byte)\n",
      "_________________________________________________________________\n"
     ]
    }
   ],
   "source": [
    "model.summary()"
   ]
  },
  {
   "cell_type": "code",
   "execution_count": 15,
   "id": "85c301f3",
   "metadata": {},
   "outputs": [],
   "source": [
    "model.compile(\n",
    "    loss = 'sparse_categorical_crossentropy',\n",
    "    optimizer= 'sgd',\n",
    "    metrics=['accuracy']\n",
    "             )"
   ]
  },
  {
   "cell_type": "code",
   "execution_count": 16,
   "id": "1e07d984",
   "metadata": {},
   "outputs": [
    {
     "name": "stdout",
     "output_type": "stream",
     "text": [
      "Epoch 1/10\n",
      "1594/1594 [==============================] - 4s 2ms/step - loss: 0.7803 - accuracy: 0.7407 - val_loss: 0.5698 - val_accuracy: 0.7939\n",
      "Epoch 2/10\n",
      "1594/1594 [==============================] - 3s 2ms/step - loss: 0.5158 - accuracy: 0.8204 - val_loss: 0.4957 - val_accuracy: 0.8232\n",
      "Epoch 3/10\n",
      "1594/1594 [==============================] - 4s 2ms/step - loss: 0.4659 - accuracy: 0.8386 - val_loss: 0.4536 - val_accuracy: 0.8418\n",
      "Epoch 4/10\n",
      "1594/1594 [==============================] - 3s 2ms/step - loss: 0.4382 - accuracy: 0.8457 - val_loss: 0.4400 - val_accuracy: 0.8408\n",
      "Epoch 5/10\n",
      "1594/1594 [==============================] - 3s 2ms/step - loss: 0.4183 - accuracy: 0.8522 - val_loss: 0.4357 - val_accuracy: 0.8450\n",
      "Epoch 6/10\n",
      "1594/1594 [==============================] - 3s 2ms/step - loss: 0.4018 - accuracy: 0.8588 - val_loss: 0.4102 - val_accuracy: 0.8560\n",
      "Epoch 7/10\n",
      "1594/1594 [==============================] - 3s 2ms/step - loss: 0.3885 - accuracy: 0.8627 - val_loss: 0.4198 - val_accuracy: 0.8531\n",
      "Epoch 8/10\n",
      "1594/1594 [==============================] - 3s 2ms/step - loss: 0.3765 - accuracy: 0.8666 - val_loss: 0.3957 - val_accuracy: 0.8604\n",
      "Epoch 9/10\n",
      "1594/1594 [==============================] - 3s 2ms/step - loss: 0.3668 - accuracy: 0.8694 - val_loss: 0.3830 - val_accuracy: 0.8671\n",
      "Epoch 10/10\n",
      "1594/1594 [==============================] - 3s 2ms/step - loss: 0.3587 - accuracy: 0.8723 - val_loss: 0.3753 - val_accuracy: 0.8684\n"
     ]
    }
   ],
   "source": [
    "history = model.fit(X_train,y_train,epochs = 10,validation_split=0.15)"
   ]
  },
  {
   "cell_type": "markdown",
   "id": "f79a3a45",
   "metadata": {},
   "source": [
    "model 2"
   ]
  },
  {
   "cell_type": "code",
   "execution_count": 17,
   "id": "9a5de69a",
   "metadata": {},
   "outputs": [
    {
     "name": "stderr",
     "output_type": "stream",
     "text": [
      "C:\\Anaconda\\Lib\\site-packages\\keras\\src\\initializers\\initializers.py:120: UserWarning: The initializer GlorotNormal is unseeded and being called multiple times, which will return identical values each time (even if the initializer is unseeded). Please update your code to provide a seed to the initializer, or avoid using the same initializer instance more than once.\n",
      "  warnings.warn(\n"
     ]
    }
   ],
   "source": [
    "model = tf.keras.Sequential()\n",
    "model.add(keras.layers.Flatten(input_shape=[28,28]))\n",
    "model.add(keras.layers.Dense(100,activation='relu',kernel_initializer=initializer1))\n",
    "model.add(keras.layers.Dense(75,activation='relu',kernel_initializer=initializer2))\n",
    "model.add(keras.layers.Dense(10,activation='softmax'))"
   ]
  },
  {
   "cell_type": "code",
   "execution_count": 18,
   "id": "441882b3",
   "metadata": {},
   "outputs": [],
   "source": [
    "model.compile(\n",
    "    loss = 'sparse_categorical_crossentropy',\n",
    "    optimizer= 'sgd',\n",
    "    metrics=['accuracy']\n",
    "             )"
   ]
  },
  {
   "cell_type": "code",
   "execution_count": 19,
   "id": "888bd7fa",
   "metadata": {},
   "outputs": [
    {
     "name": "stdout",
     "output_type": "stream",
     "text": [
      "Epoch 1/10\n",
      "1594/1594 [==============================] - 4s 2ms/step - loss: 0.7261 - accuracy: 0.7608 - val_loss: 0.5433 - val_accuracy: 0.8134\n",
      "Epoch 2/10\n",
      "1594/1594 [==============================] - 3s 2ms/step - loss: 0.4980 - accuracy: 0.8263 - val_loss: 0.4734 - val_accuracy: 0.8301\n",
      "Epoch 3/10\n",
      "1594/1594 [==============================] - 3s 2ms/step - loss: 0.4519 - accuracy: 0.8428 - val_loss: 0.4447 - val_accuracy: 0.8423\n",
      "Epoch 4/10\n",
      "1594/1594 [==============================] - 3s 2ms/step - loss: 0.4224 - accuracy: 0.8525 - val_loss: 0.4283 - val_accuracy: 0.8478\n",
      "Epoch 5/10\n",
      "1594/1594 [==============================] - 3s 2ms/step - loss: 0.4032 - accuracy: 0.8591 - val_loss: 0.4074 - val_accuracy: 0.8573\n",
      "Epoch 6/10\n",
      "1594/1594 [==============================] - 4s 2ms/step - loss: 0.3870 - accuracy: 0.8645 - val_loss: 0.4086 - val_accuracy: 0.8611\n",
      "Epoch 7/10\n",
      "1594/1594 [==============================] - 3s 2ms/step - loss: 0.3746 - accuracy: 0.8684 - val_loss: 0.3956 - val_accuracy: 0.8603\n",
      "Epoch 8/10\n",
      "1594/1594 [==============================] - 3s 2ms/step - loss: 0.3628 - accuracy: 0.8712 - val_loss: 0.3932 - val_accuracy: 0.8627\n",
      "Epoch 9/10\n",
      "1594/1594 [==============================] - 3s 2ms/step - loss: 0.3538 - accuracy: 0.8741 - val_loss: 0.3865 - val_accuracy: 0.8650\n",
      "Epoch 10/10\n",
      "1594/1594 [==============================] - 3s 2ms/step - loss: 0.3461 - accuracy: 0.8766 - val_loss: 0.3809 - val_accuracy: 0.8680\n"
     ]
    }
   ],
   "source": [
    "history = model.fit(X_train,y_train,epochs = 10,validation_split=0.15)"
   ]
  },
  {
   "cell_type": "markdown",
   "id": "952c388b",
   "metadata": {},
   "source": [
    "model 3"
   ]
  },
  {
   "cell_type": "code",
   "execution_count": 20,
   "id": "74df3b89",
   "metadata": {},
   "outputs": [
    {
     "name": "stderr",
     "output_type": "stream",
     "text": [
      "C:\\Anaconda\\Lib\\site-packages\\keras\\src\\initializers\\initializers.py:120: UserWarning: The initializer HeNormal is unseeded and being called multiple times, which will return identical values each time (even if the initializer is unseeded). Please update your code to provide a seed to the initializer, or avoid using the same initializer instance more than once.\n",
      "  warnings.warn(\n"
     ]
    }
   ],
   "source": [
    "from keras.initializers import GlorotUniform\n",
    "from keras.activations import selu\n",
    "\n",
    "initializer_g = GlorotUniform(seed=None)\n",
    "\n",
    "model = tf.keras.Sequential()\n",
    "\n",
    "model.add(keras.layers.Flatten(input_shape=[28,28]))\n",
    "\n",
    "model.add(keras.layers.Dense(100,activation=selu,kernel_initializer=initializer2))\n",
    "#initializer2 = he\n",
    "model.add(keras.layers.Dense(75,activation=selu,kernel_initializer=initializer2))\n",
    "#initializer 2 = he\n",
    "model.add(keras.layers.Dense(10,activation='softmax',kernel_initializer=initializer_g))\n",
    "#initializer g = glorot\n"
   ]
  },
  {
   "cell_type": "code",
   "execution_count": 21,
   "id": "d5ec8848",
   "metadata": {},
   "outputs": [],
   "source": [
    "model.compile(\n",
    "    loss = 'sparse_categorical_crossentropy',\n",
    "    optimizer= 'sgd',\n",
    "    metrics=['accuracy']\n",
    "             )"
   ]
  },
  {
   "cell_type": "code",
   "execution_count": 22,
   "id": "e635f1f6",
   "metadata": {},
   "outputs": [
    {
     "name": "stdout",
     "output_type": "stream",
     "text": [
      "Epoch 1/10\n",
      "1594/1594 [==============================] - 4s 2ms/step - loss: 0.5968 - accuracy: 0.7882 - val_loss: 0.5036 - val_accuracy: 0.8207\n",
      "Epoch 2/10\n",
      "1594/1594 [==============================] - 3s 2ms/step - loss: 0.4549 - accuracy: 0.8376 - val_loss: 0.4786 - val_accuracy: 0.8181\n",
      "Epoch 3/10\n",
      "1594/1594 [==============================] - 4s 2ms/step - loss: 0.4249 - accuracy: 0.8479 - val_loss: 0.4192 - val_accuracy: 0.8483\n",
      "Epoch 4/10\n",
      "1594/1594 [==============================] - 4s 2ms/step - loss: 0.4043 - accuracy: 0.8555 - val_loss: 0.4140 - val_accuracy: 0.8531\n",
      "Epoch 5/10\n",
      "1594/1594 [==============================] - 3s 2ms/step - loss: 0.3897 - accuracy: 0.8616 - val_loss: 0.4026 - val_accuracy: 0.8544\n",
      "Epoch 6/10\n",
      "1594/1594 [==============================] - 3s 2ms/step - loss: 0.3769 - accuracy: 0.8648 - val_loss: 0.3905 - val_accuracy: 0.8592\n",
      "Epoch 7/10\n",
      "1594/1594 [==============================] - 3s 2ms/step - loss: 0.3679 - accuracy: 0.8686 - val_loss: 0.3801 - val_accuracy: 0.8628\n",
      "Epoch 8/10\n",
      "1594/1594 [==============================] - 3s 2ms/step - loss: 0.3590 - accuracy: 0.8717 - val_loss: 0.3940 - val_accuracy: 0.8556\n",
      "Epoch 9/10\n",
      "1594/1594 [==============================] - 3s 2ms/step - loss: 0.3497 - accuracy: 0.8744 - val_loss: 0.3823 - val_accuracy: 0.8660\n",
      "Epoch 10/10\n",
      "1594/1594 [==============================] - 3s 2ms/step - loss: 0.3427 - accuracy: 0.8772 - val_loss: 0.3676 - val_accuracy: 0.8673\n"
     ]
    }
   ],
   "source": [
    "history = model.fit(X_train,y_train,epochs = 10,validation_split=0.15)"
   ]
  },
  {
   "cell_type": "markdown",
   "id": "abd21d25",
   "metadata": {},
   "source": [
    "model4"
   ]
  },
  {
   "cell_type": "code",
   "execution_count": 23,
   "id": "9e2bac8c",
   "metadata": {},
   "outputs": [
    {
     "name": "stderr",
     "output_type": "stream",
     "text": [
      "C:\\Anaconda\\Lib\\site-packages\\keras\\src\\initializers\\initializers.py:120: UserWarning: The initializer LecunNormal is unseeded and being called multiple times, which will return identical values each time (even if the initializer is unseeded). Please update your code to provide a seed to the initializer, or avoid using the same initializer instance more than once.\n",
      "  warnings.warn(\n"
     ]
    }
   ],
   "source": [
    "from keras.initializers import LecunNormal\n",
    "from keras.activations import selu\n",
    "\n",
    "initializer_selu = LecunNormal(seed=None)\n",
    "initializer_g = GlorotUniform(seed=None)\n",
    "\n",
    "model = tf.keras.Sequential()\n",
    "\n",
    "model.add(keras.layers.Flatten(input_shape=[28, 28]))\n",
    "\n",
    "model.add(keras.layers.Dense(100, activation=selu, kernel_initializer=initializer_selu))\n",
    "model.add(keras.layers.Dense(75, activation=selu, kernel_initializer=initializer_selu))\n",
    "\n",
    "model.add(keras.layers.Dense(10, activation='softmax', kernel_initializer=initializer_g))"
   ]
  },
  {
   "cell_type": "code",
   "execution_count": 24,
   "id": "f21f3e95",
   "metadata": {},
   "outputs": [],
   "source": [
    "model.compile(\n",
    "    loss = 'sparse_categorical_crossentropy',\n",
    "    optimizer= 'sgd',\n",
    "    metrics=['accuracy']\n",
    "             )"
   ]
  },
  {
   "cell_type": "code",
   "execution_count": 25,
   "id": "7d8786d8",
   "metadata": {},
   "outputs": [
    {
     "name": "stdout",
     "output_type": "stream",
     "text": [
      "Epoch 1/10\n",
      "1594/1594 [==============================] - 4s 2ms/step - loss: 0.6158 - accuracy: 0.7896 - val_loss: 0.5018 - val_accuracy: 0.8244\n",
      "Epoch 2/10\n",
      "1594/1594 [==============================] - 4s 2ms/step - loss: 0.4598 - accuracy: 0.8378 - val_loss: 0.4818 - val_accuracy: 0.8219\n",
      "Epoch 3/10\n",
      "1594/1594 [==============================] - 3s 2ms/step - loss: 0.4274 - accuracy: 0.8482 - val_loss: 0.4296 - val_accuracy: 0.8447\n",
      "Epoch 4/10\n",
      "1594/1594 [==============================] - 3s 2ms/step - loss: 0.4090 - accuracy: 0.8538 - val_loss: 0.4164 - val_accuracy: 0.8527\n",
      "Epoch 5/10\n",
      "1594/1594 [==============================] - 3s 2ms/step - loss: 0.3938 - accuracy: 0.8601 - val_loss: 0.4064 - val_accuracy: 0.8571\n",
      "Epoch 6/10\n",
      "1594/1594 [==============================] - 3s 2ms/step - loss: 0.3809 - accuracy: 0.8638 - val_loss: 0.3975 - val_accuracy: 0.8574\n",
      "Epoch 7/10\n",
      "1594/1594 [==============================] - 3s 2ms/step - loss: 0.3722 - accuracy: 0.8684 - val_loss: 0.3870 - val_accuracy: 0.8598\n",
      "Epoch 8/10\n",
      "1594/1594 [==============================] - 3s 2ms/step - loss: 0.3623 - accuracy: 0.8696 - val_loss: 0.3746 - val_accuracy: 0.8664\n",
      "Epoch 9/10\n",
      "1594/1594 [==============================] - 3s 2ms/step - loss: 0.3549 - accuracy: 0.8739 - val_loss: 0.3732 - val_accuracy: 0.8639\n",
      "Epoch 10/10\n",
      "1594/1594 [==============================] - 3s 2ms/step - loss: 0.3482 - accuracy: 0.8754 - val_loss: 0.3704 - val_accuracy: 0.8663\n"
     ]
    }
   ],
   "source": [
    "history = model.fit(X_train,y_train,epochs = 10,validation_split=0.15)"
   ]
  },
  {
   "cell_type": "code",
   "execution_count": null,
   "id": "890a3b4a",
   "metadata": {},
   "outputs": [],
   "source": []
  }
 ],
 "metadata": {
  "kernelspec": {
   "display_name": "Python 3 (ipykernel)",
   "language": "python",
   "name": "python3"
  },
  "language_info": {
   "codemirror_mode": {
    "name": "ipython",
    "version": 3
   },
   "file_extension": ".py",
   "mimetype": "text/x-python",
   "name": "python",
   "nbconvert_exporter": "python",
   "pygments_lexer": "ipython3",
   "version": "3.11.3"
  }
 },
 "nbformat": 4,
 "nbformat_minor": 5
}
