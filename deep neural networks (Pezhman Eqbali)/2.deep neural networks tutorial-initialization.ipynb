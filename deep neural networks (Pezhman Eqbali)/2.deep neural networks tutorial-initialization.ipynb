{
 "cells": [
  {
   "cell_type": "code",
   "execution_count": 1,
   "id": "792f354d-e198-4092-8f1a-566305c1cd89",
   "metadata": {
    "tags": []
   },
   "outputs": [],
   "source": [
    "import tensorflow as tf\n",
    "from sklearn.datasets import fetch_california_housing\n",
    "from tensorflow import keras\n",
    "from tensorflow.keras import layers\n",
    "import pandas as pd\n",
    "import matplotlib.pyplot as plt "
   ]
  },
  {
   "cell_type": "code",
   "execution_count": 2,
   "id": "c964f2ec-4ef0-46b4-b3c8-85943e19ebd0",
   "metadata": {
    "tags": []
   },
   "outputs": [],
   "source": [
    "fmnist = keras.datasets.fashion_mnist"
   ]
  },
  {
   "cell_type": "code",
   "execution_count": 3,
   "id": "13cf4a6e-1610-4a16-9ac0-f5c81a60abe5",
   "metadata": {
    "tags": []
   },
   "outputs": [],
   "source": [
    "(X_train, y_train), (X_test, y_test) = fmnist.load_data()"
   ]
  },
  {
   "cell_type": "code",
   "execution_count": 4,
   "id": "6c48423f-dc8e-4670-abdc-589ac62dad4e",
   "metadata": {},
   "outputs": [
    {
     "name": "stdout",
     "output_type": "stream",
     "text": [
      "X_train : (60000, 28, 28)\n",
      "X_test : (10000, 28, 28)\n",
      "y_train : (60000,)\n",
      "y_test : (10000,)\n"
     ]
    }
   ],
   "source": [
    "print(f'X_train :',X_train.shape)\n",
    "print(f'X_test :',X_test.shape)\n",
    "print(f'y_train :',y_train.shape)\n",
    "print(f'y_test :',y_test.shape)"
   ]
  },
  {
   "cell_type": "code",
   "execution_count": 5,
   "id": "3408dbe5-81ee-424f-9a95-9bbbe3ab6780",
   "metadata": {
    "tags": []
   },
   "outputs": [],
   "source": [
    "#plt.imshow(X_train[0], cmap = 'gray')"
   ]
  },
  {
   "cell_type": "code",
   "execution_count": 6,
   "id": "18d29a78-1781-4f62-b9c1-d9a208a037e0",
   "metadata": {},
   "outputs": [],
   "source": [
    "#plt.imshow(y_train[0], cmap = 'gray')"
   ]
  },
  {
   "cell_type": "code",
   "execution_count": 7,
   "id": "cffb27eb-c517-4572-bafb-191b9cf88d7e",
   "metadata": {
    "tags": []
   },
   "outputs": [],
   "source": [
    "#X_train[0]"
   ]
  },
  {
   "cell_type": "code",
   "execution_count": 8,
   "id": "76ebf96b-d30d-4df6-8589-8b66ab8e8a74",
   "metadata": {
    "tags": []
   },
   "outputs": [],
   "source": [
    "#print(y_train[0])"
   ]
  },
  {
   "cell_type": "code",
   "execution_count": 5,
   "id": "9970b1f0-5616-4037-90ba-77b054af1646",
   "metadata": {
    "tags": []
   },
   "outputs": [],
   "source": [
    "X_train=X_train/255\n",
    "X_test=X_test/255"
   ]
  },
  {
   "cell_type": "code",
   "execution_count": 10,
   "id": "90114d0f-7cdf-472b-b1a4-e35ba9d67dac",
   "metadata": {
    "tags": []
   },
   "outputs": [],
   "source": [
    "#X_train[0]"
   ]
  },
  {
   "cell_type": "code",
   "execution_count": 11,
   "id": "42418d9e-4c4e-4b4a-877c-2eb2432935a5",
   "metadata": {
    "tags": []
   },
   "outputs": [],
   "source": [
    "#plt.imshow(X_train[0], cmap = 'gray')"
   ]
  },
  {
   "cell_type": "code",
   "execution_count": 7,
   "id": "b10f25e4",
   "metadata": {},
   "outputs": [],
   "source": [
    "from keras.initializers import GlorotNormal\n",
    "initializer_g = GlorotNormal(seed=None)\n",
    "from keras.initializers import HeNormal\n",
    "initializer_h = HeNormal(seed=None)"
   ]
  },
  {
   "cell_type": "code",
   "execution_count": 8,
   "id": "4acc9caa-e9fb-4936-b4cf-03ce8ee84328",
   "metadata": {},
   "outputs": [],
   "source": [
    "model = tf.keras.Sequential()\n",
    "model.add(keras.layers.Flatten(input_shape=[28,28]))\n",
    "model.add(keras.layers.Dense(100,activation='relu',kernel_initializer=initializer_g))\n",
    "model.add(keras.layers.Dense(75,activation='relu'))\n",
    "model.add(keras.layers.Dense(10,activation='softmax'))"
   ]
  },
  {
   "cell_type": "code",
   "execution_count": 9,
   "id": "22571a98-7096-4b26-bcb8-8ff5bfd2fccf",
   "metadata": {},
   "outputs": [
    {
     "name": "stdout",
     "output_type": "stream",
     "text": [
      "Model: \"sequential_1\"\n",
      "_________________________________________________________________\n",
      " Layer (type)                Output Shape              Param #   \n",
      "=================================================================\n",
      " flatten_1 (Flatten)         (None, 784)               0         \n",
      "                                                                 \n",
      " dense (Dense)               (None, 100)               78500     \n",
      "                                                                 \n",
      " dense_1 (Dense)             (None, 75)                7575      \n",
      "                                                                 \n",
      " dense_2 (Dense)             (None, 10)                760       \n",
      "                                                                 \n",
      "=================================================================\n",
      "Total params: 86835 (339.20 KB)\n",
      "Trainable params: 86835 (339.20 KB)\n",
      "Non-trainable params: 0 (0.00 Byte)\n",
      "_________________________________________________________________\n"
     ]
    }
   ],
   "source": [
    "model.summary()"
   ]
  },
  {
   "cell_type": "code",
   "execution_count": 10,
   "id": "85c301f3",
   "metadata": {},
   "outputs": [],
   "source": [
    "model.compile(\n",
    "    loss = 'sparse_categorical_crossentropy',\n",
    "    optimizer= 'sgd',\n",
    "    metrics=['accuracy']\n",
    "             )"
   ]
  },
  {
   "cell_type": "code",
   "execution_count": 11,
   "id": "1e07d984",
   "metadata": {},
   "outputs": [
    {
     "name": "stdout",
     "output_type": "stream",
     "text": [
      "Epoch 1/10\n",
      "1594/1594 [==============================] - 8s 4ms/step - loss: 0.8089 - accuracy: 0.7274 - val_loss: 0.5719 - val_accuracy: 0.7961\n",
      "Epoch 2/10\n",
      "1594/1594 [==============================] - 7s 4ms/step - loss: 0.5145 - accuracy: 0.8217 - val_loss: 0.4892 - val_accuracy: 0.8308\n",
      "Epoch 3/10\n",
      "1594/1594 [==============================] - 9s 6ms/step - loss: 0.4613 - accuracy: 0.8394 - val_loss: 0.4526 - val_accuracy: 0.8417\n",
      "Epoch 4/10\n",
      "1594/1594 [==============================] - 11s 7ms/step - loss: 0.4325 - accuracy: 0.8492 - val_loss: 0.4363 - val_accuracy: 0.8488\n",
      "Epoch 5/10\n",
      "1594/1594 [==============================] - 10s 6ms/step - loss: 0.4114 - accuracy: 0.8559 - val_loss: 0.4448 - val_accuracy: 0.8406\n",
      "Epoch 6/10\n",
      "1594/1594 [==============================] - 7s 5ms/step - loss: 0.3946 - accuracy: 0.8618 - val_loss: 0.4140 - val_accuracy: 0.8562\n",
      "Epoch 7/10\n",
      "1594/1594 [==============================] - 11s 7ms/step - loss: 0.3809 - accuracy: 0.8657 - val_loss: 0.4452 - val_accuracy: 0.8358\n",
      "Epoch 8/10\n",
      "1594/1594 [==============================] - 11s 7ms/step - loss: 0.3697 - accuracy: 0.8702 - val_loss: 0.4031 - val_accuracy: 0.8608\n",
      "Epoch 9/10\n",
      "1594/1594 [==============================] - 9s 5ms/step - loss: 0.3597 - accuracy: 0.8737 - val_loss: 0.3908 - val_accuracy: 0.8668\n",
      "Epoch 10/10\n",
      "1594/1594 [==============================] - 12s 7ms/step - loss: 0.3499 - accuracy: 0.8761 - val_loss: 0.3768 - val_accuracy: 0.8709\n"
     ]
    }
   ],
   "source": [
    "history = model.fit(X_train,y_train,epochs = 10,validation_split=0.15)"
   ]
  },
  {
   "cell_type": "code",
   "execution_count": 12,
   "id": "5a5469e8",
   "metadata": {},
   "outputs": [
    {
     "name": "stdout",
     "output_type": "stream",
     "text": [
      "313/313 [==============================] - 1s 3ms/step\n",
      "Precision: 0.8618849748396782\n",
      "Recall: 0.8592000000000001\n",
      "F1 Score: 0.8593699601125673\n",
      "Confusion Matrix: \n",
      "[[801   1  10  34   4   1 134   0  15   0]\n",
      " [  3 964   1  23   4   0   4   0   1   0]\n",
      " [ 14   3 684  14 157   1 112   0  15   0]\n",
      " [ 27  11  10 850  50   0  46   0   6   0]\n",
      " [  0   1  62  19 832   0  76   0  10   0]\n",
      " [  0   0   0   1   0 925   0  47   5  22]\n",
      " [107   1  69  23  91   0 683   0  26   0]\n",
      " [  0   0   0   0   0  28   0 940   0  32]\n",
      " [  2   1   2   5   5   2  12   5 966   0]\n",
      " [  0   0   0   0   0  10   0  42   1 947]]\n"
     ]
    }
   ],
   "source": [
    "from sklearn.metrics import confusion_matrix, precision_score, recall_score, f1_score\n",
    "import numpy as np\n",
    "\n",
    "# Get the model's predictions\n",
    "y_pred = np.argmax(model.predict(X_test), axis=-1)\n",
    "\n",
    "# Calculate Precision\n",
    "precision = precision_score(y_test, y_pred, average='macro')\n",
    "print(f'Precision: {precision}')\n",
    "\n",
    "# Calculate Recall\n",
    "recall = recall_score(y_test, y_pred, average='macro')\n",
    "print(f'Recall: {recall}')\n",
    "\n",
    "# Calculate F1 score\n",
    "f1 = f1_score(y_test, y_pred, average='macro')\n",
    "print(f'F1 Score: {f1}')\n",
    "\n",
    "# Calculate Confusion Matrix\n",
    "conf_mat = confusion_matrix(y_test, y_pred)\n",
    "print(f'Confusion Matrix: \\n{conf_mat}')\n"
   ]
  },
  {
   "cell_type": "markdown",
   "id": "f79a3a45",
   "metadata": {},
   "source": [
    "model 2"
   ]
  },
  {
   "cell_type": "code",
   "execution_count": 13,
   "id": "9a5de69a",
   "metadata": {},
   "outputs": [
    {
     "name": "stderr",
     "output_type": "stream",
     "text": [
      "C:\\Anaconda\\Lib\\site-packages\\keras\\src\\initializers\\initializers.py:120: UserWarning: The initializer HeNormal is unseeded and being called multiple times, which will return identical values each time (even if the initializer is unseeded). Please update your code to provide a seed to the initializer, or avoid using the same initializer instance more than once.\n",
      "  warnings.warn(\n"
     ]
    }
   ],
   "source": [
    "model = tf.keras.Sequential()\n",
    "model.add(keras.layers.Flatten(input_shape=[28,28]))\n",
    "model.add(keras.layers.Dense(100,activation='relu',kernel_initializer=initializer_h))\n",
    "model.add(keras.layers.Dense(75,activation='relu',kernel_initializer=initializer_h))\n",
    "model.add(keras.layers.Dense(10,activation='softmax'))"
   ]
  },
  {
   "cell_type": "code",
   "execution_count": 14,
   "id": "441882b3",
   "metadata": {},
   "outputs": [],
   "source": [
    "model.compile(\n",
    "    loss = 'sparse_categorical_crossentropy',\n",
    "    optimizer= 'sgd',\n",
    "    metrics=['accuracy']\n",
    "             )"
   ]
  },
  {
   "cell_type": "code",
   "execution_count": 15,
   "id": "888bd7fa",
   "metadata": {},
   "outputs": [
    {
     "name": "stdout",
     "output_type": "stream",
     "text": [
      "Epoch 1/10\n",
      "1594/1594 [==============================] - 10s 5ms/step - loss: 0.7601 - accuracy: 0.7481 - val_loss: 0.5615 - val_accuracy: 0.7999\n",
      "Epoch 2/10\n",
      "1594/1594 [==============================] - 9s 6ms/step - loss: 0.5038 - accuracy: 0.8255 - val_loss: 0.4865 - val_accuracy: 0.8301\n",
      "Epoch 3/10\n",
      "1594/1594 [==============================] - 9s 6ms/step - loss: 0.4578 - accuracy: 0.8407 - val_loss: 0.4451 - val_accuracy: 0.8413\n",
      "Epoch 4/10\n",
      "1594/1594 [==============================] - 8s 5ms/step - loss: 0.4311 - accuracy: 0.8480 - val_loss: 0.4269 - val_accuracy: 0.8481\n",
      "Epoch 5/10\n",
      "1594/1594 [==============================] - 9s 5ms/step - loss: 0.4119 - accuracy: 0.8552 - val_loss: 0.4304 - val_accuracy: 0.8450\n",
      "Epoch 6/10\n",
      "1594/1594 [==============================] - 9s 6ms/step - loss: 0.3965 - accuracy: 0.8606 - val_loss: 0.4006 - val_accuracy: 0.8559\n",
      "Epoch 7/10\n",
      "1594/1594 [==============================] - 11s 7ms/step - loss: 0.3841 - accuracy: 0.8645 - val_loss: 0.3906 - val_accuracy: 0.8611\n",
      "Epoch 8/10\n",
      "1594/1594 [==============================] - 10s 6ms/step - loss: 0.3717 - accuracy: 0.8688 - val_loss: 0.3968 - val_accuracy: 0.8548\n",
      "Epoch 9/10\n",
      "1594/1594 [==============================] - 11s 7ms/step - loss: 0.3618 - accuracy: 0.8714 - val_loss: 0.3737 - val_accuracy: 0.8676\n",
      "Epoch 10/10\n",
      "1594/1594 [==============================] - 12s 8ms/step - loss: 0.3525 - accuracy: 0.8744 - val_loss: 0.3753 - val_accuracy: 0.8633\n"
     ]
    }
   ],
   "source": [
    "history = model.fit(X_train,y_train,epochs = 10,validation_split=0.15)"
   ]
  },
  {
   "cell_type": "code",
   "execution_count": 16,
   "id": "dc7a995e",
   "metadata": {},
   "outputs": [
    {
     "name": "stdout",
     "output_type": "stream",
     "text": [
      "313/313 [==============================] - 1s 3ms/step\n",
      "Precision: 0.8578035679054755\n",
      "Recall: 0.8567\n",
      "F1 Score: 0.8561232090479697\n",
      "Confusion Matrix: \n",
      "[[807   0   8  77   4   2  91   1  10   0]\n",
      " [  3 951   3  36   3   0   3   0   1   0]\n",
      " [ 18   2 708  24 135   0 107   0   6   0]\n",
      " [ 20   6   7 923  18   1  22   0   3   0]\n",
      " [  0   0  76  64 766   1  89   0   4   0]\n",
      " [  0   0   0   1   0 936   0  43   2  18]\n",
      " [134   1  75  68  68   1 635   0  18   0]\n",
      " [  0   0   0   0   0  24   0 941   0  35]\n",
      " [  3   1   8  12   3   2  16   7 948   0]\n",
      " [  0   0   0   0   0   3   1  44   0 952]]\n"
     ]
    }
   ],
   "source": [
    "from sklearn.metrics import confusion_matrix, precision_score, recall_score, f1_score\n",
    "import numpy as np\n",
    "\n",
    "# Get the model's predictions\n",
    "y_pred = np.argmax(model.predict(X_test), axis=-1)\n",
    "\n",
    "# Calculate Precision\n",
    "precision = precision_score(y_test, y_pred, average='macro')\n",
    "print(f'Precision: {precision}')\n",
    "\n",
    "# Calculate Recall\n",
    "recall = recall_score(y_test, y_pred, average='macro')\n",
    "print(f'Recall: {recall}')\n",
    "\n",
    "# Calculate F1 score\n",
    "f1 = f1_score(y_test, y_pred, average='macro')\n",
    "print(f'F1 Score: {f1}')\n",
    "\n",
    "# Calculate Confusion Matrix\n",
    "conf_mat = confusion_matrix(y_test, y_pred)\n",
    "print(f'Confusion Matrix: \\n{conf_mat}')\n"
   ]
  },
  {
   "cell_type": "markdown",
   "id": "952c388b",
   "metadata": {},
   "source": [
    "model 3"
   ]
  },
  {
   "cell_type": "code",
   "execution_count": 17,
   "id": "74df3b89",
   "metadata": {},
   "outputs": [
    {
     "name": "stderr",
     "output_type": "stream",
     "text": [
      "C:\\Anaconda\\Lib\\site-packages\\keras\\src\\initializers\\initializers.py:120: UserWarning: The initializer HeNormal is unseeded and being called multiple times, which will return identical values each time (even if the initializer is unseeded). Please update your code to provide a seed to the initializer, or avoid using the same initializer instance more than once.\n",
      "  warnings.warn(\n"
     ]
    }
   ],
   "source": [
    "from keras.initializers import GlorotUniform\n",
    "initializer_g = GlorotUniform(seed=None)\n",
    "model = tf.keras.Sequential()\n",
    "model.add(keras.layers.Flatten(input_shape=[28,28]))\n",
    "model.add(keras.layers.Dense(100,activation='relu',kernel_initializer=initializer_h))\n",
    "model.add(keras.layers.Dense(75,activation='relu',kernel_initializer=initializer_h))\n",
    "model.add(keras.layers.Dense(10,activation='softmax',kernel_initializer=initializer_g))"
   ]
  },
  {
   "cell_type": "code",
   "execution_count": 18,
   "id": "d5ec8848",
   "metadata": {},
   "outputs": [],
   "source": [
    "model.compile(\n",
    "    loss = 'sparse_categorical_crossentropy',\n",
    "    optimizer= 'sgd',\n",
    "    metrics=['accuracy']\n",
    "             )"
   ]
  },
  {
   "cell_type": "code",
   "execution_count": 19,
   "id": "e635f1f6",
   "metadata": {},
   "outputs": [
    {
     "name": "stdout",
     "output_type": "stream",
     "text": [
      "Epoch 1/10\n",
      "1594/1594 [==============================] - 7s 4ms/step - loss: 0.7700 - accuracy: 0.7420 - val_loss: 0.5755 - val_accuracy: 0.8028\n",
      "Epoch 2/10\n",
      "1594/1594 [==============================] - 9s 5ms/step - loss: 0.5067 - accuracy: 0.8240 - val_loss: 0.5243 - val_accuracy: 0.8136\n",
      "Epoch 3/10\n",
      "1594/1594 [==============================] - 10s 6ms/step - loss: 0.4581 - accuracy: 0.8401 - val_loss: 0.4538 - val_accuracy: 0.8389\n",
      "Epoch 4/10\n",
      "1594/1594 [==============================] - 12s 8ms/step - loss: 0.4302 - accuracy: 0.8495 - val_loss: 0.4400 - val_accuracy: 0.8406\n",
      "Epoch 5/10\n",
      "1594/1594 [==============================] - 11s 7ms/step - loss: 0.4098 - accuracy: 0.8559 - val_loss: 0.4253 - val_accuracy: 0.8482\n",
      "Epoch 6/10\n",
      "1594/1594 [==============================] - 7s 4ms/step - loss: 0.3944 - accuracy: 0.8618 - val_loss: 0.4046 - val_accuracy: 0.8543\n",
      "Epoch 7/10\n",
      "1594/1594 [==============================] - 9s 6ms/step - loss: 0.3809 - accuracy: 0.8651 - val_loss: 0.4520 - val_accuracy: 0.8416\n",
      "Epoch 8/10\n",
      "1594/1594 [==============================] - 8s 5ms/step - loss: 0.3709 - accuracy: 0.8677 - val_loss: 0.4093 - val_accuracy: 0.8538\n",
      "Epoch 9/10\n",
      "1594/1594 [==============================] - 7s 4ms/step - loss: 0.3609 - accuracy: 0.8708 - val_loss: 0.4007 - val_accuracy: 0.8578\n",
      "Epoch 10/10\n",
      "1594/1594 [==============================] - 9s 6ms/step - loss: 0.3508 - accuracy: 0.8749 - val_loss: 0.3808 - val_accuracy: 0.8641\n"
     ]
    }
   ],
   "source": [
    "history = model.fit(X_train,y_train,epochs = 10,validation_split=0.15)"
   ]
  },
  {
   "cell_type": "code",
   "execution_count": 20,
   "id": "9e2bac8c",
   "metadata": {},
   "outputs": [
    {
     "name": "stdout",
     "output_type": "stream",
     "text": [
      "313/313 [==============================] - 1s 4ms/step\n",
      "Precision: 0.8585832807521605\n",
      "Recall: 0.8567\n",
      "F1 Score: 0.8568049933303914\n",
      "Confusion Matrix: \n",
      "[[735   4  22  56   3   2 165   1  12   0]\n",
      " [  0 962   2  29   2   0   3   0   2   0]\n",
      " [ 13   5 762  15 119   2  76   0   8   0]\n",
      " [ 14   8  11 900  25   0  39   0   3   0]\n",
      " [  0   2  90  43 757   1 100   0   7   0]\n",
      " [  0   0   0   1   0 936   0  46   1  16]\n",
      " [ 99   1  94  43  69   0 674   0  20   0]\n",
      " [  0   0   0   0   0  24   0 957   0  19]\n",
      " [  1   1   9   8   3   4  10   6 957   1]\n",
      " [  0   0   0   0   0  16   0  56   1 927]]\n"
     ]
    }
   ],
   "source": [
    "from sklearn.metrics import confusion_matrix, precision_score, recall_score, f1_score\n",
    "import numpy as np\n",
    "\n",
    "# Get the model's predictions\n",
    "y_pred = np.argmax(model.predict(X_test), axis=-1)\n",
    "\n",
    "# Calculate Precision\n",
    "precision = precision_score(y_test, y_pred, average='macro')\n",
    "print(f'Precision: {precision}')\n",
    "\n",
    "# Calculate Recall\n",
    "recall = recall_score(y_test, y_pred, average='macro')\n",
    "print(f'Recall: {recall}')\n",
    "\n",
    "# Calculate F1 score\n",
    "f1 = f1_score(y_test, y_pred, average='macro')\n",
    "print(f'F1 Score: {f1}')\n",
    "\n",
    "# Calculate Confusion Matrix\n",
    "conf_mat = confusion_matrix(y_test, y_pred)\n",
    "print(f'Confusion Matrix: \\n{conf_mat}')\n"
   ]
  },
  {
   "cell_type": "code",
   "execution_count": null,
   "id": "2dfbbf79",
   "metadata": {},
   "outputs": [],
   "source": []
  }
 ],
 "metadata": {
  "kernelspec": {
   "display_name": "Python 3 (ipykernel)",
   "language": "python",
   "name": "python3"
  },
  "language_info": {
   "codemirror_mode": {
    "name": "ipython",
    "version": 3
   },
   "file_extension": ".py",
   "mimetype": "text/x-python",
   "name": "python",
   "nbconvert_exporter": "python",
   "pygments_lexer": "ipython3",
   "version": "3.11.3"
  }
 },
 "nbformat": 4,
 "nbformat_minor": 5
}
