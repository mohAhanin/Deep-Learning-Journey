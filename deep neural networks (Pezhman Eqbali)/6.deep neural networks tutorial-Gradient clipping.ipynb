{
 "cells": [
  {
   "cell_type": "code",
   "execution_count": 1,
   "id": "792f354d-e198-4092-8f1a-566305c1cd89",
   "metadata": {
    "tags": []
   },
   "outputs": [],
   "source": [
    "import tensorflow as tf\n",
    "from sklearn.datasets import fetch_california_housing\n",
    "from tensorflow import keras\n",
    "from tensorflow.keras import layers\n",
    "import pandas as pd\n",
    "import matplotlib.pyplot as plt \n",
    "import numpy as np\n",
    "from sklearn.metrics import confusion_matrix, accuracy_score, precision_score, recall_score, f1_score, roc_auc_score\n"
   ]
  },
  {
   "cell_type": "code",
   "execution_count": 2,
   "id": "c964f2ec-4ef0-46b4-b3c8-85943e19ebd0",
   "metadata": {
    "tags": []
   },
   "outputs": [],
   "source": [
    "fmnist = keras.datasets.fashion_mnist"
   ]
  },
  {
   "cell_type": "code",
   "execution_count": 3,
   "id": "13cf4a6e-1610-4a16-9ac0-f5c81a60abe5",
   "metadata": {
    "tags": []
   },
   "outputs": [],
   "source": [
    "(X_train, y_train), (X_test, y_test) = fmnist.load_data()"
   ]
  },
  {
   "cell_type": "code",
   "execution_count": 4,
   "id": "6c48423f-dc8e-4670-abdc-589ac62dad4e",
   "metadata": {},
   "outputs": [
    {
     "name": "stdout",
     "output_type": "stream",
     "text": [
      "X_train : (60000, 28, 28)\n",
      "X_test : (10000, 28, 28)\n",
      "y_train : (60000,)\n",
      "y_test : (10000,)\n"
     ]
    }
   ],
   "source": [
    "print(f'X_train :',X_train.shape)\n",
    "print(f'X_test :',X_test.shape)\n",
    "print(f'y_train :',y_train.shape)\n",
    "print(f'y_test :',y_test.shape)"
   ]
  },
  {
   "cell_type": "code",
   "execution_count": 5,
   "id": "3408dbe5-81ee-424f-9a95-9bbbe3ab6780",
   "metadata": {
    "tags": []
   },
   "outputs": [],
   "source": [
    "#plt.imshow(X_train[0], cmap = 'gray')"
   ]
  },
  {
   "cell_type": "code",
   "execution_count": 6,
   "id": "18d29a78-1781-4f62-b9c1-d9a208a037e0",
   "metadata": {},
   "outputs": [],
   "source": [
    "#plt.imshow(y_train[0], cmap = 'gray')"
   ]
  },
  {
   "cell_type": "code",
   "execution_count": 7,
   "id": "cffb27eb-c517-4572-bafb-191b9cf88d7e",
   "metadata": {
    "tags": []
   },
   "outputs": [],
   "source": [
    "#X_train[0]"
   ]
  },
  {
   "cell_type": "code",
   "execution_count": 8,
   "id": "76ebf96b-d30d-4df6-8589-8b66ab8e8a74",
   "metadata": {
    "tags": []
   },
   "outputs": [],
   "source": [
    "#print(y_train[0])"
   ]
  },
  {
   "cell_type": "code",
   "execution_count": 9,
   "id": "9970b1f0-5616-4037-90ba-77b054af1646",
   "metadata": {
    "tags": []
   },
   "outputs": [],
   "source": [
    "X_train = X_train/255\n",
    "X_test = X_test/255"
   ]
  },
  {
   "cell_type": "code",
   "execution_count": 10,
   "id": "989f2726",
   "metadata": {},
   "outputs": [
    {
     "data": {
      "text/plain": [
       "9"
      ]
     },
     "execution_count": 10,
     "metadata": {},
     "output_type": "execute_result"
    }
   ],
   "source": [
    "y_test.max()"
   ]
  },
  {
   "cell_type": "code",
   "execution_count": 11,
   "id": "90114d0f-7cdf-472b-b1a4-e35ba9d67dac",
   "metadata": {
    "tags": []
   },
   "outputs": [],
   "source": [
    "#X_train[0]"
   ]
  },
  {
   "cell_type": "code",
   "execution_count": 12,
   "id": "42418d9e-4c4e-4b4a-877c-2eb2432935a5",
   "metadata": {
    "tags": []
   },
   "outputs": [],
   "source": [
    "#plt.imshow(X_train[0], cmap = 'gray')"
   ]
  },
  {
   "cell_type": "code",
   "execution_count": 13,
   "id": "b10f25e4",
   "metadata": {},
   "outputs": [],
   "source": [
    "from keras.initializers import GlorotNormal\n",
    "initializer = GlorotNormal(seed=None)\n",
    "from keras.initializers import HeNormal\n",
    "initializer = HeNormal(seed=None)"
   ]
  },
  {
   "cell_type": "code",
   "execution_count": 14,
   "id": "4acc9caa-e9fb-4936-b4cf-03ce8ee84328",
   "metadata": {},
   "outputs": [],
   "source": [
    "model = tf.keras.Sequential()\n",
    "model.add(keras.layers.Flatten(input_shape=[28,28]))\n",
    "model.add(keras.layers.Dense(100,activation='relu',kernel_initializer=initializer))\n",
    "model.add(keras.layers.Dense(75,activation='relu'))\n",
    "model.add(keras.layers.Dense(10,activation='softmax'))"
   ]
  },
  {
   "cell_type": "code",
   "execution_count": 15,
   "id": "22571a98-7096-4b26-bcb8-8ff5bfd2fccf",
   "metadata": {},
   "outputs": [
    {
     "name": "stdout",
     "output_type": "stream",
     "text": [
      "Model: \"sequential\"\n",
      "_________________________________________________________________\n",
      " Layer (type)                Output Shape              Param #   \n",
      "=================================================================\n",
      " flatten (Flatten)           (None, 784)               0         \n",
      "                                                                 \n",
      " dense (Dense)               (None, 100)               78500     \n",
      "                                                                 \n",
      " dense_1 (Dense)             (None, 75)                7575      \n",
      "                                                                 \n",
      " dense_2 (Dense)             (None, 10)                760       \n",
      "                                                                 \n",
      "=================================================================\n",
      "Total params: 86835 (339.20 KB)\n",
      "Trainable params: 86835 (339.20 KB)\n",
      "Non-trainable params: 0 (0.00 Byte)\n",
      "_________________________________________________________________\n"
     ]
    }
   ],
   "source": [
    "model.summary()"
   ]
  },
  {
   "cell_type": "code",
   "execution_count": 16,
   "id": "85c301f3",
   "metadata": {},
   "outputs": [],
   "source": [
    "model.compile(\n",
    "    loss = 'sparse_categorical_crossentropy',\n",
    "    optimizer= 'sgd',\n",
    "    metrics=['accuracy']\n",
    "             )"
   ]
  },
  {
   "cell_type": "code",
   "execution_count": 17,
   "id": "1e07d984",
   "metadata": {},
   "outputs": [
    {
     "name": "stdout",
     "output_type": "stream",
     "text": [
      "Epoch 1/10\n",
      "1594/1594 [==============================] - 8s 4ms/step - loss: 0.7674 - accuracy: 0.7476 - val_loss: 0.5428 - val_accuracy: 0.8161\n",
      "Epoch 2/10\n",
      "1594/1594 [==============================] - 6s 4ms/step - loss: 0.5037 - accuracy: 0.8244 - val_loss: 0.4878 - val_accuracy: 0.8269\n",
      "Epoch 3/10\n",
      "1594/1594 [==============================] - 7s 4ms/step - loss: 0.4570 - accuracy: 0.8398 - val_loss: 0.4681 - val_accuracy: 0.8312\n",
      "Epoch 4/10\n",
      "1594/1594 [==============================] - 7s 4ms/step - loss: 0.4300 - accuracy: 0.8486 - val_loss: 0.4304 - val_accuracy: 0.8456\n",
      "Epoch 5/10\n",
      "1594/1594 [==============================] - 6s 4ms/step - loss: 0.4090 - accuracy: 0.8558 - val_loss: 0.4203 - val_accuracy: 0.8543\n",
      "Epoch 6/10\n",
      "1594/1594 [==============================] - 6s 4ms/step - loss: 0.3933 - accuracy: 0.8628 - val_loss: 0.4072 - val_accuracy: 0.8537\n",
      "Epoch 7/10\n",
      "1594/1594 [==============================] - 7s 4ms/step - loss: 0.3811 - accuracy: 0.8652 - val_loss: 0.4078 - val_accuracy: 0.8572\n",
      "Epoch 8/10\n",
      "1594/1594 [==============================] - 6s 4ms/step - loss: 0.3690 - accuracy: 0.8703 - val_loss: 0.3920 - val_accuracy: 0.8626\n",
      "Epoch 9/10\n",
      "1594/1594 [==============================] - 6s 4ms/step - loss: 0.3586 - accuracy: 0.8733 - val_loss: 0.3977 - val_accuracy: 0.8593\n",
      "Epoch 10/10\n",
      "1594/1594 [==============================] - 6s 4ms/step - loss: 0.3496 - accuracy: 0.8758 - val_loss: 0.3817 - val_accuracy: 0.8682\n"
     ]
    }
   ],
   "source": [
    "history = model.fit(X_train,y_train,epochs = 10,validation_split=0.15)"
   ]
  },
  {
   "cell_type": "code",
   "execution_count": 18,
   "id": "93dc153b",
   "metadata": {},
   "outputs": [
    {
     "name": "stdout",
     "output_type": "stream",
     "text": [
      "313/313 [==============================] - 1s 2ms/step\n",
      "Confusion Matrix:\n",
      " [[731   2  13  49   7   1 182   0  15   0]\n",
      " [  2 955   2  31   6   0   3   0   1   0]\n",
      " [ 15   1 768   9 147   1  51   0   8   0]\n",
      " [ 14   8  17 873  49   0  32   0   7   0]\n",
      " [  0   0  91  19 851   1  32   0   6   0]\n",
      " [  0   0   0   1   0 955   0  32   2  10]\n",
      " [ 88   1 121  33 128   1 603   0  25   0]\n",
      " [  0   0   0   0   0  36   0 937   0  27]\n",
      " [  3   1   4   6   6   4   9   4 963   0]\n",
      " [  1   0   0   0   0  19   0  38   1 941]]\n",
      "Accuracy:  0.8577\n",
      "Precision:  0.8591263469440431\n",
      "Recall:  0.8577\n",
      "F1 Score:  0.8570959042388311\n"
     ]
    }
   ],
   "source": [
    "y_pred = model.predict(X_test)\n",
    "y_pred\n",
    "\n",
    "y_pred_class = np.argmax(y_pred, axis=1) \n",
    "y_pred_class\n",
    "\n",
    "# Confusion Matrix\n",
    "cm = confusion_matrix(y_test, y_pred_class)\n",
    "print(\"Confusion Matrix:\\n\", cm)\n",
    "\n",
    "# Accuracy\n",
    "accuracy = accuracy_score(y_test, y_pred_class)\n",
    "print(\"Accuracy: \", accuracy)\n",
    "\n",
    "# Precision\n",
    "precision = precision_score(y_test, y_pred_class, average='weighted')\n",
    "print(\"Precision: \", precision)\n",
    "\n",
    "# Recall\n",
    "recall = recall_score(y_test, y_pred_class, average='weighted')\n",
    "print(\"Recall: \", recall)\n",
    "\n",
    "# F1 Score\n",
    "f1 = f1_score(y_test, y_pred_class, average='weighted')\n",
    "print(\"F1 Score: \", f1)\n",
    "\n",
    "# ROC AUC Score\n",
    "# roc_auc = roc_auc_score(y_test, y_pred_class, multi_class='ovr')\n",
    "# print(\"ROC AUC Score: \", roc_auc)\n"
   ]
  },
  {
   "cell_type": "markdown",
   "id": "f79a3a45",
   "metadata": {},
   "source": [
    "model 2"
   ]
  },
  {
   "cell_type": "code",
   "execution_count": 19,
   "id": "9a5de69a",
   "metadata": {},
   "outputs": [
    {
     "name": "stderr",
     "output_type": "stream",
     "text": [
      "C:\\Anaconda\\Lib\\site-packages\\keras\\src\\initializers\\initializers.py:120: UserWarning: The initializer HeNormal is unseeded and being called multiple times, which will return identical values each time (even if the initializer is unseeded). Please update your code to provide a seed to the initializer, or avoid using the same initializer instance more than once.\n",
      "  warnings.warn(\n"
     ]
    }
   ],
   "source": [
    "model = tf.keras.Sequential()\n",
    "model.add(keras.layers.Flatten(input_shape=[28,28]))\n",
    "model.add(keras.layers.Dense(100,activation='relu',kernel_initializer=initializer))\n",
    "model.add(keras.layers.Dense(75,activation='relu',kernel_initializer=initializer))\n",
    "model.add(keras.layers.Dense(10,activation='softmax'))"
   ]
  },
  {
   "cell_type": "code",
   "execution_count": 20,
   "id": "441882b3",
   "metadata": {},
   "outputs": [],
   "source": [
    "model.compile(\n",
    "    loss = 'sparse_categorical_crossentropy',\n",
    "    optimizer= 'sgd',\n",
    "    metrics=['accuracy']\n",
    "             )"
   ]
  },
  {
   "cell_type": "code",
   "execution_count": 21,
   "id": "888bd7fa",
   "metadata": {},
   "outputs": [
    {
     "name": "stdout",
     "output_type": "stream",
     "text": [
      "Epoch 1/10\n",
      "1594/1594 [==============================] - 8s 4ms/step - loss: 0.7487 - accuracy: 0.7544 - val_loss: 0.5332 - val_accuracy: 0.8158\n",
      "Epoch 2/10\n",
      "1594/1594 [==============================] - 8s 5ms/step - loss: 0.4995 - accuracy: 0.8265 - val_loss: 0.4756 - val_accuracy: 0.8328\n",
      "Epoch 3/10\n",
      "1594/1594 [==============================] - 8s 5ms/step - loss: 0.4533 - accuracy: 0.8416 - val_loss: 0.4571 - val_accuracy: 0.8380\n",
      "Epoch 4/10\n",
      "1594/1594 [==============================] - 8s 5ms/step - loss: 0.4259 - accuracy: 0.8502 - val_loss: 0.4387 - val_accuracy: 0.8476\n",
      "Epoch 5/10\n",
      "1594/1594 [==============================] - 10s 6ms/step - loss: 0.4058 - accuracy: 0.8571 - val_loss: 0.4318 - val_accuracy: 0.8441\n",
      "Epoch 6/10\n",
      "1594/1594 [==============================] - 11s 7ms/step - loss: 0.3900 - accuracy: 0.8621 - val_loss: 0.3938 - val_accuracy: 0.8613\n",
      "Epoch 7/10\n",
      "1594/1594 [==============================] - 9s 6ms/step - loss: 0.3761 - accuracy: 0.8671 - val_loss: 0.3943 - val_accuracy: 0.8594\n",
      "Epoch 8/10\n",
      "1594/1594 [==============================] - 10s 6ms/step - loss: 0.3660 - accuracy: 0.8713 - val_loss: 0.4040 - val_accuracy: 0.8541\n",
      "Epoch 9/10\n",
      "1594/1594 [==============================] - 9s 5ms/step - loss: 0.3557 - accuracy: 0.8734 - val_loss: 0.3739 - val_accuracy: 0.8653\n",
      "Epoch 10/10\n",
      "1594/1594 [==============================] - 8s 5ms/step - loss: 0.3470 - accuracy: 0.8753 - val_loss: 0.3654 - val_accuracy: 0.8708\n"
     ]
    }
   ],
   "source": [
    "history = model.fit(X_train,y_train,epochs = 10,validation_split=0.15)"
   ]
  },
  {
   "cell_type": "code",
   "execution_count": 22,
   "id": "aa147dc5",
   "metadata": {},
   "outputs": [
    {
     "name": "stdout",
     "output_type": "stream",
     "text": [
      "313/313 [==============================] - 1s 3ms/step\n",
      "Confusion Matrix:\n",
      " [[839   2  11  49   3   2  84   0  10   0]\n",
      " [  2 955   3  33   2   0   5   0   0   0]\n",
      " [ 19   3 702  16 165   1  91   0   3   0]\n",
      " [ 22   8   5 903  26   0  31   0   5   0]\n",
      " [  0   1  65  43 817   0  70   0   4   0]\n",
      " [  0   0   0   1   0 931   0  44   3  21]\n",
      " [149   3  83  37  85   1 625   0  17   0]\n",
      " [  0   0   0   0   0  16   0 942   0  42]\n",
      " [  6   1   8   7   5   2  11   6 954   0]\n",
      " [  0   0   0   0   0  11   1  36   0 952]]\n",
      "Accuracy:  0.862\n",
      "Precision:  0.8619629781680417\n",
      "Recall:  0.862\n",
      "F1 Score:  0.8610950008511643\n"
     ]
    }
   ],
   "source": [
    "y_pred = model.predict(X_test)\n",
    "y_pred\n",
    "\n",
    "y_pred_class = np.argmax(y_pred, axis=1) \n",
    "y_pred_class\n",
    "\n",
    "# Confusion Matrix\n",
    "cm = confusion_matrix(y_test, y_pred_class)\n",
    "print(\"Confusion Matrix:\\n\", cm)\n",
    "\n",
    "# Accuracy\n",
    "accuracy = accuracy_score(y_test, y_pred_class)\n",
    "print(\"Accuracy: \", accuracy)\n",
    "\n",
    "# Precision\n",
    "precision = precision_score(y_test, y_pred_class, average='weighted')\n",
    "print(\"Precision: \", precision)\n",
    "\n",
    "# Recall\n",
    "recall = recall_score(y_test, y_pred_class, average='weighted')\n",
    "print(\"Recall: \", recall)\n",
    "\n",
    "# F1 Score\n",
    "f1 = f1_score(y_test, y_pred_class, average='weighted')\n",
    "print(\"F1 Score: \", f1)\n",
    "\n",
    "# ROC AUC Score\n",
    "# roc_auc = roc_auc_score(y_test, y_pred_class, multi_class='ovr')\n",
    "# print(\"ROC AUC Score: \", roc_auc)\n"
   ]
  },
  {
   "cell_type": "markdown",
   "id": "952c388b",
   "metadata": {},
   "source": [
    "model 3"
   ]
  },
  {
   "cell_type": "code",
   "execution_count": 23,
   "id": "74df3b89",
   "metadata": {},
   "outputs": [
    {
     "name": "stderr",
     "output_type": "stream",
     "text": [
      "C:\\Anaconda\\Lib\\site-packages\\keras\\src\\initializers\\initializers.py:120: UserWarning: The initializer HeNormal is unseeded and being called multiple times, which will return identical values each time (even if the initializer is unseeded). Please update your code to provide a seed to the initializer, or avoid using the same initializer instance more than once.\n",
      "  warnings.warn(\n"
     ]
    },
    {
     "data": {
      "text/plain": [
       "<keras.src.layers.normalization.batch_normalization.BatchNormalization at 0x22f96beacd0>"
      ]
     },
     "execution_count": 23,
     "metadata": {},
     "output_type": "execute_result"
    }
   ],
   "source": [
    "from keras.initializers import GlorotUniform\n",
    "from keras.activations import selu\n",
    "\n",
    "initializer_g = GlorotUniform(seed=None)\n",
    "model = tf.keras.Sequential()\n",
    "model.add(keras.layers.Flatten(input_shape=[28,28]))\n",
    "model.add(keras.layers.Dense(100,activation=selu,kernel_initializer=initializer))\n",
    "keras.layers.BatchNormalization()\n",
    "model.add(keras.layers.Dense(75,activation=selu,kernel_initializer=initializer))\n",
    "keras.layers.BatchNormalization()\n",
    "model.add(keras.layers.Dense(10,activation='softmax',kernel_initializer=initializer_g))\n",
    "keras.layers.BatchNormalization()\n"
   ]
  },
  {
   "cell_type": "code",
   "execution_count": 24,
   "id": "d5ec8848",
   "metadata": {},
   "outputs": [],
   "source": [
    "model.compile(\n",
    "    loss = 'sparse_categorical_crossentropy',\n",
    "    optimizer= 'sgd',\n",
    "    metrics=['accuracy']\n",
    "             )"
   ]
  },
  {
   "cell_type": "code",
   "execution_count": 25,
   "id": "e635f1f6",
   "metadata": {},
   "outputs": [
    {
     "name": "stdout",
     "output_type": "stream",
     "text": [
      "Epoch 1/30\n",
      "1594/1594 [==============================] - 7s 4ms/step - loss: 0.6018 - accuracy: 0.7929 - val_loss: 0.4756 - val_accuracy: 0.8297\n",
      "Epoch 2/30\n",
      "1594/1594 [==============================] - 6s 4ms/step - loss: 0.4584 - accuracy: 0.8365 - val_loss: 0.4456 - val_accuracy: 0.8391\n",
      "Epoch 3/30\n",
      "1594/1594 [==============================] - 6s 4ms/step - loss: 0.4268 - accuracy: 0.8483 - val_loss: 0.4299 - val_accuracy: 0.8471\n",
      "Epoch 4/30\n",
      "1594/1594 [==============================] - 7s 5ms/step - loss: 0.4051 - accuracy: 0.8568 - val_loss: 0.4153 - val_accuracy: 0.8477\n",
      "Epoch 5/30\n",
      "1594/1594 [==============================] - 6s 4ms/step - loss: 0.3891 - accuracy: 0.8618 - val_loss: 0.4077 - val_accuracy: 0.8540\n",
      "Epoch 6/30\n",
      "1594/1594 [==============================] - 6s 4ms/step - loss: 0.3758 - accuracy: 0.8662 - val_loss: 0.4155 - val_accuracy: 0.8484\n",
      "Epoch 7/30\n",
      "1594/1594 [==============================] - 6s 4ms/step - loss: 0.3660 - accuracy: 0.8714 - val_loss: 0.3731 - val_accuracy: 0.8638\n",
      "Epoch 8/30\n",
      "1594/1594 [==============================] - 6s 4ms/step - loss: 0.3566 - accuracy: 0.8721 - val_loss: 0.3785 - val_accuracy: 0.8658\n",
      "Epoch 9/30\n",
      "1594/1594 [==============================] - 6s 4ms/step - loss: 0.3476 - accuracy: 0.8762 - val_loss: 0.3919 - val_accuracy: 0.8584\n",
      "Epoch 10/30\n",
      "1594/1594 [==============================] - 6s 4ms/step - loss: 0.3403 - accuracy: 0.8787 - val_loss: 0.3695 - val_accuracy: 0.8663\n",
      "Epoch 11/30\n",
      "1594/1594 [==============================] - 6s 4ms/step - loss: 0.3331 - accuracy: 0.8809 - val_loss: 0.3667 - val_accuracy: 0.8692\n",
      "Epoch 12/30\n",
      "1594/1594 [==============================] - 6s 4ms/step - loss: 0.3275 - accuracy: 0.8823 - val_loss: 0.4005 - val_accuracy: 0.8504\n",
      "Epoch 13/30\n",
      "1594/1594 [==============================] - 6s 4ms/step - loss: 0.3223 - accuracy: 0.8842 - val_loss: 0.3625 - val_accuracy: 0.8657\n",
      "Epoch 14/30\n",
      "1594/1594 [==============================] - 6s 4ms/step - loss: 0.3164 - accuracy: 0.8857 - val_loss: 0.3697 - val_accuracy: 0.8693\n",
      "Epoch 15/30\n",
      "1594/1594 [==============================] - 6s 4ms/step - loss: 0.3106 - accuracy: 0.8882 - val_loss: 0.3439 - val_accuracy: 0.8766\n",
      "Epoch 16/30\n",
      "1594/1594 [==============================] - 6s 4ms/step - loss: 0.3064 - accuracy: 0.8896 - val_loss: 0.3772 - val_accuracy: 0.8612\n",
      "Epoch 17/30\n",
      "1594/1594 [==============================] - 10s 6ms/step - loss: 0.3011 - accuracy: 0.8916 - val_loss: 0.3549 - val_accuracy: 0.8700\n",
      "Epoch 18/30\n",
      "1594/1594 [==============================] - 8s 5ms/step - loss: 0.2963 - accuracy: 0.8936 - val_loss: 0.3362 - val_accuracy: 0.8773\n",
      "Epoch 19/30\n",
      "1594/1594 [==============================] - 9s 5ms/step - loss: 0.2926 - accuracy: 0.8945 - val_loss: 0.3387 - val_accuracy: 0.8778\n",
      "Epoch 20/30\n",
      "1594/1594 [==============================] - 6s 4ms/step - loss: 0.2879 - accuracy: 0.8964 - val_loss: 0.3474 - val_accuracy: 0.8740\n",
      "Epoch 21/30\n",
      "1594/1594 [==============================] - 9s 6ms/step - loss: 0.2848 - accuracy: 0.8961 - val_loss: 0.3424 - val_accuracy: 0.8769\n",
      "Epoch 22/30\n",
      "1594/1594 [==============================] - 11s 7ms/step - loss: 0.2811 - accuracy: 0.8973 - val_loss: 0.3460 - val_accuracy: 0.8748\n",
      "Epoch 23/30\n",
      "1594/1594 [==============================] - 9s 5ms/step - loss: 0.2780 - accuracy: 0.8991 - val_loss: 0.3412 - val_accuracy: 0.8772\n",
      "Epoch 24/30\n",
      "1594/1594 [==============================] - 7s 4ms/step - loss: 0.2738 - accuracy: 0.9013 - val_loss: 0.3348 - val_accuracy: 0.8782\n",
      "Epoch 25/30\n",
      "1594/1594 [==============================] - 9s 6ms/step - loss: 0.2718 - accuracy: 0.9017 - val_loss: 0.3276 - val_accuracy: 0.8799\n",
      "Epoch 26/30\n",
      "1594/1594 [==============================] - 9s 6ms/step - loss: 0.2684 - accuracy: 0.9019 - val_loss: 0.3299 - val_accuracy: 0.8797\n",
      "Epoch 27/30\n",
      "1594/1594 [==============================] - 8s 5ms/step - loss: 0.2655 - accuracy: 0.9037 - val_loss: 0.3408 - val_accuracy: 0.8780\n",
      "Epoch 28/30\n",
      "1594/1594 [==============================] - 11s 7ms/step - loss: 0.2620 - accuracy: 0.9048 - val_loss: 0.3286 - val_accuracy: 0.8819\n",
      "Epoch 29/30\n",
      "1594/1594 [==============================] - 9s 6ms/step - loss: 0.2603 - accuracy: 0.9056 - val_loss: 0.3301 - val_accuracy: 0.8816\n",
      "Epoch 30/30\n",
      "1594/1594 [==============================] - 8s 5ms/step - loss: 0.2562 - accuracy: 0.9064 - val_loss: 0.3357 - val_accuracy: 0.8786\n"
     ]
    }
   ],
   "source": [
    "history = model.fit(X_train,y_train,epochs = 30,validation_split=0.15)"
   ]
  },
  {
   "cell_type": "code",
   "execution_count": 26,
   "id": "57dc24dd",
   "metadata": {},
   "outputs": [
    {
     "name": "stdout",
     "output_type": "stream",
     "text": [
      "313/313 [==============================] - 1s 3ms/step\n",
      "Confusion Matrix:\n",
      " [[805   2  12  24   2   1 145   0   8   1]\n",
      " [  2 965   0  24   3   0   5   0   1   0]\n",
      " [ 12   1 694  19 141   1 130   0   2   0]\n",
      " [ 25   9   7 893  23   0  38   0   5   0]\n",
      " [  0   1  51  43 796   0 107   0   2   0]\n",
      " [  0   0   0   1   0 937   0  37   2  23]\n",
      " [ 88   0  51  26  53   0 771   0  11   0]\n",
      " [  0   0   0   0   0  17   0 933   0  50]\n",
      " [  5   2   1   7   3   2  12   6 962   0]\n",
      " [  0   0   0   0   0   5   1  24   0 970]]\n",
      "Accuracy:  0.8726\n",
      "Precision:  0.8776693058121923\n",
      "Recall:  0.8726\n",
      "F1 Score:  0.8734968171168906\n"
     ]
    }
   ],
   "source": [
    "y_pred = model.predict(X_test)\n",
    "y_pred\n",
    "\n",
    "y_pred_class = np.argmax(y_pred, axis=1) \n",
    "y_pred_class\n",
    "\n",
    "# Confusion Matrix\n",
    "cm = confusion_matrix(y_test, y_pred_class)\n",
    "print(\"Confusion Matrix:\\n\", cm)\n",
    "\n",
    "# Accuracy\n",
    "accuracy = accuracy_score(y_test, y_pred_class)\n",
    "print(\"Accuracy: \", accuracy)\n",
    "\n",
    "# Precision\n",
    "precision = precision_score(y_test, y_pred_class, average='weighted')\n",
    "print(\"Precision: \", precision)\n",
    "\n",
    "# Recall\n",
    "recall = recall_score(y_test, y_pred_class, average='weighted')\n",
    "print(\"Recall: \", recall)\n",
    "\n",
    "# F1 Score\n",
    "f1 = f1_score(y_test, y_pred_class, average='weighted')\n",
    "print(\"F1 Score: \", f1)\n",
    "\n",
    "# ROC AUC Score\n",
    "# roc_auc = roc_auc_score(y_test, y_pred_class, multi_class='ovr')\n",
    "# print(\"ROC AUC Score: \", roc_auc)\n"
   ]
  },
  {
   "cell_type": "code",
   "execution_count": 27,
   "id": "1d43346d",
   "metadata": {},
   "outputs": [],
   "source": [
    "init_1 = keras.initializers.VarianceScaling(scale=2.0, mode='fan_avg')"
   ]
  },
  {
   "cell_type": "code",
   "execution_count": 28,
   "id": "6628d7e8",
   "metadata": {},
   "outputs": [],
   "source": [
    "model = keras.models.Sequential([\n",
    "    keras.layers.Flatten(input_shape=[28,28]),\n",
    "    keras.layers.Dense(100, activation='elu', kernel_initializer=init_1),\n",
    "    keras.layers.BatchNormalization(),\n",
    "    keras.layers.Dense(75),\n",
    "    keras.layers.LeakyReLU(alpha=0.3),\n",
    "    keras.layers.BatchNormalization(),\n",
    "    keras.layers.Dense(10,activation='softmax')\n",
    "])"
   ]
  },
  {
   "cell_type": "code",
   "execution_count": 29,
   "id": "9ffd33c6",
   "metadata": {},
   "outputs": [],
   "source": [
    "model.compile(\n",
    "    loss = 'sparse_categorical_crossentropy',\n",
    "    optimizer= 'sgd',\n",
    "    metrics=['accuracy']\n",
    "             )"
   ]
  },
  {
   "cell_type": "code",
   "execution_count": 30,
   "id": "c831c724",
   "metadata": {},
   "outputs": [
    {
     "name": "stdout",
     "output_type": "stream",
     "text": [
      "Epoch 1/30\n",
      "1594/1594 [==============================] - 9s 5ms/step - loss: 0.6218 - accuracy: 0.7838 - val_loss: 0.4689 - val_accuracy: 0.8349\n",
      "Epoch 2/30\n",
      "1594/1594 [==============================] - 7s 5ms/step - loss: 0.4656 - accuracy: 0.8359 - val_loss: 0.4327 - val_accuracy: 0.8499\n",
      "Epoch 3/30\n",
      "1594/1594 [==============================] - 8s 5ms/step - loss: 0.4241 - accuracy: 0.8498 - val_loss: 0.4033 - val_accuracy: 0.8588\n",
      "Epoch 4/30\n",
      "1594/1594 [==============================] - 8s 5ms/step - loss: 0.4009 - accuracy: 0.8566 - val_loss: 0.3870 - val_accuracy: 0.8631\n",
      "Epoch 5/30\n",
      "1594/1594 [==============================] - 7s 5ms/step - loss: 0.3831 - accuracy: 0.8636 - val_loss: 0.3820 - val_accuracy: 0.8616\n",
      "Epoch 6/30\n",
      "1594/1594 [==============================] - 8s 5ms/step - loss: 0.3695 - accuracy: 0.8681 - val_loss: 0.3742 - val_accuracy: 0.8680\n",
      "Epoch 7/30\n",
      "1594/1594 [==============================] - 7s 5ms/step - loss: 0.3575 - accuracy: 0.8713 - val_loss: 0.3743 - val_accuracy: 0.8658\n",
      "Epoch 8/30\n",
      "1594/1594 [==============================] - 7s 5ms/step - loss: 0.3463 - accuracy: 0.8760 - val_loss: 0.3629 - val_accuracy: 0.8711\n",
      "Epoch 9/30\n",
      "1594/1594 [==============================] - 7s 5ms/step - loss: 0.3393 - accuracy: 0.8782 - val_loss: 0.3762 - val_accuracy: 0.8632\n",
      "Epoch 10/30\n",
      "1594/1594 [==============================] - 8s 5ms/step - loss: 0.3315 - accuracy: 0.8811 - val_loss: 0.3613 - val_accuracy: 0.8700\n",
      "Epoch 11/30\n",
      "1594/1594 [==============================] - 8s 5ms/step - loss: 0.3234 - accuracy: 0.8830 - val_loss: 0.3423 - val_accuracy: 0.8763\n",
      "Epoch 12/30\n",
      "1594/1594 [==============================] - 9s 5ms/step - loss: 0.3161 - accuracy: 0.8860 - val_loss: 0.3683 - val_accuracy: 0.8690\n",
      "Epoch 13/30\n",
      "1594/1594 [==============================] - 8s 5ms/step - loss: 0.3092 - accuracy: 0.8890 - val_loss: 0.3474 - val_accuracy: 0.8728\n",
      "Epoch 14/30\n",
      "1594/1594 [==============================] - 8s 5ms/step - loss: 0.3057 - accuracy: 0.8895 - val_loss: 0.3480 - val_accuracy: 0.8739\n",
      "Epoch 15/30\n",
      "1594/1594 [==============================] - 9s 5ms/step - loss: 0.2997 - accuracy: 0.8905 - val_loss: 0.3459 - val_accuracy: 0.8781\n",
      "Epoch 16/30\n",
      "1594/1594 [==============================] - 15s 9ms/step - loss: 0.2932 - accuracy: 0.8949 - val_loss: 0.3383 - val_accuracy: 0.8773\n",
      "Epoch 17/30\n",
      "1594/1594 [==============================] - 12s 7ms/step - loss: 0.2908 - accuracy: 0.8940 - val_loss: 0.3478 - val_accuracy: 0.8773\n",
      "Epoch 18/30\n",
      "1594/1594 [==============================] - 7s 5ms/step - loss: 0.2852 - accuracy: 0.8963 - val_loss: 0.3373 - val_accuracy: 0.8794\n",
      "Epoch 19/30\n",
      "1594/1594 [==============================] - 8s 5ms/step - loss: 0.2797 - accuracy: 0.8976 - val_loss: 0.3578 - val_accuracy: 0.8749\n",
      "Epoch 20/30\n",
      "1594/1594 [==============================] - 12s 7ms/step - loss: 0.2761 - accuracy: 0.8987 - val_loss: 0.3449 - val_accuracy: 0.8759\n",
      "Epoch 21/30\n",
      "1594/1594 [==============================] - 15s 9ms/step - loss: 0.2717 - accuracy: 0.8995 - val_loss: 0.3407 - val_accuracy: 0.8787\n",
      "Epoch 22/30\n",
      "1594/1594 [==============================] - 16s 10ms/step - loss: 0.2668 - accuracy: 0.9022 - val_loss: 0.3282 - val_accuracy: 0.8818\n",
      "Epoch 23/30\n",
      "1594/1594 [==============================] - 15s 9ms/step - loss: 0.2647 - accuracy: 0.9045 - val_loss: 0.3586 - val_accuracy: 0.8707\n",
      "Epoch 24/30\n",
      "1594/1594 [==============================] - 15s 9ms/step - loss: 0.2614 - accuracy: 0.9039 - val_loss: 0.3276 - val_accuracy: 0.8808\n",
      "Epoch 25/30\n",
      "1594/1594 [==============================] - 16s 10ms/step - loss: 0.2546 - accuracy: 0.9068 - val_loss: 0.3350 - val_accuracy: 0.8804\n",
      "Epoch 26/30\n",
      "1594/1594 [==============================] - 16s 10ms/step - loss: 0.2546 - accuracy: 0.9071 - val_loss: 0.3408 - val_accuracy: 0.8782\n",
      "Epoch 27/30\n",
      "1594/1594 [==============================] - 14s 9ms/step - loss: 0.2509 - accuracy: 0.9081 - val_loss: 0.3346 - val_accuracy: 0.8814\n",
      "Epoch 28/30\n",
      "1594/1594 [==============================] - 12s 7ms/step - loss: 0.2469 - accuracy: 0.9107 - val_loss: 0.3433 - val_accuracy: 0.8787\n",
      "Epoch 29/30\n",
      "1594/1594 [==============================] - 13s 8ms/step - loss: 0.2438 - accuracy: 0.9105 - val_loss: 0.3705 - val_accuracy: 0.8731\n",
      "Epoch 30/30\n",
      "1594/1594 [==============================] - 13s 8ms/step - loss: 0.2431 - accuracy: 0.9114 - val_loss: 0.3395 - val_accuracy: 0.8824\n"
     ]
    }
   ],
   "source": [
    "history = model.fit(X_train,y_train,epochs = 30,validation_split=0.15)"
   ]
  },
  {
   "cell_type": "code",
   "execution_count": 31,
   "id": "ec7d8d1a",
   "metadata": {},
   "outputs": [
    {
     "name": "stdout",
     "output_type": "stream",
     "text": [
      "313/313 [==============================] - 1s 4ms/step\n",
      "Confusion Matrix:\n",
      " [[764   4  10  21   3   1 187   0  10   0]\n",
      " [  2 974   2  14   3   0   4   0   1   0]\n",
      " [ 12   1 766  14 100   0 103   0   4   0]\n",
      " [ 14  19   8 868  32   0  54   0   5   0]\n",
      " [  0   1  71  30 806   1  84   0   7   0]\n",
      " [  0   0   0   1   0 949   0  31   3  16]\n",
      " [ 70   2  62  23  59   0 768   0  16   0]\n",
      " [  0   0   0   0   0  20   0 948   2  30]\n",
      " [  0   1   2   3   2   2  12   4 974   0]\n",
      " [  0   0   0   0   0   6   1  29   1 963]]\n",
      "Accuracy:  0.878\n",
      "Precision:  0.8829000264196648\n",
      "Recall:  0.878\n",
      "F1 Score:  0.8791682765666515\n"
     ]
    }
   ],
   "source": [
    "y_pred = model.predict(X_test)\n",
    "y_pred\n",
    "\n",
    "y_pred_class = np.argmax(y_pred, axis=1) \n",
    "y_pred_class\n",
    "\n",
    "# Confusion Matrix\n",
    "cm = confusion_matrix(y_test, y_pred_class)\n",
    "print(\"Confusion Matrix:\\n\", cm)\n",
    "\n",
    "# Accuracy\n",
    "accuracy = accuracy_score(y_test, y_pred_class)\n",
    "print(\"Accuracy: \", accuracy)\n",
    "\n",
    "# Precision\n",
    "precision = precision_score(y_test, y_pred_class, average='weighted')\n",
    "print(\"Precision: \", precision)\n",
    "\n",
    "# Recall\n",
    "recall = recall_score(y_test, y_pred_class, average='weighted')\n",
    "print(\"Recall: \", recall)\n",
    "\n",
    "# F1 Score\n",
    "f1 = f1_score(y_test, y_pred_class, average='weighted')\n",
    "print(\"F1 Score: \", f1)\n",
    "\n",
    "# ROC AUC Score\n",
    "# roc_auc = roc_auc_score(y_test, y_pred_class, multi_class='ovr')\n",
    "# print(\"ROC AUC Score: \", roc_auc)\n"
   ]
  },
  {
   "cell_type": "code",
   "execution_count": 32,
   "id": "cd42cacc",
   "metadata": {},
   "outputs": [
    {
     "name": "stderr",
     "output_type": "stream",
     "text": [
      "C:\\Anaconda\\Lib\\site-packages\\keras\\src\\initializers\\initializers.py:120: UserWarning: The initializer VarianceScaling is unseeded and being called multiple times, which will return identical values each time (even if the initializer is unseeded). Please update your code to provide a seed to the initializer, or avoid using the same initializer instance more than once.\n",
      "  warnings.warn(\n"
     ]
    }
   ],
   "source": [
    "model = keras.models.Sequential([\n",
    "    keras.layers.Flatten(input_shape=[28,28]),\n",
    "    keras.layers.BatchNormalization(),\n",
    "    keras.layers.Dense(100, kernel_initializer=init_1,use_bias=False),\n",
    "    keras.layers.BatchNormalization(),\n",
    "    keras.layers.Activation(\"elu\"),\n",
    "    keras.layers.Dense(75,use_bias=False),\n",
    "    keras.layers.BatchNormalization(),\n",
    "    keras.layers.LeakyReLU(alpha=0.3),\n",
    "    keras.layers.Dense(10,activation='softmax')\n",
    "])"
   ]
  },
  {
   "cell_type": "code",
   "execution_count": 33,
   "id": "02f6c073",
   "metadata": {},
   "outputs": [],
   "source": [
    "model.compile(\n",
    "    loss = 'sparse_categorical_crossentropy',\n",
    "    optimizer= 'sgd',\n",
    "    metrics=['accuracy']\n",
    "             )"
   ]
  },
  {
   "cell_type": "code",
   "execution_count": 34,
   "id": "abbf8827",
   "metadata": {},
   "outputs": [
    {
     "name": "stdout",
     "output_type": "stream",
     "text": [
      "Epoch 1/30\n",
      "1594/1594 [==============================] - 13s 7ms/step - loss: 0.6743 - accuracy: 0.7711 - val_loss: 0.4830 - val_accuracy: 0.8290\n",
      "Epoch 2/30\n",
      "1594/1594 [==============================] - 9s 5ms/step - loss: 0.4889 - accuracy: 0.8276 - val_loss: 0.4315 - val_accuracy: 0.8472\n",
      "Epoch 3/30\n",
      "1594/1594 [==============================] - 11s 7ms/step - loss: 0.4452 - accuracy: 0.8432 - val_loss: 0.4071 - val_accuracy: 0.8578\n",
      "Epoch 4/30\n",
      "1594/1594 [==============================] - 10s 6ms/step - loss: 0.4220 - accuracy: 0.8506 - val_loss: 0.3945 - val_accuracy: 0.8581\n",
      "Epoch 5/30\n",
      "1594/1594 [==============================] - 9s 5ms/step - loss: 0.4032 - accuracy: 0.8576 - val_loss: 0.3822 - val_accuracy: 0.8593\n",
      "Epoch 6/30\n",
      "1594/1594 [==============================] - 10s 6ms/step - loss: 0.3884 - accuracy: 0.8601 - val_loss: 0.3742 - val_accuracy: 0.8610\n",
      "Epoch 7/30\n",
      "1594/1594 [==============================] - 16s 10ms/step - loss: 0.3759 - accuracy: 0.8663 - val_loss: 0.3635 - val_accuracy: 0.8682\n",
      "Epoch 8/30\n",
      "1594/1594 [==============================] - 10s 6ms/step - loss: 0.3676 - accuracy: 0.8687 - val_loss: 0.3594 - val_accuracy: 0.8698\n",
      "Epoch 9/30\n",
      "1594/1594 [==============================] - 11s 7ms/step - loss: 0.3572 - accuracy: 0.8717 - val_loss: 0.3616 - val_accuracy: 0.8682\n",
      "Epoch 10/30\n",
      "1594/1594 [==============================] - 15s 9ms/step - loss: 0.3476 - accuracy: 0.8757 - val_loss: 0.3513 - val_accuracy: 0.8711\n",
      "Epoch 11/30\n",
      "1594/1594 [==============================] - 16s 10ms/step - loss: 0.3383 - accuracy: 0.8789 - val_loss: 0.3530 - val_accuracy: 0.8727\n",
      "Epoch 12/30\n",
      "1594/1594 [==============================] - 9s 5ms/step - loss: 0.3326 - accuracy: 0.8802 - val_loss: 0.3424 - val_accuracy: 0.8757\n",
      "Epoch 13/30\n",
      "1594/1594 [==============================] - 9s 6ms/step - loss: 0.3267 - accuracy: 0.8815 - val_loss: 0.3409 - val_accuracy: 0.8772\n",
      "Epoch 14/30\n",
      "1594/1594 [==============================] - 10s 6ms/step - loss: 0.3191 - accuracy: 0.8845 - val_loss: 0.3406 - val_accuracy: 0.8742\n",
      "Epoch 15/30\n",
      "1594/1594 [==============================] - 9s 6ms/step - loss: 0.3149 - accuracy: 0.8847 - val_loss: 0.3385 - val_accuracy: 0.8754\n",
      "Epoch 16/30\n",
      "1594/1594 [==============================] - 15s 9ms/step - loss: 0.3077 - accuracy: 0.8890 - val_loss: 0.3277 - val_accuracy: 0.8801\n",
      "Epoch 17/30\n",
      "1594/1594 [==============================] - 16s 10ms/step - loss: 0.3049 - accuracy: 0.8895 - val_loss: 0.3297 - val_accuracy: 0.8797\n",
      "Epoch 18/30\n",
      "1594/1594 [==============================] - 14s 9ms/step - loss: 0.2991 - accuracy: 0.8919 - val_loss: 0.3269 - val_accuracy: 0.8780\n",
      "Epoch 19/30\n",
      "1594/1594 [==============================] - 16s 10ms/step - loss: 0.2952 - accuracy: 0.8921 - val_loss: 0.3327 - val_accuracy: 0.8802\n",
      "Epoch 20/30\n",
      "1594/1594 [==============================] - 17s 11ms/step - loss: 0.2907 - accuracy: 0.8947 - val_loss: 0.3337 - val_accuracy: 0.8786\n",
      "Epoch 21/30\n",
      "1594/1594 [==============================] - 14s 9ms/step - loss: 0.2846 - accuracy: 0.8974 - val_loss: 0.3302 - val_accuracy: 0.8836\n",
      "Epoch 22/30\n",
      "1594/1594 [==============================] - 9s 6ms/step - loss: 0.2804 - accuracy: 0.8982 - val_loss: 0.3224 - val_accuracy: 0.8859\n",
      "Epoch 23/30\n",
      "1594/1594 [==============================] - 16s 10ms/step - loss: 0.2777 - accuracy: 0.9004 - val_loss: 0.3294 - val_accuracy: 0.8829\n",
      "Epoch 24/30\n",
      "1594/1594 [==============================] - 15s 9ms/step - loss: 0.2709 - accuracy: 0.9009 - val_loss: 0.3306 - val_accuracy: 0.8828\n",
      "Epoch 25/30\n",
      "1594/1594 [==============================] - 16s 10ms/step - loss: 0.2696 - accuracy: 0.9016 - val_loss: 0.3316 - val_accuracy: 0.8833\n",
      "Epoch 26/30\n",
      "1594/1594 [==============================] - 10s 6ms/step - loss: 0.2655 - accuracy: 0.9036 - val_loss: 0.3238 - val_accuracy: 0.8823\n",
      "Epoch 27/30\n",
      "1594/1594 [==============================] - 14s 9ms/step - loss: 0.2636 - accuracy: 0.9041 - val_loss: 0.3263 - val_accuracy: 0.8820\n",
      "Epoch 28/30\n",
      "1594/1594 [==============================] - 16s 10ms/step - loss: 0.2588 - accuracy: 0.9047 - val_loss: 0.3198 - val_accuracy: 0.8842\n",
      "Epoch 29/30\n",
      "1594/1594 [==============================] - 17s 11ms/step - loss: 0.2562 - accuracy: 0.9067 - val_loss: 0.3256 - val_accuracy: 0.8802\n",
      "Epoch 30/30\n",
      "1594/1594 [==============================] - 15s 9ms/step - loss: 0.2522 - accuracy: 0.9073 - val_loss: 0.3232 - val_accuracy: 0.8846\n"
     ]
    }
   ],
   "source": [
    "history = model.fit(X_train,y_train,epochs = 30,validation_split=0.15)"
   ]
  },
  {
   "cell_type": "code",
   "execution_count": 35,
   "id": "06bf21b2",
   "metadata": {},
   "outputs": [
    {
     "name": "stdout",
     "output_type": "stream",
     "text": [
      "313/313 [==============================] - 2s 5ms/step\n",
      "Confusion Matrix:\n",
      " [[847   5  18  32   4   1  87   0   5   1]\n",
      " [  2 967   3  20   3   0   4   0   1   0]\n",
      " [ 15   2 833  16  73   1  56   1   3   0]\n",
      " [ 23  17  17 873  36   2  27   0   5   0]\n",
      " [  0   1 108  29 795   2  63   0   2   0]\n",
      " [  0   0   0   1   0 944   0  36   2  17]\n",
      " [126   1 100  23  64   1 674   0  11   0]\n",
      " [  0   0   0   0   0  15   0 970   0  15]\n",
      " [ 11   1   6   5   4   2   7   6 958   0]\n",
      " [  1   0   0   0   0  11   1  52   0 935]]\n",
      "Accuracy:  0.8796\n",
      "Precision:  0.8797827767615995\n",
      "Recall:  0.8796\n",
      "F1 Score:  0.8792771181012072\n"
     ]
    }
   ],
   "source": [
    "y_pred = model.predict(X_test)\n",
    "y_pred\n",
    "\n",
    "y_pred_class = np.argmax(y_pred, axis=1) \n",
    "y_pred_class\n",
    "\n",
    "# Confusion Matrix\n",
    "cm = confusion_matrix(y_test, y_pred_class)\n",
    "print(\"Confusion Matrix:\\n\", cm)\n",
    "\n",
    "# Accuracy\n",
    "accuracy = accuracy_score(y_test, y_pred_class)\n",
    "print(\"Accuracy: \", accuracy)\n",
    "\n",
    "# Precision\n",
    "precision = precision_score(y_test, y_pred_class, average='weighted')\n",
    "print(\"Precision: \", precision)\n",
    "\n",
    "# Recall\n",
    "recall = recall_score(y_test, y_pred_class, average='weighted')\n",
    "print(\"Recall: \", recall)\n",
    "\n",
    "# F1 Score\n",
    "f1 = f1_score(y_test, y_pred_class, average='weighted')\n",
    "print(\"F1 Score: \", f1)\n",
    "\n",
    "# ROC AUC Score\n",
    "# roc_auc = roc_auc_score(y_test, y_pred_class, multi_class='ovr')\n",
    "# print(\"ROC AUC Score: \", roc_auc)\n"
   ]
  },
  {
   "cell_type": "markdown",
   "id": "bfe1c11f",
   "metadata": {},
   "source": [
    "# Gradient Clipping\n"
   ]
  },
  {
   "cell_type": "code",
   "execution_count": 40,
   "id": "078a424f",
   "metadata": {},
   "outputs": [],
   "source": [
    "model = keras.models.Sequential([\n",
    "    keras.layers.Flatten(input_shape=[28,28]),\n",
    "    keras.layers.BatchNormalization(),\n",
    "    keras.layers.Dense(100, kernel_initializer=init_1,use_bias=False),\n",
    "    keras.layers.BatchNormalization(),\n",
    "    keras.layers.Activation(\"elu\"),\n",
    "    keras.layers.Dense(75,use_bias=False),\n",
    "    keras.layers.BatchNormalization(),\n",
    "    keras.layers.LeakyReLU(alpha=0.3),\n",
    "    keras.layers.Dense(10,activation='softmax')\n",
    "])"
   ]
  },
  {
   "cell_type": "code",
   "execution_count": 41,
   "id": "fb8a69fd",
   "metadata": {},
   "outputs": [],
   "source": [
    "sgd = keras.optimizers.SGD(clipvalue=1.0)\n",
    "model.compile(loss='sparse_categorical_crossentropy',\n",
    "              optimizer=sgd,  # Corrected keyword here\n",
    "              metrics=['accuracy'])\n"
   ]
  },
  {
   "cell_type": "code",
   "execution_count": 42,
   "id": "ec688cb0",
   "metadata": {},
   "outputs": [
    {
     "name": "stdout",
     "output_type": "stream",
     "text": [
      "Epoch 1/30\n",
      "1594/1594 [==============================] - 13s 7ms/step - loss: 0.6711 - accuracy: 0.7723 - val_loss: 0.4827 - val_accuracy: 0.8283\n",
      "Epoch 2/30\n",
      "1594/1594 [==============================] - 13s 8ms/step - loss: 0.4894 - accuracy: 0.8286 - val_loss: 0.4324 - val_accuracy: 0.8464\n",
      "Epoch 3/30\n",
      "1594/1594 [==============================] - 18s 11ms/step - loss: 0.4480 - accuracy: 0.8442 - val_loss: 0.4105 - val_accuracy: 0.8541\n",
      "Epoch 4/30\n",
      "1594/1594 [==============================] - 18s 11ms/step - loss: 0.4220 - accuracy: 0.8517 - val_loss: 0.3949 - val_accuracy: 0.8582\n",
      "Epoch 5/30\n",
      "1594/1594 [==============================] - 18s 11ms/step - loss: 0.4049 - accuracy: 0.8580 - val_loss: 0.3905 - val_accuracy: 0.8589\n",
      "Epoch 6/30\n",
      "1594/1594 [==============================] - 17s 10ms/step - loss: 0.3926 - accuracy: 0.8610 - val_loss: 0.3780 - val_accuracy: 0.8633\n",
      "Epoch 7/30\n",
      "1594/1594 [==============================] - 17s 11ms/step - loss: 0.3804 - accuracy: 0.8651 - val_loss: 0.3649 - val_accuracy: 0.8650\n",
      "Epoch 8/30\n",
      " 107/1594 [=>............................] - ETA: 11s - loss: 0.3715 - accuracy: 0.8721"
     ]
    }
   ],
   "source": [
    "history = model.fit(X_train,y_train,epochs = 30,validation_split=0.15)"
   ]
  },
  {
   "cell_type": "code",
   "execution_count": 43,
   "id": "658af88b",
   "metadata": {},
   "outputs": [],
   "source": [
    "y_pred = model.predict(X_test)\n",
    "y_pred\n",
    "\n",
    "y_pred_class = np.argmax(y_pred, axis=1) \n",
    "y_pred_class\n",
    "\n",
    "# Confusion Matrix\n",
    "cm = confusion_matrix(y_test, y_pred_class)\n",
    "print(\"Confusion Matrix:\\n\", cm)\n",
    "\n",
    "# Accuracy\n",
    "accuracy = accuracy_score(y_test, y_pred_class)\n",
    "print(\"Accuracy: \", accuracy)\n",
    "\n",
    "# Precision\n",
    "precision = precision_score(y_test, y_pred_class, average='weighted')\n",
    "print(\"Precision: \", precision)\n",
    "\n",
    "# Recall\n",
    "recall = recall_score(y_test, y_pred_class, average='weighted')\n",
    "print(\"Recall: \", recall)\n",
    "\n",
    "# F1 Score\n",
    "f1 = f1_score(y_test, y_pred_class, average='weighted')\n",
    "print(\"F1 Score: \", f1)\n",
    "\n",
    "# ROC AUC Score\n",
    "# roc_auc = roc_auc_score(y_test, y_pred_class, multi_class='ovr')\n",
    "# print(\"ROC AUC Score: \", roc_auc)\n"
   ]
  },
  {
   "cell_type": "code",
   "execution_count": null,
   "id": "1fcf3043",
   "metadata": {},
   "outputs": [],
   "source": []
  }
 ],
 "metadata": {
  "kernelspec": {
   "display_name": "Python 3 (ipykernel)",
   "language": "python",
   "name": "python3"
  },
  "language_info": {
   "codemirror_mode": {
    "name": "ipython",
    "version": 3
   },
   "file_extension": ".py",
   "mimetype": "text/x-python",
   "name": "python",
   "nbconvert_exporter": "python",
   "pygments_lexer": "ipython3",
   "version": "3.11.3"
  }
 },
 "nbformat": 4,
 "nbformat_minor": 5
}
