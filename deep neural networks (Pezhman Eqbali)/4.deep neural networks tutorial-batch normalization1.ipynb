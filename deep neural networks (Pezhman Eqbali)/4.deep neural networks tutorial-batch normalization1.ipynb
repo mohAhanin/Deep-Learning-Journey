{
 "cells": [
  {
   "cell_type": "code",
   "execution_count": 1,
   "id": "792f354d-e198-4092-8f1a-566305c1cd89",
   "metadata": {
    "tags": []
   },
   "outputs": [],
   "source": [
    "import tensorflow as tf\n",
    "from sklearn.datasets import fetch_california_housing\n",
    "from tensorflow import keras\n",
    "from tensorflow.keras import layers\n",
    "import pandas as pd\n",
    "import matplotlib.pyplot as plt \n",
    "from sklearn.metrics import accuracy_score, precision_score, recall_score, f1_score\n"
   ]
  },
  {
   "cell_type": "code",
   "execution_count": 2,
   "id": "c964f2ec-4ef0-46b4-b3c8-85943e19ebd0",
   "metadata": {
    "tags": []
   },
   "outputs": [],
   "source": [
    "fmnist = keras.datasets.fashion_mnist"
   ]
  },
  {
   "cell_type": "code",
   "execution_count": 3,
   "id": "13cf4a6e-1610-4a16-9ac0-f5c81a60abe5",
   "metadata": {
    "tags": []
   },
   "outputs": [],
   "source": [
    "(X_train, y_train), (X_test, y_test) = fmnist.load_data()"
   ]
  },
  {
   "cell_type": "code",
   "execution_count": 4,
   "id": "6c48423f-dc8e-4670-abdc-589ac62dad4e",
   "metadata": {},
   "outputs": [
    {
     "name": "stdout",
     "output_type": "stream",
     "text": [
      "X_train : (60000, 28, 28)\n",
      "X_test : (10000, 28, 28)\n",
      "y_train : (60000,)\n",
      "y_test : (10000,)\n"
     ]
    }
   ],
   "source": [
    "print(f'X_train :',X_train.shape)\n",
    "print(f'X_test :',X_test.shape)\n",
    "print(f'y_train :',y_train.shape)\n",
    "print(f'y_test :',y_test.shape)"
   ]
  },
  {
   "cell_type": "code",
   "execution_count": 5,
   "id": "3408dbe5-81ee-424f-9a95-9bbbe3ab6780",
   "metadata": {
    "tags": []
   },
   "outputs": [],
   "source": [
    "#plt.imshow(X_train[0], cmap = 'gray')"
   ]
  },
  {
   "cell_type": "code",
   "execution_count": 6,
   "id": "18d29a78-1781-4f62-b9c1-d9a208a037e0",
   "metadata": {},
   "outputs": [],
   "source": [
    "#plt.imshow(y_train[0], cmap = 'gray')"
   ]
  },
  {
   "cell_type": "code",
   "execution_count": 7,
   "id": "cffb27eb-c517-4572-bafb-191b9cf88d7e",
   "metadata": {
    "tags": []
   },
   "outputs": [],
   "source": [
    "#X_train[0]"
   ]
  },
  {
   "cell_type": "code",
   "execution_count": 8,
   "id": "76ebf96b-d30d-4df6-8589-8b66ab8e8a74",
   "metadata": {
    "tags": []
   },
   "outputs": [],
   "source": [
    "#print(y_train[0])"
   ]
  },
  {
   "cell_type": "markdown",
   "id": "858e12e7",
   "metadata": {},
   "source": [
    "# Normalization"
   ]
  },
  {
   "cell_type": "code",
   "execution_count": 9,
   "id": "9970b1f0-5616-4037-90ba-77b054af1646",
   "metadata": {
    "tags": []
   },
   "outputs": [],
   "source": [
    "X_train = X_train/255\n",
    "X_test = X_test/255"
   ]
  },
  {
   "cell_type": "code",
   "execution_count": null,
   "id": "c5a73184",
   "metadata": {},
   "outputs": [],
   "source": []
  },
  {
   "cell_type": "code",
   "execution_count": null,
   "id": "7d7f7f00",
   "metadata": {},
   "outputs": [],
   "source": []
  },
  {
   "cell_type": "code",
   "execution_count": null,
   "id": "771ea09f",
   "metadata": {},
   "outputs": [],
   "source": []
  },
  {
   "cell_type": "code",
   "execution_count": null,
   "id": "90114d0f-7cdf-472b-b1a4-e35ba9d67dac",
   "metadata": {
    "tags": []
   },
   "outputs": [],
   "source": [
    "#X_train[0]"
   ]
  },
  {
   "cell_type": "code",
   "execution_count": null,
   "id": "42418d9e-4c4e-4b4a-877c-2eb2432935a5",
   "metadata": {
    "tags": []
   },
   "outputs": [],
   "source": [
    "#plt.imshow(X_train[0], cmap = 'gray')"
   ]
  },
  {
   "cell_type": "code",
   "execution_count": 12,
   "id": "b10f25e4",
   "metadata": {},
   "outputs": [],
   "source": [
    "from keras.initializers import GlorotNormal\n",
    "initializer_g = GlorotNormal(seed=None)\n",
    "from keras.initializers import HeNormal\n",
    "initializer_h = HeNormal(seed=None)"
   ]
  },
  {
   "cell_type": "code",
   "execution_count": null,
   "id": "4acc9caa-e9fb-4936-b4cf-03ce8ee84328",
   "metadata": {},
   "outputs": [],
   "source": [
    "model = tf.keras.Sequential()\n",
    "model.add(keras.layers.Flatten(input_shape=[28,28]))\n",
    "model.add(keras.layers.Dense(100,activation='relu',kernel_initializer=initializer_h))\n",
    "model.add(keras.layers.Dense(75,activation='relu'))\n",
    "model.add(keras.layers.Dense(10,activation='softmax'))"
   ]
  },
  {
   "cell_type": "code",
   "execution_count": null,
   "id": "22571a98-7096-4b26-bcb8-8ff5bfd2fccf",
   "metadata": {},
   "outputs": [],
   "source": [
    "model.summary()"
   ]
  },
  {
   "cell_type": "code",
   "execution_count": null,
   "id": "85c301f3",
   "metadata": {},
   "outputs": [],
   "source": [
    "model.compile(\n",
    "    loss = 'sparse_categorical_crossentropy',\n",
    "    optimizer= 'sgd',\n",
    "    metrics=['accuracy']\n",
    "             )"
   ]
  },
  {
   "cell_type": "code",
   "execution_count": null,
   "id": "1e07d984",
   "metadata": {},
   "outputs": [],
   "source": [
    "history = model.fit(X_train,y_train,epochs = 10,validation_split=0.15)"
   ]
  },
  {
   "cell_type": "markdown",
   "id": "f79a3a45",
   "metadata": {},
   "source": [
    "model 2"
   ]
  },
  {
   "cell_type": "code",
   "execution_count": 13,
   "id": "9a5de69a",
   "metadata": {},
   "outputs": [
    {
     "name": "stderr",
     "output_type": "stream",
     "text": [
      "C:\\Anaconda\\Lib\\site-packages\\keras\\src\\initializers\\initializers.py:120: UserWarning: The initializer HeNormal is unseeded and being called multiple times, which will return identical values each time (even if the initializer is unseeded). Please update your code to provide a seed to the initializer, or avoid using the same initializer instance more than once.\n",
      "  warnings.warn(\n"
     ]
    }
   ],
   "source": [
    "model = tf.keras.Sequential()\n",
    "model.add(keras.layers.Flatten(input_shape=[28,28]))\n",
    "model.add(keras.layers.Dense(100,activation='relu',kernel_initializer=initializer_h))\n",
    "model.add(keras.layers.Dense(75,activation='relu',kernel_initializer=initializer_h))\n",
    "model.add(keras.layers.Dense(10,activation='softmax',kernel_initializer=initializer_g))"
   ]
  },
  {
   "cell_type": "code",
   "execution_count": 14,
   "id": "441882b3",
   "metadata": {},
   "outputs": [],
   "source": [
    "model.compile(\n",
    "    loss = 'sparse_categorical_crossentropy',\n",
    "    optimizer= 'sgd',\n",
    "    metrics=['accuracy']\n",
    "             )"
   ]
  },
  {
   "cell_type": "code",
   "execution_count": 15,
   "id": "888bd7fa",
   "metadata": {},
   "outputs": [
    {
     "name": "stdout",
     "output_type": "stream",
     "text": [
      "Epoch 1/10\n",
      "1594/1594 [==============================] - 4s 2ms/step - loss: 0.7566 - accuracy: 0.7503 - val_loss: 0.5734 - val_accuracy: 0.7992\n",
      "Epoch 2/10\n",
      "1594/1594 [==============================] - 3s 2ms/step - loss: 0.5027 - accuracy: 0.8261 - val_loss: 0.4832 - val_accuracy: 0.8272\n",
      "Epoch 3/10\n",
      "1594/1594 [==============================] - 3s 2ms/step - loss: 0.4575 - accuracy: 0.8400 - val_loss: 0.4479 - val_accuracy: 0.8453\n",
      "Epoch 4/10\n",
      "1594/1594 [==============================] - 3s 2ms/step - loss: 0.4303 - accuracy: 0.8496 - val_loss: 0.4388 - val_accuracy: 0.8472\n",
      "Epoch 5/10\n",
      "1594/1594 [==============================] - 3s 2ms/step - loss: 0.4097 - accuracy: 0.8574 - val_loss: 0.4246 - val_accuracy: 0.8521\n",
      "Epoch 6/10\n",
      "1594/1594 [==============================] - 3s 2ms/step - loss: 0.3949 - accuracy: 0.8622 - val_loss: 0.4033 - val_accuracy: 0.8600\n",
      "Epoch 7/10\n",
      "1594/1594 [==============================] - 3s 2ms/step - loss: 0.3826 - accuracy: 0.8650 - val_loss: 0.4126 - val_accuracy: 0.8564\n",
      "Epoch 8/10\n",
      "1594/1594 [==============================] - 4s 2ms/step - loss: 0.3725 - accuracy: 0.8693 - val_loss: 0.3915 - val_accuracy: 0.8586\n",
      "Epoch 9/10\n",
      "1594/1594 [==============================] - 3s 2ms/step - loss: 0.3610 - accuracy: 0.8734 - val_loss: 0.3859 - val_accuracy: 0.8662\n",
      "Epoch 10/10\n",
      "1594/1594 [==============================] - 3s 2ms/step - loss: 0.3535 - accuracy: 0.8747 - val_loss: 0.3786 - val_accuracy: 0.8686\n"
     ]
    }
   ],
   "source": [
    "history = model.fit(X_train,y_train,epochs = 10,validation_split=0.15)"
   ]
  },
  {
   "cell_type": "code",
   "execution_count": 16,
   "id": "6a3d1041",
   "metadata": {},
   "outputs": [
    {
     "name": "stdout",
     "output_type": "stream",
     "text": [
      "313/313 [==============================] - 1s 1ms/step\n",
      "Accuracy: 0.8583\n",
      "Precision: 0.8583\n",
      "Recall: 0.8583\n",
      "F1-score: 0.8564\n"
     ]
    }
   ],
   "source": [
    "# Predict on the test set\n",
    "y_pred = model.predict(X_test)\n",
    "\n",
    "# Compute metrics\n",
    "accuracy = accuracy_score(y_test, y_pred.argmax(axis=1))\n",
    "precision = precision_score(y_test, y_pred.argmax(axis=1), average='macro')\n",
    "recall = recall_score(y_test, y_pred.argmax(axis=1), average='macro')\n",
    "f1 = f1_score(y_test, y_pred.argmax(axis=1), average='macro')\n",
    "\n",
    "print(f'Accuracy: {accuracy:.4f}')\n",
    "print(f'Precision: {precision:.4f}')\n",
    "print(f'Recall: {recall:.4f}')\n",
    "print(f'F1-score: {f1:.4f}')"
   ]
  },
  {
   "cell_type": "markdown",
   "id": "952c388b",
   "metadata": {},
   "source": [
    "model 3"
   ]
  },
  {
   "cell_type": "code",
   "execution_count": 17,
   "id": "74df3b89",
   "metadata": {},
   "outputs": [
    {
     "name": "stderr",
     "output_type": "stream",
     "text": [
      "C:\\Anaconda\\Lib\\site-packages\\keras\\src\\initializers\\initializers.py:120: UserWarning: The initializer LecunNormal is unseeded and being called multiple times, which will return identical values each time (even if the initializer is unseeded). Please update your code to provide a seed to the initializer, or avoid using the same initializer instance more than once.\n",
      "  warnings.warn(\n"
     ]
    }
   ],
   "source": [
    "from keras.initializers import GlorotUniform, LecunNormal\n",
    "from keras.activations import selu\n",
    "from keras.layers import BatchNormalization\n",
    "\n",
    "initializer_selu = LecunNormal(seed=None)\n",
    "initializer_g = GlorotUniform(seed=None)\n",
    "\n",
    "model = tf.keras.Sequential()\n",
    "\n",
    "model.add(keras.layers.Flatten(input_shape=[28, 28]))\n",
    "\n",
    "model.add(keras.layers.Dense(100, activation=selu, kernel_initializer=initializer_selu))\n",
    "model.add(BatchNormalization())\n",
    "\n",
    "model.add(keras.layers.Dense(75, activation=selu, kernel_initializer=initializer_selu))\n",
    "model.add(BatchNormalization())\n",
    "\n",
    "model.add(keras.layers.Dense(10, activation='softmax', kernel_initializer=initializer_g))\n",
    "model.add(BatchNormalization())"
   ]
  },
  {
   "cell_type": "code",
   "execution_count": null,
   "id": "50eb96b1",
   "metadata": {},
   "outputs": [],
   "source": []
  },
  {
   "cell_type": "code",
   "execution_count": 18,
   "id": "d5ec8848",
   "metadata": {},
   "outputs": [],
   "source": [
    "model.compile(\n",
    "    loss = 'sparse_categorical_crossentropy',\n",
    "    optimizer= 'sgd',\n",
    "    metrics=['accuracy']\n",
    "             )"
   ]
  },
  {
   "cell_type": "code",
   "execution_count": 19,
   "id": "e635f1f6",
   "metadata": {},
   "outputs": [
    {
     "name": "stdout",
     "output_type": "stream",
     "text": [
      "Epoch 1/10\n",
      "1594/1594 [==============================] - 5s 2ms/step - loss: 2.3504 - accuracy: 0.4198 - val_loss: 3.8420 - val_accuracy: 0.0969\n",
      "Epoch 2/10\n",
      "1594/1594 [==============================] - 3s 2ms/step - loss: 2.7467 - accuracy: 0.1006 - val_loss: 1.9008 - val_accuracy: 0.0969\n",
      "Epoch 3/10\n",
      "1594/1594 [==============================] - 3s 2ms/step - loss: 1.8132 - accuracy: 0.1005 - val_loss: 1.6772 - val_accuracy: 0.0969\n",
      "Epoch 4/10\n",
      "1594/1594 [==============================] - 4s 2ms/step - loss: 2.1064 - accuracy: 0.1009 - val_loss: 1.9921 - val_accuracy: 0.0974\n",
      "Epoch 5/10\n",
      "1594/1594 [==============================] - 3s 2ms/step - loss: 2.1215 - accuracy: 0.1017 - val_loss: 2.2252 - val_accuracy: 0.0978\n",
      "Epoch 6/10\n",
      "1594/1594 [==============================] - 3s 2ms/step - loss: 2.2004 - accuracy: 0.1032 - val_loss: 2.1550 - val_accuracy: 0.0988\n",
      "Epoch 7/10\n",
      "1594/1594 [==============================] - 3s 2ms/step - loss: 2.1641 - accuracy: 0.1041 - val_loss: 2.1397 - val_accuracy: 0.0969\n",
      "Epoch 8/10\n",
      "1594/1594 [==============================] - 3s 2ms/step - loss: 2.2174 - accuracy: 0.1021 - val_loss: 2.2064 - val_accuracy: 0.0969\n",
      "Epoch 9/10\n",
      "1594/1594 [==============================] - 3s 2ms/step - loss: 2.1996 - accuracy: 0.1030 - val_loss: 2.1854 - val_accuracy: 0.0969\n",
      "Epoch 10/10\n",
      "1594/1594 [==============================] - 4s 2ms/step - loss: 2.1852 - accuracy: 0.1040 - val_loss: 2.1625 - val_accuracy: 0.0969\n"
     ]
    }
   ],
   "source": [
    "history = model.fit(X_train,y_train,epochs = 10 ,validation_split=0.15)"
   ]
  },
  {
   "cell_type": "code",
   "execution_count": 20,
   "id": "823e08b3",
   "metadata": {},
   "outputs": [
    {
     "name": "stdout",
     "output_type": "stream",
     "text": [
      "313/313 [==============================] - 1s 1ms/step\n",
      "Accuracy: 0.1000\n",
      "Precision: 0.0100\n",
      "Recall: 0.1000\n",
      "F1-score: 0.0182\n"
     ]
    },
    {
     "name": "stderr",
     "output_type": "stream",
     "text": [
      "C:\\Anaconda\\Lib\\site-packages\\sklearn\\metrics\\_classification.py:1344: UndefinedMetricWarning: Precision is ill-defined and being set to 0.0 in labels with no predicted samples. Use `zero_division` parameter to control this behavior.\n",
      "  _warn_prf(average, modifier, msg_start, len(result))\n"
     ]
    }
   ],
   "source": [
    "from sklearn.metrics import accuracy_score, precision_score, recall_score, f1_score\n",
    "\n",
    "# Predict on the test set\n",
    "y_pred = model.predict(X_test)\n",
    "\n",
    "# Compute metrics\n",
    "accuracy = accuracy_score(y_test, y_pred.argmax(axis=1))\n",
    "precision = precision_score(y_test, y_pred.argmax(axis=1), average='macro')\n",
    "recall = recall_score(y_test, y_pred.argmax(axis=1), average='macro')\n",
    "f1 = f1_score(y_test, y_pred.argmax(axis=1), average='macro')\n",
    "\n",
    "print(f'Accuracy: {accuracy:.4f}')\n",
    "print(f'Precision: {precision:.4f}')\n",
    "print(f'Recall: {recall:.4f}')\n",
    "print(f'F1-score: {f1:.4f}')"
   ]
  },
  {
   "cell_type": "code",
   "execution_count": null,
   "id": "7881addb",
   "metadata": {},
   "outputs": [],
   "source": []
  },
  {
   "cell_type": "code",
   "execution_count": null,
   "id": "a7cd9d20",
   "metadata": {},
   "outputs": [],
   "source": []
  }
 ],
 "metadata": {
  "kernelspec": {
   "display_name": "Python 3 (ipykernel)",
   "language": "python",
   "name": "python3"
  },
  "language_info": {
   "codemirror_mode": {
    "name": "ipython",
    "version": 3
   },
   "file_extension": ".py",
   "mimetype": "text/x-python",
   "name": "python",
   "nbconvert_exporter": "python",
   "pygments_lexer": "ipython3",
   "version": "3.11.3"
  }
 },
 "nbformat": 4,
 "nbformat_minor": 5
}
