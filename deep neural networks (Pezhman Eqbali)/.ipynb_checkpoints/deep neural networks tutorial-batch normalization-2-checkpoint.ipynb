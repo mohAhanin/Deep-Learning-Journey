{
 "cells": [
  {
   "cell_type": "code",
   "execution_count": 1,
   "id": "792f354d-e198-4092-8f1a-566305c1cd89",
   "metadata": {
    "tags": []
   },
   "outputs": [],
   "source": [
    "import tensorflow as tf\n",
    "from sklearn.datasets import fetch_california_housing\n",
    "from tensorflow import keras\n",
    "from tensorflow.keras import layers\n",
    "import pandas as pd\n",
    "import matplotlib.pyplot as plt \n",
    "import numpy as np\n",
    "from sklearn.metrics import confusion_matrix, accuracy_score, precision_score, recall_score, f1_score, roc_auc_score\n"
   ]
  },
  {
   "cell_type": "code",
   "execution_count": 2,
   "id": "c964f2ec-4ef0-46b4-b3c8-85943e19ebd0",
   "metadata": {
    "tags": []
   },
   "outputs": [],
   "source": [
    "fmnist = keras.datasets.fashion_mnist"
   ]
  },
  {
   "cell_type": "code",
   "execution_count": 3,
   "id": "13cf4a6e-1610-4a16-9ac0-f5c81a60abe5",
   "metadata": {
    "tags": []
   },
   "outputs": [],
   "source": [
    "(X_train, y_train), (X_test, y_test) = fmnist.load_data()"
   ]
  },
  {
   "cell_type": "code",
   "execution_count": 4,
   "id": "6c48423f-dc8e-4670-abdc-589ac62dad4e",
   "metadata": {},
   "outputs": [
    {
     "name": "stdout",
     "output_type": "stream",
     "text": [
      "X_train : (60000, 28, 28)\n",
      "X_test : (10000, 28, 28)\n",
      "y_train : (60000,)\n",
      "y_test : (10000,)\n"
     ]
    }
   ],
   "source": [
    "print(f'X_train :',X_train.shape)\n",
    "print(f'X_test :',X_test.shape)\n",
    "print(f'y_train :',y_train.shape)\n",
    "print(f'y_test :',y_test.shape)"
   ]
  },
  {
   "cell_type": "code",
   "execution_count": 5,
   "id": "3408dbe5-81ee-424f-9a95-9bbbe3ab6780",
   "metadata": {
    "tags": []
   },
   "outputs": [],
   "source": [
    "#plt.imshow(X_train[0], cmap = 'gray')"
   ]
  },
  {
   "cell_type": "code",
   "execution_count": 6,
   "id": "18d29a78-1781-4f62-b9c1-d9a208a037e0",
   "metadata": {},
   "outputs": [],
   "source": [
    "#plt.imshow(y_train[0], cmap = 'gray')"
   ]
  },
  {
   "cell_type": "code",
   "execution_count": 7,
   "id": "cffb27eb-c517-4572-bafb-191b9cf88d7e",
   "metadata": {
    "tags": []
   },
   "outputs": [],
   "source": [
    "#X_train[0]"
   ]
  },
  {
   "cell_type": "code",
   "execution_count": 8,
   "id": "76ebf96b-d30d-4df6-8589-8b66ab8e8a74",
   "metadata": {
    "tags": []
   },
   "outputs": [],
   "source": [
    "#print(y_train[0])"
   ]
  },
  {
   "cell_type": "code",
   "execution_count": 9,
   "id": "9970b1f0-5616-4037-90ba-77b054af1646",
   "metadata": {
    "tags": []
   },
   "outputs": [],
   "source": [
    "X_train = X_train/255\n",
    "X_test = X_test/255"
   ]
  },
  {
   "cell_type": "code",
   "execution_count": 10,
   "id": "37594a0a",
   "metadata": {},
   "outputs": [
    {
     "data": {
      "text/plain": [
       "9"
      ]
     },
     "execution_count": 10,
     "metadata": {},
     "output_type": "execute_result"
    }
   ],
   "source": [
    "y_test.max()"
   ]
  },
  {
   "cell_type": "code",
   "execution_count": 11,
   "id": "90114d0f-7cdf-472b-b1a4-e35ba9d67dac",
   "metadata": {
    "tags": []
   },
   "outputs": [],
   "source": [
    "#X_train[0]"
   ]
  },
  {
   "cell_type": "code",
   "execution_count": 12,
   "id": "42418d9e-4c4e-4b4a-877c-2eb2432935a5",
   "metadata": {
    "tags": []
   },
   "outputs": [],
   "source": [
    "#plt.imshow(X_train[0], cmap = 'gray')"
   ]
  },
  {
   "cell_type": "code",
   "execution_count": 13,
   "id": "b10f25e4",
   "metadata": {},
   "outputs": [],
   "source": [
    "from keras.initializers import GlorotNormal\n",
    "initializer = GlorotNormal(seed=None)\n",
    "from keras.initializers import HeNormal\n",
    "initializer = HeNormal(seed=None)"
   ]
  },
  {
   "cell_type": "code",
   "execution_count": 14,
   "id": "4acc9caa-e9fb-4936-b4cf-03ce8ee84328",
   "metadata": {},
   "outputs": [],
   "source": [
    "model = tf.keras.Sequential()\n",
    "model.add(keras.layers.Flatten(input_shape=[28,28]))\n",
    "model.add(keras.layers.Dense(100,activation='relu',kernel_initializer=initializer))\n",
    "model.add(keras.layers.Dense(75,activation='relu'))\n",
    "model.add(keras.layers.Dense(10,activation='softmax'))"
   ]
  },
  {
   "cell_type": "code",
   "execution_count": 15,
   "id": "22571a98-7096-4b26-bcb8-8ff5bfd2fccf",
   "metadata": {},
   "outputs": [
    {
     "name": "stdout",
     "output_type": "stream",
     "text": [
      "Model: \"sequential\"\n",
      "_________________________________________________________________\n",
      " Layer (type)                Output Shape              Param #   \n",
      "=================================================================\n",
      " flatten (Flatten)           (None, 784)               0         \n",
      "                                                                 \n",
      " dense (Dense)               (None, 100)               78500     \n",
      "                                                                 \n",
      " dense_1 (Dense)             (None, 75)                7575      \n",
      "                                                                 \n",
      " dense_2 (Dense)             (None, 10)                760       \n",
      "                                                                 \n",
      "=================================================================\n",
      "Total params: 86835 (339.20 KB)\n",
      "Trainable params: 86835 (339.20 KB)\n",
      "Non-trainable params: 0 (0.00 Byte)\n",
      "_________________________________________________________________\n"
     ]
    }
   ],
   "source": [
    "model.summary()"
   ]
  },
  {
   "cell_type": "code",
   "execution_count": 16,
   "id": "85c301f3",
   "metadata": {},
   "outputs": [],
   "source": [
    "model.compile(\n",
    "    loss = 'sparse_categorical_crossentropy',\n",
    "    optimizer= 'sgd',\n",
    "    metrics=['accuracy']\n",
    "             )"
   ]
  },
  {
   "cell_type": "code",
   "execution_count": 17,
   "id": "1e07d984",
   "metadata": {},
   "outputs": [
    {
     "name": "stdout",
     "output_type": "stream",
     "text": [
      "Epoch 1/10\n",
      "1594/1594 [==============================] - 4s 2ms/step - loss: 0.7933 - accuracy: 0.7382 - val_loss: 0.5691 - val_accuracy: 0.8018\n",
      "Epoch 2/10\n",
      "1594/1594 [==============================] - 4s 2ms/step - loss: 0.5135 - accuracy: 0.8213 - val_loss: 0.4986 - val_accuracy: 0.8230\n",
      "Epoch 3/10\n",
      "1594/1594 [==============================] - 4s 2ms/step - loss: 0.4618 - accuracy: 0.8371 - val_loss: 0.4515 - val_accuracy: 0.8422\n",
      "Epoch 4/10\n",
      "1594/1594 [==============================] - 4s 2ms/step - loss: 0.4326 - accuracy: 0.8481 - val_loss: 0.4626 - val_accuracy: 0.8352\n",
      "Epoch 5/10\n",
      "1594/1594 [==============================] - 4s 2ms/step - loss: 0.4126 - accuracy: 0.8545 - val_loss: 0.4189 - val_accuracy: 0.8494\n",
      "Epoch 6/10\n",
      "1594/1594 [==============================] - 4s 2ms/step - loss: 0.3964 - accuracy: 0.8601 - val_loss: 0.4106 - val_accuracy: 0.8568\n",
      "Epoch 7/10\n",
      "1594/1594 [==============================] - 4s 3ms/step - loss: 0.3825 - accuracy: 0.8652 - val_loss: 0.3921 - val_accuracy: 0.8592\n",
      "Epoch 8/10\n",
      "1594/1594 [==============================] - 4s 2ms/step - loss: 0.3715 - accuracy: 0.8672 - val_loss: 0.3912 - val_accuracy: 0.8668\n",
      "Epoch 9/10\n",
      "1594/1594 [==============================] - 3s 2ms/step - loss: 0.3623 - accuracy: 0.8720 - val_loss: 0.3771 - val_accuracy: 0.8653\n",
      "Epoch 10/10\n",
      "1594/1594 [==============================] - 3s 2ms/step - loss: 0.3526 - accuracy: 0.8751 - val_loss: 0.3722 - val_accuracy: 0.8696\n"
     ]
    }
   ],
   "source": [
    "history = model.fit(X_train,y_train,epochs = 10,validation_split=0.15)"
   ]
  },
  {
   "cell_type": "code",
   "execution_count": 18,
   "id": "f8282153",
   "metadata": {},
   "outputs": [
    {
     "name": "stdout",
     "output_type": "stream",
     "text": [
      "313/313 [==============================] - 0s 1ms/step\n",
      "Confusion Matrix:\n",
      " [[817   0  10  40   3   3 108   0  19   0]\n",
      " [  3 950   5  33   5   0   3   0   1   0]\n",
      " [ 21   1 756  12 134   1  64   0  11   0]\n",
      " [ 27   8   8 873  33   1  43   0   7   0]\n",
      " [  0   0  89  27 805   1  68   0  10   0]\n",
      " [  0   0   0   1   0 947   0  33   3  16]\n",
      " [147   1 100  32  84   0 610   0  26   0]\n",
      " [  0   0   0   0   0  28   0 956   0  16]\n",
      " [  2   1   5   6   3   4   7   5 967   0]\n",
      " [  0   0   0   0   0  15   0  54   1 930]]\n",
      "Accuracy:  0.8611\n",
      "Precision:  0.8602700553016651\n",
      "Recall:  0.8611\n",
      "F1 Score:  0.860232823311191\n"
     ]
    }
   ],
   "source": [
    "y_pred = model.predict(X_test)\n",
    "y_pred\n",
    "\n",
    "y_pred_class = np.argmax(y_pred, axis=1) \n",
    "y_pred_class\n",
    "\n",
    "# Confusion Matrix\n",
    "cm = confusion_matrix(y_test, y_pred_class)\n",
    "print(\"Confusion Matrix:\\n\", cm)\n",
    "\n",
    "# Accuracy\n",
    "accuracy = accuracy_score(y_test, y_pred_class)\n",
    "print(\"Accuracy: \", accuracy)\n",
    "\n",
    "# Precision\n",
    "precision = precision_score(y_test, y_pred_class, average='weighted')\n",
    "print(\"Precision: \", precision)\n",
    "\n",
    "# Recall\n",
    "recall = recall_score(y_test, y_pred_class, average='weighted')\n",
    "print(\"Recall: \", recall)\n",
    "\n",
    "# F1 Score\n",
    "f1 = f1_score(y_test, y_pred_class, average='weighted')\n",
    "print(\"F1 Score: \", f1)\n",
    "\n",
    "# ROC AUC Score\n",
    "# roc_auc = roc_auc_score(y_test, y_pred_class, multi_class='ovr')\n",
    "# print(\"ROC AUC Score: \", roc_auc)\n"
   ]
  },
  {
   "cell_type": "markdown",
   "id": "f79a3a45",
   "metadata": {},
   "source": [
    "model 2"
   ]
  },
  {
   "cell_type": "code",
   "execution_count": 19,
   "id": "9a5de69a",
   "metadata": {},
   "outputs": [
    {
     "name": "stderr",
     "output_type": "stream",
     "text": [
      "C:\\Anaconda\\Lib\\site-packages\\keras\\src\\initializers\\initializers.py:120: UserWarning: The initializer HeNormal is unseeded and being called multiple times, which will return identical values each time (even if the initializer is unseeded). Please update your code to provide a seed to the initializer, or avoid using the same initializer instance more than once.\n",
      "  warnings.warn(\n"
     ]
    }
   ],
   "source": [
    "model = tf.keras.Sequential()\n",
    "model.add(keras.layers.Flatten(input_shape=[28,28]))\n",
    "model.add(keras.layers.Dense(100,activation='relu',kernel_initializer=initializer))\n",
    "model.add(keras.layers.Dense(75,activation='relu',kernel_initializer=initializer))\n",
    "model.add(keras.layers.Dense(10,activation='softmax'))"
   ]
  },
  {
   "cell_type": "code",
   "execution_count": 20,
   "id": "441882b3",
   "metadata": {},
   "outputs": [],
   "source": [
    "model.compile(\n",
    "    loss = 'sparse_categorical_crossentropy',\n",
    "    optimizer= 'sgd',\n",
    "    metrics=['accuracy']\n",
    "             )"
   ]
  },
  {
   "cell_type": "code",
   "execution_count": 21,
   "id": "888bd7fa",
   "metadata": {},
   "outputs": [
    {
     "name": "stdout",
     "output_type": "stream",
     "text": [
      "Epoch 1/10\n",
      "1594/1594 [==============================] - 4s 2ms/step - loss: 0.7219 - accuracy: 0.7608 - val_loss: 0.5547 - val_accuracy: 0.8087\n",
      "Epoch 2/10\n",
      "1594/1594 [==============================] - 4s 2ms/step - loss: 0.4914 - accuracy: 0.8298 - val_loss: 0.4893 - val_accuracy: 0.8266\n",
      "Epoch 3/10\n",
      "1594/1594 [==============================] - 3s 2ms/step - loss: 0.4456 - accuracy: 0.8432 - val_loss: 0.4315 - val_accuracy: 0.8482\n",
      "Epoch 4/10\n",
      "1594/1594 [==============================] - 3s 2ms/step - loss: 0.4191 - accuracy: 0.8524 - val_loss: 0.4210 - val_accuracy: 0.8549\n",
      "Epoch 5/10\n",
      "1594/1594 [==============================] - 3s 2ms/step - loss: 0.4011 - accuracy: 0.8588 - val_loss: 0.4113 - val_accuracy: 0.8563\n",
      "Epoch 6/10\n",
      "1594/1594 [==============================] - 4s 2ms/step - loss: 0.3840 - accuracy: 0.8644 - val_loss: 0.4035 - val_accuracy: 0.8608\n",
      "Epoch 7/10\n",
      "1594/1594 [==============================] - 3s 2ms/step - loss: 0.3730 - accuracy: 0.8686 - val_loss: 0.4030 - val_accuracy: 0.8574\n",
      "Epoch 8/10\n",
      "1594/1594 [==============================] - 4s 3ms/step - loss: 0.3611 - accuracy: 0.8719 - val_loss: 0.3934 - val_accuracy: 0.8612\n",
      "Epoch 9/10\n",
      "1594/1594 [==============================] - 5s 3ms/step - loss: 0.3514 - accuracy: 0.8755 - val_loss: 0.3807 - val_accuracy: 0.8662\n",
      "Epoch 10/10\n",
      "1594/1594 [==============================] - 3s 2ms/step - loss: 0.3423 - accuracy: 0.8791 - val_loss: 0.3664 - val_accuracy: 0.8689\n"
     ]
    }
   ],
   "source": [
    "history = model.fit(X_train,y_train,epochs = 10,validation_split=0.15)"
   ]
  },
  {
   "cell_type": "code",
   "execution_count": 22,
   "id": "069ba903",
   "metadata": {},
   "outputs": [
    {
     "name": "stdout",
     "output_type": "stream",
     "text": [
      "313/313 [==============================] - 0s 1ms/step\n",
      "Confusion Matrix:\n",
      " [[797   2  11  62   5   3 105   0  15   0]\n",
      " [  2 963   2  26   3   0   3   0   1   0]\n",
      " [ 15   2 812  20  91   0  46   1  12   1]\n",
      " [ 22   9  14 894  27   1  26   0   7   0]\n",
      " [  0   0 132  55 747   0  60   0   6   0]\n",
      " [  0   0   0   1   0 920   0  55   3  21]\n",
      " [133   1 111  52  77   0 599   0  27   0]\n",
      " [  0   0   0   0   0  18   0 961   0  21]\n",
      " [  0   1   3   7   3   1   5   8 972   0]\n",
      " [  0   0   0   0   0   6   0  56   1 937]]\n",
      "Accuracy:  0.8602\n",
      "Precision:  0.8595051462524591\n",
      "Recall:  0.8602\n",
      "F1 Score:  0.8586607954457042\n"
     ]
    }
   ],
   "source": [
    "y_pred = model.predict(X_test)\n",
    "y_pred\n",
    "\n",
    "y_pred_class = np.argmax(y_pred, axis=1) \n",
    "y_pred_class\n",
    "\n",
    "# Confusion Matrix\n",
    "cm = confusion_matrix(y_test, y_pred_class)\n",
    "print(\"Confusion Matrix:\\n\", cm)\n",
    "\n",
    "# Accuracy\n",
    "accuracy = accuracy_score(y_test, y_pred_class)\n",
    "print(\"Accuracy: \", accuracy)\n",
    "\n",
    "# Precision\n",
    "precision = precision_score(y_test, y_pred_class, average='weighted')\n",
    "print(\"Precision: \", precision)\n",
    "\n",
    "# Recall\n",
    "recall = recall_score(y_test, y_pred_class, average='weighted')\n",
    "print(\"Recall: \", recall)\n",
    "\n",
    "# F1 Score\n",
    "f1 = f1_score(y_test, y_pred_class, average='weighted')\n",
    "print(\"F1 Score: \", f1)\n",
    "\n",
    "# ROC AUC Score\n",
    "# roc_auc = roc_auc_score(y_test, y_pred_class, multi_class='ovr')\n",
    "# print(\"ROC AUC Score: \", roc_auc)\n"
   ]
  },
  {
   "cell_type": "markdown",
   "id": "952c388b",
   "metadata": {},
   "source": [
    "model 3"
   ]
  },
  {
   "cell_type": "code",
   "execution_count": 23,
   "id": "74df3b89",
   "metadata": {},
   "outputs": [
    {
     "name": "stderr",
     "output_type": "stream",
     "text": [
      "C:\\Anaconda\\Lib\\site-packages\\keras\\src\\initializers\\initializers.py:120: UserWarning: The initializer HeNormal is unseeded and being called multiple times, which will return identical values each time (even if the initializer is unseeded). Please update your code to provide a seed to the initializer, or avoid using the same initializer instance more than once.\n",
      "  warnings.warn(\n"
     ]
    },
    {
     "data": {
      "text/plain": [
       "<keras.src.layers.normalization.batch_normalization.BatchNormalization at 0x1b182a40e50>"
      ]
     },
     "execution_count": 23,
     "metadata": {},
     "output_type": "execute_result"
    }
   ],
   "source": [
    "from keras.initializers import GlorotUniform\n",
    "from keras.activations import selu\n",
    "\n",
    "initializer_g = GlorotUniform(seed=None)\n",
    "model = tf.keras.Sequential()\n",
    "model.add(keras.layers.Flatten(input_shape=[28,28]))\n",
    "model.add(keras.layers.Dense(100,activation=selu,kernel_initializer=initializer))\n",
    "keras.layers.BatchNormalization()\n",
    "model.add(keras.layers.Dense(75,activation=selu,kernel_initializer=initializer))\n",
    "keras.layers.BatchNormalization()\n",
    "model.add(keras.layers.Dense(10,activation='softmax',kernel_initializer=initializer_g))\n",
    "keras.layers.BatchNormalization()\n"
   ]
  },
  {
   "cell_type": "code",
   "execution_count": 24,
   "id": "d5ec8848",
   "metadata": {},
   "outputs": [],
   "source": [
    "model.compile(\n",
    "    loss = 'sparse_categorical_crossentropy',\n",
    "    optimizer= 'sgd',\n",
    "    metrics=['accuracy']\n",
    "             )"
   ]
  },
  {
   "cell_type": "code",
   "execution_count": 25,
   "id": "e635f1f6",
   "metadata": {},
   "outputs": [
    {
     "name": "stdout",
     "output_type": "stream",
     "text": [
      "Epoch 1/30\n",
      "1594/1594 [==============================] - 5s 3ms/step - loss: 0.5981 - accuracy: 0.7907 - val_loss: 0.4760 - val_accuracy: 0.8293\n",
      "Epoch 2/30\n",
      "1594/1594 [==============================] - 4s 2ms/step - loss: 0.4558 - accuracy: 0.8390 - val_loss: 0.4373 - val_accuracy: 0.8413\n",
      "Epoch 3/30\n",
      "1594/1594 [==============================] - 5s 3ms/step - loss: 0.4206 - accuracy: 0.8498 - val_loss: 0.4480 - val_accuracy: 0.8428\n",
      "Epoch 4/30\n",
      "1594/1594 [==============================] - 3s 2ms/step - loss: 0.4002 - accuracy: 0.8577 - val_loss: 0.3983 - val_accuracy: 0.8580\n",
      "Epoch 5/30\n",
      "1594/1594 [==============================] - 4s 2ms/step - loss: 0.3844 - accuracy: 0.8627 - val_loss: 0.3995 - val_accuracy: 0.8546\n",
      "Epoch 6/30\n",
      "1594/1594 [==============================] - 3s 2ms/step - loss: 0.3699 - accuracy: 0.8673 - val_loss: 0.3849 - val_accuracy: 0.8620\n",
      "Epoch 7/30\n",
      "1594/1594 [==============================] - 3s 2ms/step - loss: 0.3609 - accuracy: 0.8712 - val_loss: 0.3722 - val_accuracy: 0.8676\n",
      "Epoch 8/30\n",
      "1594/1594 [==============================] - 3s 2ms/step - loss: 0.3513 - accuracy: 0.8747 - val_loss: 0.3667 - val_accuracy: 0.8669\n",
      "Epoch 9/30\n",
      "1594/1594 [==============================] - 3s 2ms/step - loss: 0.3442 - accuracy: 0.8777 - val_loss: 0.3588 - val_accuracy: 0.8704\n",
      "Epoch 10/30\n",
      "1594/1594 [==============================] - 3s 2ms/step - loss: 0.3372 - accuracy: 0.8787 - val_loss: 0.3629 - val_accuracy: 0.8703\n",
      "Epoch 11/30\n",
      "1594/1594 [==============================] - 3s 2ms/step - loss: 0.3296 - accuracy: 0.8810 - val_loss: 0.3605 - val_accuracy: 0.8720\n",
      "Epoch 12/30\n",
      "1594/1594 [==============================] - 3s 2ms/step - loss: 0.3230 - accuracy: 0.8836 - val_loss: 0.3513 - val_accuracy: 0.8712\n",
      "Epoch 13/30\n",
      "1594/1594 [==============================] - 3s 2ms/step - loss: 0.3175 - accuracy: 0.8850 - val_loss: 0.3556 - val_accuracy: 0.8719\n",
      "Epoch 14/30\n",
      "1594/1594 [==============================] - 4s 2ms/step - loss: 0.3115 - accuracy: 0.8881 - val_loss: 0.3616 - val_accuracy: 0.8670\n",
      "Epoch 15/30\n",
      "1594/1594 [==============================] - 3s 2ms/step - loss: 0.3074 - accuracy: 0.8898 - val_loss: 0.3606 - val_accuracy: 0.8694\n",
      "Epoch 16/30\n",
      "1594/1594 [==============================] - 3s 2ms/step - loss: 0.3018 - accuracy: 0.8916 - val_loss: 0.3522 - val_accuracy: 0.8751\n",
      "Epoch 17/30\n",
      "1594/1594 [==============================] - 4s 2ms/step - loss: 0.2979 - accuracy: 0.8921 - val_loss: 0.3469 - val_accuracy: 0.8778\n",
      "Epoch 18/30\n",
      "1594/1594 [==============================] - 3s 2ms/step - loss: 0.2933 - accuracy: 0.8938 - val_loss: 0.3346 - val_accuracy: 0.8796\n",
      "Epoch 19/30\n",
      "1594/1594 [==============================] - 4s 2ms/step - loss: 0.2892 - accuracy: 0.8959 - val_loss: 0.3555 - val_accuracy: 0.8691\n",
      "Epoch 20/30\n",
      "1594/1594 [==============================] - 4s 2ms/step - loss: 0.2852 - accuracy: 0.8979 - val_loss: 0.3401 - val_accuracy: 0.8800\n",
      "Epoch 21/30\n",
      "1594/1594 [==============================] - 3s 2ms/step - loss: 0.2802 - accuracy: 0.8988 - val_loss: 0.3280 - val_accuracy: 0.8831\n",
      "Epoch 22/30\n",
      "1594/1594 [==============================] - 3s 2ms/step - loss: 0.2784 - accuracy: 0.8998 - val_loss: 0.3402 - val_accuracy: 0.8798\n",
      "Epoch 23/30\n",
      "1594/1594 [==============================] - 4s 2ms/step - loss: 0.2740 - accuracy: 0.9018 - val_loss: 0.3296 - val_accuracy: 0.8794\n",
      "Epoch 24/30\n",
      "1594/1594 [==============================] - 3s 2ms/step - loss: 0.2713 - accuracy: 0.9015 - val_loss: 0.3439 - val_accuracy: 0.8730\n",
      "Epoch 25/30\n",
      "1594/1594 [==============================] - 3s 2ms/step - loss: 0.2685 - accuracy: 0.9028 - val_loss: 0.3368 - val_accuracy: 0.8773\n",
      "Epoch 26/30\n",
      "1594/1594 [==============================] - 4s 2ms/step - loss: 0.2648 - accuracy: 0.9042 - val_loss: 0.3271 - val_accuracy: 0.8821\n",
      "Epoch 27/30\n",
      "1594/1594 [==============================] - 3s 2ms/step - loss: 0.2606 - accuracy: 0.9052 - val_loss: 0.3421 - val_accuracy: 0.8748\n",
      "Epoch 28/30\n",
      "1594/1594 [==============================] - 3s 2ms/step - loss: 0.2586 - accuracy: 0.9064 - val_loss: 0.3301 - val_accuracy: 0.8832\n",
      "Epoch 29/30\n",
      "1594/1594 [==============================] - 3s 2ms/step - loss: 0.2549 - accuracy: 0.9077 - val_loss: 0.3333 - val_accuracy: 0.8797\n",
      "Epoch 30/30\n",
      "1594/1594 [==============================] - 3s 2ms/step - loss: 0.2534 - accuracy: 0.9087 - val_loss: 0.3296 - val_accuracy: 0.8822\n"
     ]
    }
   ],
   "source": [
    "history = model.fit(X_train,y_train,epochs = 30,validation_split=0.15)"
   ]
  },
  {
   "cell_type": "code",
   "execution_count": 26,
   "id": "12320aaa",
   "metadata": {},
   "outputs": [
    {
     "name": "stdout",
     "output_type": "stream",
     "text": [
      "313/313 [==============================] - 0s 1ms/step\n",
      "Confusion Matrix:\n",
      " [[803   4  26  18   7   0 127   0  15   0]\n",
      " [  5 969   0  20   3   0   2   0   1   0]\n",
      " [ 12   1 818  15  93   0  53   1   7   0]\n",
      " [ 30  15  20 839  54   0  34   0   8   0]\n",
      " [  0   1 106  16 831   0  41   0   5   0]\n",
      " [  0   0   0   1   0 942   0  25   3  29]\n",
      " [106   1 111  23  83   0 657   0  19   0]\n",
      " [  0   0   0   0   0  21   0 905   0  74]\n",
      " [  4   0   4   3   6   2   5   3 973   0]\n",
      " [  0   0   0   1   0   4   1  19   0 975]]\n",
      "Accuracy:  0.8712\n",
      "Precision:  0.8720226875445014\n",
      "Recall:  0.8712\n",
      "F1 Score:  0.8708884564510734\n"
     ]
    }
   ],
   "source": [
    "y_pred = model.predict(X_test)\n",
    "y_pred\n",
    "\n",
    "y_pred_class = np.argmax(y_pred, axis=1) \n",
    "y_pred_class\n",
    "\n",
    "# Confusion Matrix\n",
    "cm = confusion_matrix(y_test, y_pred_class)\n",
    "print(\"Confusion Matrix:\\n\", cm)\n",
    "\n",
    "# Accuracy\n",
    "accuracy = accuracy_score(y_test, y_pred_class)\n",
    "print(\"Accuracy: \", accuracy)\n",
    "\n",
    "# Precision\n",
    "precision = precision_score(y_test, y_pred_class, average='weighted')\n",
    "print(\"Precision: \", precision)\n",
    "\n",
    "# Recall\n",
    "recall = recall_score(y_test, y_pred_class, average='weighted')\n",
    "print(\"Recall: \", recall)\n",
    "\n",
    "# F1 Score\n",
    "f1 = f1_score(y_test, y_pred_class, average='weighted')\n",
    "print(\"F1 Score: \", f1)\n",
    "\n",
    "# ROC AUC Score\n",
    "# roc_auc = roc_auc_score(y_test, y_pred_class, multi_class='ovr')\n",
    "# print(\"ROC AUC Score: \", roc_auc)\n"
   ]
  },
  {
   "cell_type": "code",
   "execution_count": 27,
   "id": "07809a1e",
   "metadata": {},
   "outputs": [],
   "source": [
    "init_1 = keras.initializers.VarianceScaling(scale=2.0, mode='fan_avg')"
   ]
  },
  {
   "cell_type": "code",
   "execution_count": 29,
   "id": "adc6272f",
   "metadata": {},
   "outputs": [],
   "source": [
    "model = keras.models.Sequential([\n",
    "    keras.layers.Flatten(input_shape=[28,28]),\n",
    "    keras.layers.Dense(100, activation='elu', kernel_initializer=init_1),\n",
    "    keras.layers.BatchNormalization(),\n",
    "    keras.layers.Dense(75),\n",
    "    keras.layers.LeakyReLU(alpha=0.3),\n",
    "    keras.layers.BatchNormalization(),\n",
    "    keras.layers.Dense(10,activation='softmax')\n",
    "])"
   ]
  },
  {
   "cell_type": "code",
   "execution_count": 30,
   "id": "3b042959",
   "metadata": {},
   "outputs": [],
   "source": [
    "model.compile(\n",
    "    loss = 'sparse_categorical_crossentropy',\n",
    "    optimizer= 'sgd',\n",
    "    metrics=['accuracy']\n",
    "             )"
   ]
  },
  {
   "cell_type": "code",
   "execution_count": 31,
   "id": "23c0cdc7",
   "metadata": {},
   "outputs": [
    {
     "name": "stdout",
     "output_type": "stream",
     "text": [
      "Epoch 1/30\n",
      "1594/1594 [==============================] - 16s 9ms/step - loss: 0.6055 - accuracy: 0.7900 - val_loss: 0.4811 - val_accuracy: 0.8282\n",
      "Epoch 2/30\n",
      "1594/1594 [==============================] - 10s 6ms/step - loss: 0.4645 - accuracy: 0.8368 - val_loss: 0.4241 - val_accuracy: 0.8518\n",
      "Epoch 3/30\n",
      "1594/1594 [==============================] - 13s 8ms/step - loss: 0.4278 - accuracy: 0.8486 - val_loss: 0.4042 - val_accuracy: 0.8542\n",
      "Epoch 4/30\n",
      "1594/1594 [==============================] - 14s 9ms/step - loss: 0.4015 - accuracy: 0.8580 - val_loss: 0.3931 - val_accuracy: 0.8613\n",
      "Epoch 5/30\n",
      "1594/1594 [==============================] - 8s 5ms/step - loss: 0.3863 - accuracy: 0.8628 - val_loss: 0.3767 - val_accuracy: 0.8662\n",
      "Epoch 6/30\n",
      "1594/1594 [==============================] - 8s 5ms/step - loss: 0.3715 - accuracy: 0.8672 - val_loss: 0.3774 - val_accuracy: 0.8621\n",
      "Epoch 7/30\n",
      "1594/1594 [==============================] - 11s 7ms/step - loss: 0.3613 - accuracy: 0.8696 - val_loss: 0.3638 - val_accuracy: 0.8698\n",
      "Epoch 8/30\n",
      "1594/1594 [==============================] - 11s 7ms/step - loss: 0.3499 - accuracy: 0.8752 - val_loss: 0.3581 - val_accuracy: 0.8722\n",
      "Epoch 9/30\n",
      "1594/1594 [==============================] - 9s 6ms/step - loss: 0.3397 - accuracy: 0.8783 - val_loss: 0.3506 - val_accuracy: 0.8734\n",
      "Epoch 10/30\n",
      "1594/1594 [==============================] - 8s 5ms/step - loss: 0.3309 - accuracy: 0.8803 - val_loss: 0.3679 - val_accuracy: 0.8643\n",
      "Epoch 11/30\n",
      "1594/1594 [==============================] - 8s 5ms/step - loss: 0.3247 - accuracy: 0.8836 - val_loss: 0.3535 - val_accuracy: 0.8724\n",
      "Epoch 12/30\n",
      "1594/1594 [==============================] - 8s 5ms/step - loss: 0.3166 - accuracy: 0.8861 - val_loss: 0.3510 - val_accuracy: 0.8768\n",
      "Epoch 13/30\n",
      "1594/1594 [==============================] - 8s 5ms/step - loss: 0.3105 - accuracy: 0.8867 - val_loss: 0.3460 - val_accuracy: 0.8780\n",
      "Epoch 14/30\n",
      "1594/1594 [==============================] - 8s 5ms/step - loss: 0.3046 - accuracy: 0.8899 - val_loss: 0.3381 - val_accuracy: 0.8818\n",
      "Epoch 15/30\n",
      "1594/1594 [==============================] - 8s 5ms/step - loss: 0.2985 - accuracy: 0.8910 - val_loss: 0.3425 - val_accuracy: 0.8792\n",
      "Epoch 16/30\n",
      "1594/1594 [==============================] - 8s 5ms/step - loss: 0.2932 - accuracy: 0.8937 - val_loss: 0.3455 - val_accuracy: 0.8776\n",
      "Epoch 17/30\n",
      "1594/1594 [==============================] - 8s 5ms/step - loss: 0.2887 - accuracy: 0.8951 - val_loss: 0.3398 - val_accuracy: 0.8793\n",
      "Epoch 18/30\n",
      "1594/1594 [==============================] - 8s 5ms/step - loss: 0.2841 - accuracy: 0.8963 - val_loss: 0.3269 - val_accuracy: 0.8823\n",
      "Epoch 19/30\n",
      "1594/1594 [==============================] - 8s 5ms/step - loss: 0.2793 - accuracy: 0.8982 - val_loss: 0.3294 - val_accuracy: 0.8808\n",
      "Epoch 20/30\n",
      "1594/1594 [==============================] - 9s 6ms/step - loss: 0.2779 - accuracy: 0.8977 - val_loss: 0.3291 - val_accuracy: 0.8820\n",
      "Epoch 21/30\n",
      "1594/1594 [==============================] - 10s 7ms/step - loss: 0.2719 - accuracy: 0.9003 - val_loss: 0.3246 - val_accuracy: 0.8842\n",
      "Epoch 22/30\n",
      "1594/1594 [==============================] - 8s 5ms/step - loss: 0.2677 - accuracy: 0.9027 - val_loss: 0.3251 - val_accuracy: 0.8852\n",
      "Epoch 23/30\n",
      "1594/1594 [==============================] - 8s 5ms/step - loss: 0.2628 - accuracy: 0.9036 - val_loss: 0.3266 - val_accuracy: 0.8850\n",
      "Epoch 24/30\n",
      "1594/1594 [==============================] - 9s 6ms/step - loss: 0.2585 - accuracy: 0.9048 - val_loss: 0.3300 - val_accuracy: 0.8827\n",
      "Epoch 25/30\n",
      "1594/1594 [==============================] - 8s 5ms/step - loss: 0.2561 - accuracy: 0.9070 - val_loss: 0.3317 - val_accuracy: 0.8799\n",
      "Epoch 26/30\n",
      "1594/1594 [==============================] - 10s 6ms/step - loss: 0.2534 - accuracy: 0.9078 - val_loss: 0.3316 - val_accuracy: 0.8819\n",
      "Epoch 27/30\n",
      "1594/1594 [==============================] - 10s 7ms/step - loss: 0.2483 - accuracy: 0.9082 - val_loss: 0.3360 - val_accuracy: 0.8839\n",
      "Epoch 28/30\n",
      "1594/1594 [==============================] - 14s 9ms/step - loss: 0.2465 - accuracy: 0.9096 - val_loss: 0.3688 - val_accuracy: 0.8698\n",
      "Epoch 29/30\n",
      "1594/1594 [==============================] - 9s 6ms/step - loss: 0.2429 - accuracy: 0.9113 - val_loss: 0.3473 - val_accuracy: 0.8742\n",
      "Epoch 30/30\n",
      "1594/1594 [==============================] - 9s 6ms/step - loss: 0.2416 - accuracy: 0.9123 - val_loss: 0.3227 - val_accuracy: 0.8868\n"
     ]
    }
   ],
   "source": [
    "history = model.fit(X_train,y_train,epochs = 30,validation_split=0.15)"
   ]
  },
  {
   "cell_type": "code",
   "execution_count": 32,
   "id": "7bf6b50a",
   "metadata": {},
   "outputs": [
    {
     "name": "stdout",
     "output_type": "stream",
     "text": [
      "313/313 [==============================] - 1s 3ms/step\n",
      "Confusion Matrix:\n",
      " [[825   3  21  24   2   2 113   0  10   0]\n",
      " [  3 972   2  18   1   0   3   0   1   0]\n",
      " [ 12   3 828  14  85   0  56   1   1   0]\n",
      " [ 35  15  20 867  37   0  23   1   2   0]\n",
      " [  1   2 107  33 814   0  39   0   4   0]\n",
      " [  1   0   0   1   0 938   0  34   3  23]\n",
      " [127   3 100  29  75   0 653   0  13   0]\n",
      " [  0   0   0   0   0  13   0 965   0  22]\n",
      " [  3   1   4   3   3   2  10   5 969   0]\n",
      " [  0   0   0   0   0   5   1  46   0 948]]\n",
      "Accuracy:  0.8779\n",
      "Precision:  0.8776863722475219\n",
      "Recall:  0.8779\n",
      "F1 Score:  0.877359177679597\n"
     ]
    }
   ],
   "source": [
    "y_pred = model.predict(X_test)\n",
    "y_pred\n",
    "\n",
    "y_pred_class = np.argmax(y_pred, axis=1) \n",
    "y_pred_class\n",
    "\n",
    "# Confusion Matrix\n",
    "cm = confusion_matrix(y_test, y_pred_class)\n",
    "print(\"Confusion Matrix:\\n\", cm)\n",
    "\n",
    "# Accuracy\n",
    "accuracy = accuracy_score(y_test, y_pred_class)\n",
    "print(\"Accuracy: \", accuracy)\n",
    "\n",
    "# Precision\n",
    "precision = precision_score(y_test, y_pred_class, average='weighted')\n",
    "print(\"Precision: \", precision)\n",
    "\n",
    "# Recall\n",
    "recall = recall_score(y_test, y_pred_class, average='weighted')\n",
    "print(\"Recall: \", recall)\n",
    "\n",
    "# F1 Score\n",
    "f1 = f1_score(y_test, y_pred_class, average='weighted')\n",
    "print(\"F1 Score: \", f1)\n",
    "\n",
    "# ROC AUC Score\n",
    "# roc_auc = roc_auc_score(y_test, y_pred_class, multi_class='ovr')\n",
    "# print(\"ROC AUC Score: \", roc_auc)\n"
   ]
  },
  {
   "cell_type": "code",
   "execution_count": 34,
   "id": "38b8ead6",
   "metadata": {},
   "outputs": [
    {
     "name": "stderr",
     "output_type": "stream",
     "text": [
      "C:\\Anaconda\\Lib\\site-packages\\keras\\src\\initializers\\initializers.py:120: UserWarning: The initializer VarianceScaling is unseeded and being called multiple times, which will return identical values each time (even if the initializer is unseeded). Please update your code to provide a seed to the initializer, or avoid using the same initializer instance more than once.\n",
      "  warnings.warn(\n"
     ]
    }
   ],
   "source": [
    "model = keras.models.Sequential([\n",
    "    keras.layers.Flatten(input_shape=[28,28]),\n",
    "    keras.layers.BatchNormalization(),\n",
    "    keras.layers.Dense(100, kernel_initializer=init_1,use_bias=False),\n",
    "    keras.layers.BatchNormalization(),\n",
    "    keras.layers.Activation(\"elu\"),\n",
    "    keras.layers.Dense(75,use_bias=False),\n",
    "    keras.layers.BatchNormalization(),\n",
    "    keras.layers.LeakyReLU(alpha=0.3),\n",
    "    keras.layers.Dense(10,activation='softmax')\n",
    "])"
   ]
  },
  {
   "cell_type": "code",
   "execution_count": 35,
   "id": "0ade2550",
   "metadata": {},
   "outputs": [],
   "source": [
    "model.compile(\n",
    "    loss = 'sparse_categorical_crossentropy',\n",
    "    optimizer= 'sgd',\n",
    "    metrics=['accuracy']\n",
    "             )"
   ]
  },
  {
   "cell_type": "code",
   "execution_count": 36,
   "id": "957da8bb",
   "metadata": {},
   "outputs": [
    {
     "name": "stdout",
     "output_type": "stream",
     "text": [
      "Epoch 1/30\n",
      "1594/1594 [==============================] - 13s 7ms/step - loss: 0.6756 - accuracy: 0.7739 - val_loss: 0.4850 - val_accuracy: 0.8276\n",
      "Epoch 2/30\n",
      "1594/1594 [==============================] - 15s 10ms/step - loss: 0.4902 - accuracy: 0.8293 - val_loss: 0.4331 - val_accuracy: 0.8481\n",
      "Epoch 3/30\n",
      "1594/1594 [==============================] - 14s 9ms/step - loss: 0.4496 - accuracy: 0.8427 - val_loss: 0.4111 - val_accuracy: 0.8558\n",
      "Epoch 4/30\n",
      "1594/1594 [==============================] - 13s 8ms/step - loss: 0.4221 - accuracy: 0.8510 - val_loss: 0.3945 - val_accuracy: 0.8594\n",
      "Epoch 5/30\n",
      "1594/1594 [==============================] - 13s 8ms/step - loss: 0.4053 - accuracy: 0.8578 - val_loss: 0.3866 - val_accuracy: 0.8627\n",
      "Epoch 6/30\n",
      "1594/1594 [==============================] - 12s 8ms/step - loss: 0.3910 - accuracy: 0.8611 - val_loss: 0.3750 - val_accuracy: 0.8671\n",
      "Epoch 7/30\n",
      "1594/1594 [==============================] - 14s 9ms/step - loss: 0.3787 - accuracy: 0.8665 - val_loss: 0.3720 - val_accuracy: 0.8681\n",
      "Epoch 8/30\n",
      "1594/1594 [==============================] - 10s 6ms/step - loss: 0.3671 - accuracy: 0.8695 - val_loss: 0.3692 - val_accuracy: 0.8714\n",
      "Epoch 9/30\n",
      "1594/1594 [==============================] - 8s 5ms/step - loss: 0.3591 - accuracy: 0.8723 - val_loss: 0.3566 - val_accuracy: 0.8749\n",
      "Epoch 10/30\n",
      "1594/1594 [==============================] - 8s 5ms/step - loss: 0.3507 - accuracy: 0.8745 - val_loss: 0.3578 - val_accuracy: 0.8731\n",
      "Epoch 11/30\n",
      "1594/1594 [==============================] - 8s 5ms/step - loss: 0.3423 - accuracy: 0.8788 - val_loss: 0.3510 - val_accuracy: 0.8766\n",
      "Epoch 12/30\n",
      "1594/1594 [==============================] - 9s 6ms/step - loss: 0.3368 - accuracy: 0.8789 - val_loss: 0.3513 - val_accuracy: 0.8749\n",
      "Epoch 13/30\n",
      "1594/1594 [==============================] - 8s 5ms/step - loss: 0.3269 - accuracy: 0.8821 - val_loss: 0.3453 - val_accuracy: 0.8773\n",
      "Epoch 14/30\n",
      "1594/1594 [==============================] - 10s 6ms/step - loss: 0.3213 - accuracy: 0.8845 - val_loss: 0.3417 - val_accuracy: 0.8798\n",
      "Epoch 15/30\n",
      "1594/1594 [==============================] - 10s 6ms/step - loss: 0.3150 - accuracy: 0.8853 - val_loss: 0.3404 - val_accuracy: 0.8793\n",
      "Epoch 16/30\n",
      "1594/1594 [==============================] - 9s 6ms/step - loss: 0.3098 - accuracy: 0.8890 - val_loss: 0.3421 - val_accuracy: 0.8791\n",
      "Epoch 17/30\n",
      "1594/1594 [==============================] - 9s 6ms/step - loss: 0.3032 - accuracy: 0.8911 - val_loss: 0.3352 - val_accuracy: 0.8817\n",
      "Epoch 18/30\n",
      "1594/1594 [==============================] - 9s 6ms/step - loss: 0.2979 - accuracy: 0.8924 - val_loss: 0.3362 - val_accuracy: 0.8802\n",
      "Epoch 19/30\n",
      "1594/1594 [==============================] - 11s 7ms/step - loss: 0.2945 - accuracy: 0.8931 - val_loss: 0.3314 - val_accuracy: 0.8821\n",
      "Epoch 20/30\n",
      "1594/1594 [==============================] - 10s 6ms/step - loss: 0.2888 - accuracy: 0.8958 - val_loss: 0.3330 - val_accuracy: 0.8814\n",
      "Epoch 21/30\n",
      "1594/1594 [==============================] - 9s 6ms/step - loss: 0.2871 - accuracy: 0.8956 - val_loss: 0.3271 - val_accuracy: 0.8831\n",
      "Epoch 22/30\n",
      "1594/1594 [==============================] - 8s 5ms/step - loss: 0.2824 - accuracy: 0.8985 - val_loss: 0.3281 - val_accuracy: 0.8838\n",
      "Epoch 23/30\n",
      "1594/1594 [==============================] - 11s 7ms/step - loss: 0.2778 - accuracy: 0.9004 - val_loss: 0.3257 - val_accuracy: 0.8857\n",
      "Epoch 24/30\n",
      "1594/1594 [==============================] - 11s 7ms/step - loss: 0.2743 - accuracy: 0.9004 - val_loss: 0.3272 - val_accuracy: 0.8850\n",
      "Epoch 25/30\n",
      "1594/1594 [==============================] - 10s 6ms/step - loss: 0.2700 - accuracy: 0.9006 - val_loss: 0.3340 - val_accuracy: 0.8808\n",
      "Epoch 26/30\n",
      "1594/1594 [==============================] - 12s 7ms/step - loss: 0.2670 - accuracy: 0.9025 - val_loss: 0.3255 - val_accuracy: 0.8870\n",
      "Epoch 27/30\n",
      "1594/1594 [==============================] - 11s 7ms/step - loss: 0.2648 - accuracy: 0.9028 - val_loss: 0.3349 - val_accuracy: 0.8803\n",
      "Epoch 28/30\n",
      "1594/1594 [==============================] - 15s 9ms/step - loss: 0.2593 - accuracy: 0.9060 - val_loss: 0.3238 - val_accuracy: 0.8859\n",
      "Epoch 29/30\n",
      "1594/1594 [==============================] - 8s 5ms/step - loss: 0.2571 - accuracy: 0.9063 - val_loss: 0.3272 - val_accuracy: 0.8880\n",
      "Epoch 30/30\n",
      "1594/1594 [==============================] - 8s 5ms/step - loss: 0.2521 - accuracy: 0.9076 - val_loss: 0.3315 - val_accuracy: 0.8863\n"
     ]
    }
   ],
   "source": [
    "history = model.fit(X_train,y_train,epochs = 30,validation_split=0.15)"
   ]
  },
  {
   "cell_type": "code",
   "execution_count": 37,
   "id": "dea64bee",
   "metadata": {},
   "outputs": [
    {
     "name": "stdout",
     "output_type": "stream",
     "text": [
      "313/313 [==============================] - 1s 3ms/step\n",
      "Confusion Matrix:\n",
      " [[789   5  13  28   3   4 150   1   7   0]\n",
      " [  5 965   2  21   4   0   2   0   1   0]\n",
      " [ 14   2 777  15 103   1  85   1   2   0]\n",
      " [ 23  10  16 901  19   4  24   0   3   0]\n",
      " [  1   1  79  45 804   1  64   0   5   0]\n",
      " [  0   0   0   1   0 962   0  24   2  11]\n",
      " [103   2  82  32  56   0 712   0  13   0]\n",
      " [  0   0   0   0   0  32   0 954   0  14]\n",
      " [  6   3   2   8   2   4   5   5 965   0]\n",
      " [  0   0   0   1   0  13   1  52   0 933]]\n",
      "Accuracy:  0.8762\n",
      "Precision:  0.8768820918368466\n",
      "Recall:  0.8762\n",
      "F1 Score:  0.8762711185874877\n"
     ]
    }
   ],
   "source": [
    "y_pred = model.predict(X_test)\n",
    "y_pred\n",
    "\n",
    "y_pred_class = np.argmax(y_pred, axis=1) \n",
    "y_pred_class\n",
    "\n",
    "# Confusion Matrix\n",
    "cm = confusion_matrix(y_test, y_pred_class)\n",
    "print(\"Confusion Matrix:\\n\", cm)\n",
    "\n",
    "# Accuracy\n",
    "accuracy = accuracy_score(y_test, y_pred_class)\n",
    "print(\"Accuracy: \", accuracy)\n",
    "\n",
    "# Precision\n",
    "precision = precision_score(y_test, y_pred_class, average='weighted')\n",
    "print(\"Precision: \", precision)\n",
    "\n",
    "# Recall\n",
    "recall = recall_score(y_test, y_pred_class, average='weighted')\n",
    "print(\"Recall: \", recall)\n",
    "\n",
    "# F1 Score\n",
    "f1 = f1_score(y_test, y_pred_class, average='weighted')\n",
    "print(\"F1 Score: \", f1)\n",
    "\n",
    "# ROC AUC Score\n",
    "# roc_auc = roc_auc_score(y_test, y_pred_class, multi_class='ovr')\n",
    "# print(\"ROC AUC Score: \", roc_auc)\n"
   ]
  },
  {
   "cell_type": "code",
   "execution_count": null,
   "id": "419888da",
   "metadata": {},
   "outputs": [],
   "source": []
  }
 ],
 "metadata": {
  "kernelspec": {
   "display_name": "Python 3 (ipykernel)",
   "language": "python",
   "name": "python3"
  },
  "language_info": {
   "codemirror_mode": {
    "name": "ipython",
    "version": 3
   },
   "file_extension": ".py",
   "mimetype": "text/x-python",
   "name": "python",
   "nbconvert_exporter": "python",
   "pygments_lexer": "ipython3",
   "version": "3.11.3"
  }
 },
 "nbformat": 4,
 "nbformat_minor": 5
}
