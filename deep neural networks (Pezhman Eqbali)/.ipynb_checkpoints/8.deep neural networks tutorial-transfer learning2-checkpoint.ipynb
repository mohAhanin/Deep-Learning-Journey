{
 "cells": [
  {
   "cell_type": "code",
   "execution_count": 18,
   "id": "792f354d-e198-4092-8f1a-566305c1cd89",
   "metadata": {
    "tags": []
   },
   "outputs": [],
   "source": [
    "import tensorflow as tf\n",
    "from sklearn.datasets import fetch_california_housing\n",
    "from tensorflow import keras\n",
    "from tensorflow.keras import layers\n",
    "import pandas as pd\n",
    "import matplotlib.pyplot as plt \n",
    "from sklearn.metrics import confusion_matrix, precision_score, recall_score, f1_score\n",
    "import numpy as np"
   ]
  },
  {
   "cell_type": "code",
   "execution_count": 3,
   "id": "c964f2ec-4ef0-46b4-b3c8-85943e19ebd0",
   "metadata": {
    "tags": []
   },
   "outputs": [],
   "source": [
    "fmnist = keras.datasets.fashion_mnist"
   ]
  },
  {
   "cell_type": "code",
   "execution_count": 4,
   "id": "13cf4a6e-1610-4a16-9ac0-f5c81a60abe5",
   "metadata": {
    "tags": []
   },
   "outputs": [],
   "source": [
    "(X_train, y_train), (X_test, y_test) = fmnist.load_data()"
   ]
  },
  {
   "cell_type": "code",
   "execution_count": 5,
   "id": "6c48423f-dc8e-4670-abdc-589ac62dad4e",
   "metadata": {},
   "outputs": [
    {
     "name": "stdout",
     "output_type": "stream",
     "text": [
      "X_train : (60000, 28, 28)\n",
      "X_test : (10000, 28, 28)\n",
      "y_train : (60000,)\n",
      "y_test : (10000,)\n"
     ]
    }
   ],
   "source": [
    "print(f'X_train :',X_train.shape)\n",
    "print(f'X_test :',X_test.shape)\n",
    "print(f'y_train :',y_train.shape)\n",
    "print(f'y_test :',y_test.shape)"
   ]
  },
  {
   "cell_type": "code",
   "execution_count": 6,
   "id": "3408dbe5-81ee-424f-9a95-9bbbe3ab6780",
   "metadata": {
    "tags": []
   },
   "outputs": [],
   "source": [
    "#plt.imshow(X_train[0], cmap = 'gray')"
   ]
  },
  {
   "cell_type": "code",
   "execution_count": 7,
   "id": "18d29a78-1781-4f62-b9c1-d9a208a037e0",
   "metadata": {},
   "outputs": [],
   "source": [
    "#plt.imshow(y_train[0], cmap = 'gray')"
   ]
  },
  {
   "cell_type": "code",
   "execution_count": 8,
   "id": "cffb27eb-c517-4572-bafb-191b9cf88d7e",
   "metadata": {
    "tags": []
   },
   "outputs": [],
   "source": [
    "#X_train[0]"
   ]
  },
  {
   "cell_type": "code",
   "execution_count": 9,
   "id": "76ebf96b-d30d-4df6-8589-8b66ab8e8a74",
   "metadata": {
    "tags": []
   },
   "outputs": [],
   "source": [
    "#print(y_train[0])"
   ]
  },
  {
   "cell_type": "code",
   "execution_count": 10,
   "id": "9970b1f0-5616-4037-90ba-77b054af1646",
   "metadata": {
    "tags": []
   },
   "outputs": [],
   "source": [
    "X_train=X_train/255\n",
    "X_test=X_test/255"
   ]
  },
  {
   "cell_type": "code",
   "execution_count": 11,
   "id": "90114d0f-7cdf-472b-b1a4-e35ba9d67dac",
   "metadata": {
    "tags": []
   },
   "outputs": [],
   "source": [
    "#X_train[0]"
   ]
  },
  {
   "cell_type": "code",
   "execution_count": 12,
   "id": "42418d9e-4c4e-4b4a-877c-2eb2432935a5",
   "metadata": {
    "tags": []
   },
   "outputs": [],
   "source": [
    "#plt.imshow(X_train[0], cmap = 'gray')"
   ]
  },
  {
   "cell_type": "markdown",
   "id": "7f1077be",
   "metadata": {},
   "source": [
    "# saved model initiation"
   ]
  },
  {
   "cell_type": "code",
   "execution_count": 13,
   "id": "4acc9caa-e9fb-4936-b4cf-03ce8ee84328",
   "metadata": {},
   "outputs": [],
   "source": [
    "model = tf.keras.Sequential()\n",
    "model.add(keras.layers.Flatten(input_shape=[28,28]))\n",
    "model.add(keras.layers.Dense(100,activation='relu'))\n",
    "model.add(keras.layers.Dense(75,activation='relu'))\n",
    "model.add(keras.layers.Dense(10,activation='softmax'))"
   ]
  },
  {
   "cell_type": "code",
   "execution_count": 15,
   "id": "22571a98-7096-4b26-bcb8-8ff5bfd2fccf",
   "metadata": {},
   "outputs": [
    {
     "name": "stdout",
     "output_type": "stream",
     "text": [
      "Model: \"sequential\"\n",
      "_________________________________________________________________\n",
      " Layer (type)                Output Shape              Param #   \n",
      "=================================================================\n",
      " flatten (Flatten)           (None, 784)               0         \n",
      "                                                                 \n",
      " dense (Dense)               (None, 100)               78500     \n",
      "                                                                 \n",
      " dense_1 (Dense)             (None, 75)                7575      \n",
      "                                                                 \n",
      " dense_2 (Dense)             (None, 10)                760       \n",
      "                                                                 \n",
      "=================================================================\n",
      "Total params: 86835 (339.20 KB)\n",
      "Trainable params: 86835 (339.20 KB)\n",
      "Non-trainable params: 0 (0.00 Byte)\n",
      "_________________________________________________________________\n"
     ]
    }
   ],
   "source": [
    "model.summary()"
   ]
  },
  {
   "cell_type": "code",
   "execution_count": 16,
   "id": "85c301f3",
   "metadata": {},
   "outputs": [],
   "source": [
    "model.compile(\n",
    "    loss = 'sparse_categorical_crossentropy',\n",
    "    optimizer= 'sgd',\n",
    "    metrics=['accuracy']\n",
    "             )"
   ]
  },
  {
   "cell_type": "code",
   "execution_count": 17,
   "id": "1e07d984",
   "metadata": {},
   "outputs": [
    {
     "name": "stdout",
     "output_type": "stream",
     "text": [
      "Epoch 1/10\n",
      "1594/1594 [==============================] - 8s 4ms/step - loss: 0.7672 - accuracy: 0.7479 - val_loss: 0.6766 - val_accuracy: 0.7371\n",
      "Epoch 2/10\n",
      "1594/1594 [==============================] - 8s 5ms/step - loss: 0.5086 - accuracy: 0.8247 - val_loss: 0.4746 - val_accuracy: 0.8343\n",
      "Epoch 3/10\n",
      "1594/1594 [==============================] - 12s 8ms/step - loss: 0.4609 - accuracy: 0.8392 - val_loss: 0.4764 - val_accuracy: 0.8321\n",
      "Epoch 4/10\n",
      "1594/1594 [==============================] - 8s 5ms/step - loss: 0.4352 - accuracy: 0.8479 - val_loss: 0.4506 - val_accuracy: 0.8397\n",
      "Epoch 5/10\n",
      "1594/1594 [==============================] - 8s 5ms/step - loss: 0.4140 - accuracy: 0.8553 - val_loss: 0.4236 - val_accuracy: 0.8522\n",
      "Epoch 6/10\n",
      "1594/1594 [==============================] - 8s 5ms/step - loss: 0.3982 - accuracy: 0.8601 - val_loss: 0.4141 - val_accuracy: 0.8561\n",
      "Epoch 7/10\n",
      "1594/1594 [==============================] - 8s 5ms/step - loss: 0.3856 - accuracy: 0.8637 - val_loss: 0.4164 - val_accuracy: 0.8563\n",
      "Epoch 8/10\n",
      "1594/1594 [==============================] - 9s 6ms/step - loss: 0.3742 - accuracy: 0.8676 - val_loss: 0.4069 - val_accuracy: 0.8556\n",
      "Epoch 9/10\n",
      "1594/1594 [==============================] - 8s 5ms/step - loss: 0.3641 - accuracy: 0.8724 - val_loss: 0.3995 - val_accuracy: 0.8569\n",
      "Epoch 10/10\n",
      "1594/1594 [==============================] - 6s 4ms/step - loss: 0.3561 - accuracy: 0.8737 - val_loss: 0.3923 - val_accuracy: 0.8626\n"
     ]
    }
   ],
   "source": [
    "history = model.fit(X_train,y_train,epochs = 10,validation_split=0.15)"
   ]
  },
  {
   "cell_type": "markdown",
   "id": "5d12b798",
   "metadata": {},
   "source": [
    "# evaluating the model"
   ]
  },
  {
   "cell_type": "code",
   "execution_count": 19,
   "id": "ee5350cc",
   "metadata": {},
   "outputs": [
    {
     "name": "stdout",
     "output_type": "stream",
     "text": [
      "313/313 [==============================] - 1s 3ms/step\n",
      "Precision: 0.8567874982327777\n",
      "Recall: 0.8543000000000001\n",
      "F1 Score: 0.8512514599448885\n",
      "Confusion Matrix: \n",
      "[[832   3   8  66   5   2  65   0  18   1]\n",
      " [  2 962   1  26   3   0   3   0   3   0]\n",
      " [ 18   2 660  19 227   1  57   0  16   0]\n",
      " [ 20  13   5 904  28   1  22   0   7   0]\n",
      " [  0   2  49  50 855   0  36   0   8   0]\n",
      " [  0   1   0   0   0 935   0  46   3  15]\n",
      " [147   1  67  69 154   0 536   0  26   0]\n",
      " [  0   0   0   0   0  29   0 946   0  25]\n",
      " [  1   1   0   7   5   1   6   6 973   0]\n",
      " [  0   0   0   0   0  11   0  48   1 940]]\n"
     ]
    }
   ],
   "source": [
    "# Get the model's predictions\n",
    "y_pred = np.argmax(model.predict(X_test), axis=-1)\n",
    "\n",
    "# Calculate Precision\n",
    "precision = precision_score(y_test, y_pred, average='macro')\n",
    "print(f'Precision: {precision}')\n",
    "\n",
    "# Calculate Recall\n",
    "recall = recall_score(y_test, y_pred, average='macro')\n",
    "print(f'Recall: {recall}')\n",
    "\n",
    "# Calculate F1 score\n",
    "f1 = f1_score(y_test, y_pred, average='macro')\n",
    "print(f'F1 Score: {f1}')\n",
    "\n",
    "# Calculate Confusion Matrix\n",
    "conf_mat = confusion_matrix(y_test, y_pred)\n",
    "print(f'Confusion Matrix: \\n{conf_mat}')"
   ]
  },
  {
   "cell_type": "markdown",
   "id": "5f0bf72d",
   "metadata": {},
   "source": [
    "# saving the model"
   ]
  },
  {
   "cell_type": "code",
   "execution_count": 16,
   "id": "80f1d5ae",
   "metadata": {},
   "outputs": [
    {
     "name": "stderr",
     "output_type": "stream",
     "text": [
      "C:\\Anaconda\\Lib\\site-packages\\keras\\src\\engine\\training.py:3000: UserWarning: You are saving your model as an HDF5 file via `model.save()`. This file format is considered legacy. We recommend using instead the native Keras format, e.g. `model.save('my_model.keras')`.\n",
      "  saving_api.save_model(\n"
     ]
    }
   ],
   "source": [
    "model.save(\"model0.h5\")"
   ]
  },
  {
   "cell_type": "markdown",
   "id": "32fc81f6",
   "metadata": {},
   "source": [
    "# Loading the model"
   ]
  },
  {
   "cell_type": "code",
   "execution_count": 24,
   "id": "f7501ff4",
   "metadata": {},
   "outputs": [],
   "source": [
    "model0 = keras.models.load_model(\"model0.h5\")"
   ]
  },
  {
   "cell_type": "code",
   "execution_count": 23,
   "id": "a7c16774",
   "metadata": {},
   "outputs": [
    {
     "data": {
      "text/plain": [
       "[<keras.src.layers.reshaping.flatten.Flatten at 0x24d20804590>,\n",
       " <keras.src.layers.core.dense.Dense at 0x24d208692d0>,\n",
       " <keras.src.layers.core.dense.Dense at 0x24d2082b110>,\n",
       " <keras.src.layers.core.dense.Dense at 0x24d207dc090>]"
      ]
     },
     "execution_count": 23,
     "metadata": {},
     "output_type": "execute_result"
    }
   ],
   "source": [
    "model0.layers"
   ]
  },
  {
   "cell_type": "markdown",
   "id": "a48355e9",
   "metadata": {},
   "source": [
    "# Cloning approach"
   ]
  },
  {
   "cell_type": "code",
   "execution_count": 30,
   "id": "7d67bd4f",
   "metadata": {},
   "outputs": [],
   "source": [
    "model0_cloned = keras.models.clone_model(model=model0)\n"
   ]
  },
  {
   "cell_type": "code",
   "execution_count": 31,
   "id": "88ce141f",
   "metadata": {},
   "outputs": [
    {
     "data": {
      "text/plain": [
       "[<keras.src.layers.reshaping.flatten.Flatten at 0x24d22156790>,\n",
       " <keras.src.layers.core.dense.Dense at 0x24d22181310>,\n",
       " <keras.src.layers.core.dense.Dense at 0x24d21dc1ad0>,\n",
       " <keras.src.layers.core.dense.Dense at 0x24d2211ec10>]"
      ]
     },
     "execution_count": 31,
     "metadata": {},
     "output_type": "execute_result"
    }
   ],
   "source": [
    "model0_cloned.layers"
   ]
  },
  {
   "cell_type": "markdown",
   "id": "a893530e",
   "metadata": {},
   "source": [
    "# comparison "
   ]
  },
  {
   "cell_type": "code",
   "execution_count": 37,
   "id": "9a895b48",
   "metadata": {},
   "outputs": [
    {
     "data": {
      "text/plain": [
       "array([ 0.14567111, -0.26933762,  0.10646103,  0.37275973,  0.01725256,\n",
       "        0.1740728 , -0.3918374 ,  0.00599487,  0.01554619, -0.18219575],\n",
       "      dtype=float32)"
      ]
     },
     "execution_count": 37,
     "metadata": {},
     "output_type": "execute_result"
    }
   ],
   "source": [
    "model0.get_weights()[4][1]"
   ]
  },
  {
   "cell_type": "code",
   "execution_count": 36,
   "id": "ac36e073",
   "metadata": {},
   "outputs": [
    {
     "data": {
      "text/plain": [
       "array([-0.15123501, -0.00623128,  0.03010079,  0.18817237, -0.09093732,\n",
       "        0.07137704, -0.22097935,  0.15919381,  0.20632982,  0.00953621],\n",
       "      dtype=float32)"
      ]
     },
     "execution_count": 36,
     "metadata": {},
     "output_type": "execute_result"
    }
   ],
   "source": [
    "model0_cloned.get_weights()[4][1]"
   ]
  },
  {
   "cell_type": "markdown",
   "id": "a3a3ef32",
   "metadata": {},
   "source": [
    "We see that there is a difference between model weights"
   ]
  },
  {
   "cell_type": "markdown",
   "id": "c6353d4f",
   "metadata": {},
   "source": [
    "now we can modify the weights of the cloned model"
   ]
  },
  {
   "cell_type": "markdown",
   "id": "11ee5127",
   "metadata": {},
   "source": [
    "how ?"
   ]
  },
  {
   "cell_type": "markdown",
   "id": "9e29ba44",
   "metadata": {},
   "source": [
    "set_weights method"
   ]
  },
  {
   "cell_type": "markdown",
   "id": "05f63d2f",
   "metadata": {},
   "source": [
    "# Again completing the approach"
   ]
  },
  {
   "cell_type": "code",
   "execution_count": 48,
   "id": "565a0a4d",
   "metadata": {},
   "outputs": [],
   "source": [
    "model0_cloned = tf.keras.models.clone_model(model0)"
   ]
  },
  {
   "cell_type": "code",
   "execution_count": 49,
   "id": "7e90bc91",
   "metadata": {},
   "outputs": [],
   "source": [
    "model0_cloned.set_weights(model0.get_weights())"
   ]
  },
  {
   "cell_type": "markdown",
   "id": "a2ac8d1f",
   "metadata": {},
   "source": [
    "comparison between weights!"
   ]
  },
  {
   "cell_type": "code",
   "execution_count": 51,
   "id": "0618fb3b",
   "metadata": {},
   "outputs": [
    {
     "data": {
      "text/plain": [
       "array([ 0.14567111, -0.26933762,  0.10646103,  0.37275973,  0.01725256,\n",
       "        0.1740728 , -0.3918374 ,  0.00599487,  0.01554619, -0.18219575],\n",
       "      dtype=float32)"
      ]
     },
     "execution_count": 51,
     "metadata": {},
     "output_type": "execute_result"
    }
   ],
   "source": [
    "model0_cloned.get_weights()[4][1]"
   ]
  },
  {
   "cell_type": "code",
   "execution_count": 52,
   "id": "c59f5d13",
   "metadata": {},
   "outputs": [
    {
     "data": {
      "text/plain": [
       "array([ 0.14567111, -0.26933762,  0.10646103,  0.37275973,  0.01725256,\n",
       "        0.1740728 , -0.3918374 ,  0.00599487,  0.01554619, -0.18219575],\n",
       "      dtype=float32)"
      ]
     },
     "execution_count": 52,
     "metadata": {},
     "output_type": "execute_result"
    }
   ],
   "source": [
    "model0.get_weights()[4][1]"
   ]
  },
  {
   "cell_type": "markdown",
   "id": "1c1373d2",
   "metadata": {},
   "source": [
    "we realize that they incorporate the same weights in certain layer"
   ]
  },
  {
   "cell_type": "markdown",
   "id": "58170705",
   "metadata": {},
   "source": [
    "# now that we initialized the proper approach we can continue solving the problem which is using the saved model for a new problem "
   ]
  },
  {
   "cell_type": "markdown",
   "id": "c043f28c",
   "metadata": {},
   "source": [
    "the output layer of the saved model had 10 neurons and a softmax activation function but in the new case we are gonna have to define whether it is a boot or not in the fashion mnist using a sigmoid activation function"
   ]
  },
  {
   "cell_type": "markdown",
   "id": "1395127b",
   "metadata": {},
   "source": [
    "in other words we are supposed to modify the saved model in a proper way in order to fit it to the new problem which can be considered as a conversion of multiclass classification to binary classification"
   ]
  },
  {
   "cell_type": "code",
   "execution_count": 58,
   "id": "64cc50ca",
   "metadata": {},
   "outputs": [
    {
     "data": {
      "text/plain": [
       "array([9, 0, 0, ..., 3, 0, 5], dtype=uint8)"
      ]
     },
     "execution_count": 58,
     "metadata": {},
     "output_type": "execute_result"
    }
   ],
   "source": [
    "# as you can see the y train needs to become modified for our problem\n",
    "y_train"
   ]
  },
  {
   "cell_type": "code",
   "execution_count": 59,
   "id": "7e8d8038",
   "metadata": {},
   "outputs": [
    {
     "data": {
      "text/plain": [
       "array([9, 2, 1, ..., 8, 1, 5], dtype=uint8)"
      ]
     },
     "execution_count": 59,
     "metadata": {},
     "output_type": "execute_result"
    }
   ],
   "source": [
    "y_test"
   ]
  },
  {
   "cell_type": "markdown",
   "id": "a5f539c4",
   "metadata": {},
   "source": [
    "but we only need the boots to be classified so that here is how we deal with it"
   ]
  },
  {
   "cell_type": "code",
   "execution_count": 61,
   "id": "dbe2764e",
   "metadata": {},
   "outputs": [],
   "source": [
    "y_train_new  = np.where(y_train==9,1,0)"
   ]
  },
  {
   "cell_type": "code",
   "execution_count": 62,
   "id": "a2cce813",
   "metadata": {},
   "outputs": [
    {
     "data": {
      "text/plain": [
       "array([1, 0, 0, ..., 0, 0, 0])"
      ]
     },
     "execution_count": 62,
     "metadata": {},
     "output_type": "execute_result"
    }
   ],
   "source": [
    "y_train_new"
   ]
  },
  {
   "cell_type": "code",
   "execution_count": 66,
   "id": "76437ee0",
   "metadata": {},
   "outputs": [
    {
     "data": {
      "text/plain": [
       "(5000,)"
      ]
     },
     "execution_count": 66,
     "metadata": {},
     "output_type": "execute_result"
    }
   ],
   "source": [
    "y_train_new = y_train_new[:5000]\n",
    "y_train_new.shape"
   ]
  },
  {
   "cell_type": "code",
   "execution_count": 67,
   "id": "af56b770",
   "metadata": {},
   "outputs": [
    {
     "data": {
      "text/plain": [
       "506"
      ]
     },
     "execution_count": 67,
     "metadata": {},
     "output_type": "execute_result"
    }
   ],
   "source": [
    "np.sum(y_train_new)"
   ]
  },
  {
   "cell_type": "code",
   "execution_count": 68,
   "id": "6b9a8ce2",
   "metadata": {},
   "outputs": [
    {
     "data": {
      "text/plain": [
       "(60000, 28, 28)"
      ]
     },
     "execution_count": 68,
     "metadata": {},
     "output_type": "execute_result"
    }
   ],
   "source": [
    "X_train.shape"
   ]
  },
  {
   "cell_type": "code",
   "execution_count": 72,
   "id": "d52da4e2",
   "metadata": {},
   "outputs": [],
   "source": [
    "X_train_new = X_train[:5000, : , :]"
   ]
  },
  {
   "cell_type": "code",
   "execution_count": 73,
   "id": "6484d51e",
   "metadata": {},
   "outputs": [
    {
     "data": {
      "text/plain": [
       "(5000, 28, 28)"
      ]
     },
     "execution_count": 73,
     "metadata": {},
     "output_type": "execute_result"
    }
   ],
   "source": [
    "X_train_new.shape"
   ]
  },
  {
   "cell_type": "code",
   "execution_count": 78,
   "id": "c7a16222",
   "metadata": {},
   "outputs": [
    {
     "data": {
      "text/plain": [
       "array([ 0.01706175, -0.00407254,  0.10878251,  0.10854242, -0.17452562,\n",
       "        0.26216096,  0.06546704,  0.01778083, -0.12462656, -0.27656975],\n",
       "      dtype=float32)"
      ]
     },
     "execution_count": 78,
     "metadata": {},
     "output_type": "execute_result"
    }
   ],
   "source": [
    "model0.get_weights()[-1]"
   ]
  },
  {
   "cell_type": "code",
   "execution_count": 79,
   "id": "ce2ee168",
   "metadata": {
    "scrolled": true
   },
   "outputs": [
    {
     "data": {
      "text/plain": [
       "array([ 0.01706175, -0.00407254,  0.10878251,  0.10854242, -0.17452562,\n",
       "        0.26216096,  0.06546704,  0.01778083, -0.12462656, -0.27656975],\n",
       "      dtype=float32)"
      ]
     },
     "execution_count": 79,
     "metadata": {},
     "output_type": "execute_result"
    }
   ],
   "source": [
    "model0_cloned.get_weights()[-1]"
   ]
  },
  {
   "cell_type": "code",
   "execution_count": 80,
   "id": "4c21fd09",
   "metadata": {},
   "outputs": [
    {
     "data": {
      "text/plain": [
       "[<keras.src.layers.reshaping.flatten.Flatten at 0x24d208cda50>,\n",
       " <keras.src.layers.core.dense.Dense at 0x24d208edf10>,\n",
       " <keras.src.layers.core.dense.Dense at 0x24d208ec6d0>,\n",
       " <keras.src.layers.core.dense.Dense at 0x24d208f7190>]"
      ]
     },
     "execution_count": 80,
     "metadata": {},
     "output_type": "execute_result"
    }
   ],
   "source": [
    "model0.layers"
   ]
  },
  {
   "cell_type": "code",
   "execution_count": 81,
   "id": "a18d6c9b",
   "metadata": {},
   "outputs": [
    {
     "data": {
      "text/plain": [
       "[<keras.src.layers.reshaping.flatten.Flatten at 0x24d226c5110>,\n",
       " <keras.src.layers.core.dense.Dense at 0x24d22617b50>,\n",
       " <keras.src.layers.core.dense.Dense at 0x24d22d15590>,\n",
       " <keras.src.layers.core.dense.Dense at 0x24d22b55e10>]"
      ]
     },
     "execution_count": 81,
     "metadata": {},
     "output_type": "execute_result"
    }
   ],
   "source": [
    "model0_cloned.layers"
   ]
  },
  {
   "cell_type": "code",
   "execution_count": 84,
   "id": "41b0d4d7",
   "metadata": {},
   "outputs": [],
   "source": [
    "model0_cloned.add(keras.layers.Dense(1, activation='sigmoid'))"
   ]
  },
  {
   "cell_type": "code",
   "execution_count": 85,
   "id": "8a428b22",
   "metadata": {},
   "outputs": [
    {
     "data": {
      "text/plain": [
       "[<keras.src.layers.reshaping.flatten.Flatten at 0x24d226c5110>,\n",
       " <keras.src.layers.core.dense.Dense at 0x24d22617b50>,\n",
       " <keras.src.layers.core.dense.Dense at 0x24d22d15590>,\n",
       " <keras.src.layers.core.dense.Dense at 0x24d22b55e10>,\n",
       " <keras.src.layers.core.dense.Dense at 0x24d226c7250>,\n",
       " <keras.src.layers.core.dense.Dense at 0x24d22edf950>]"
      ]
     },
     "execution_count": 85,
     "metadata": {},
     "output_type": "execute_result"
    }
   ],
   "source": [
    "model0_cloned.layers"
   ]
  },
  {
   "cell_type": "code",
   "execution_count": 83,
   "id": "506d5b05",
   "metadata": {},
   "outputs": [],
   "source": [
    "model0_cloned.compile(loss='binary_crossentropy', optimizer='sgd', metrics=['accuracy'])"
   ]
  },
  {
   "cell_type": "code",
   "execution_count": 86,
   "id": "d6c2c275",
   "metadata": {},
   "outputs": [
    {
     "name": "stdout",
     "output_type": "stream",
     "text": [
      "Epoch 1/10\n",
      "133/133 [==============================] - 3s 9ms/step - loss: 0.5289 - accuracy: 0.9021 - val_loss: 0.4785 - val_accuracy: 0.8800\n",
      "Epoch 2/10\n",
      "133/133 [==============================] - 1s 6ms/step - loss: 0.4246 - accuracy: 0.9021 - val_loss: 0.4157 - val_accuracy: 0.8800\n",
      "Epoch 3/10\n",
      "133/133 [==============================] - 1s 6ms/step - loss: 0.3736 - accuracy: 0.9021 - val_loss: 0.3850 - val_accuracy: 0.8800\n",
      "Epoch 4/10\n",
      "133/133 [==============================] - 1s 6ms/step - loss: 0.3461 - accuracy: 0.9021 - val_loss: 0.3678 - val_accuracy: 0.8800\n",
      "Epoch 5/10\n",
      "133/133 [==============================] - 1s 5ms/step - loss: 0.3267 - accuracy: 0.9021 - val_loss: 0.3503 - val_accuracy: 0.8800\n",
      "Epoch 6/10\n",
      "133/133 [==============================] - 1s 5ms/step - loss: 0.3126 - accuracy: 0.9021 - val_loss: 0.3433 - val_accuracy: 0.8800\n",
      "Epoch 7/10\n",
      "133/133 [==============================] - 1s 5ms/step - loss: 0.3054 - accuracy: 0.9021 - val_loss: 0.3392 - val_accuracy: 0.8800\n",
      "Epoch 8/10\n",
      "133/133 [==============================] - 1s 8ms/step - loss: 0.3005 - accuracy: 0.9021 - val_loss: 0.3363 - val_accuracy: 0.8800\n",
      "Epoch 9/10\n",
      "133/133 [==============================] - 1s 10ms/step - loss: 0.2969 - accuracy: 0.9021 - val_loss: 0.3341 - val_accuracy: 0.8800\n",
      "Epoch 10/10\n",
      "133/133 [==============================] - 1s 7ms/step - loss: 0.2940 - accuracy: 0.9021 - val_loss: 0.3322 - val_accuracy: 0.8800\n"
     ]
    }
   ],
   "source": [
    "history = model0_cloned.fit(X_train_new, y_train_new, epochs=10, validation_split=0.15)"
   ]
  },
  {
   "cell_type": "markdown",
   "id": "fd3971df",
   "metadata": {},
   "source": [
    "# Transfered model evaluation"
   ]
  },
  {
   "cell_type": "code",
   "execution_count": 89,
   "id": "c1af7df2",
   "metadata": {},
   "outputs": [],
   "source": [
    "y_test_new  = np.where(y_test==9,1,0)"
   ]
  },
  {
   "cell_type": "code",
   "execution_count": 91,
   "id": "529afb62",
   "metadata": {},
   "outputs": [
    {
     "name": "stdout",
     "output_type": "stream",
     "text": [
      "313/313 [==============================] - 1s 3ms/step\n",
      "Precision: 1.0\n",
      "Recall: 0.0\n",
      "F1 Score: 0.0\n",
      "Confusion Matrix: \n",
      "[[9000    0]\n",
      " [1000    0]]\n"
     ]
    }
   ],
   "source": [
    "# Get the model's predictions\n",
    "y_pred_probs = model0_cloned.predict(X_test)\n",
    "y_pred = [1 if prob >= 0.5 else 0 for prob in y_pred_probs]\n",
    "\n",
    "# Calculate Precision\n",
    "precision = precision_score(y_test_new, y_pred, average='binary', zero_division=1)\n",
    "print(f'Precision: {precision}')\n",
    "\n",
    "# Calculate Recall\n",
    "recall = recall_score(y_test_new, y_pred, average='binary')\n",
    "print(f'Recall: {recall}')\n",
    "\n",
    "# Calculate F1 score\n",
    "f1 = f1_score(y_test_new, y_pred, average='binary')\n",
    "print(f'F1 Score: {f1}')\n",
    "\n",
    "# Calculate Confusion Matrix\n",
    "conf_mat = confusion_matrix(y_test_new, y_pred)\n",
    "print(f'Confusion Matrix: \\n{conf_mat}')\n"
   ]
  },
  {
   "cell_type": "code",
   "execution_count": 92,
   "id": "f61c795a",
   "metadata": {},
   "outputs": [
    {
     "data": {
      "image/png": "[encoded data removed]",
      "text/plain": [
       "<Figure size 640x480 with 1 Axes>"
      ]
     },
     "metadata": {},
     "output_type": "display_data"
    },
    {
     "data": {
      "image/png": "[encoded data removed]",
      "text/plain": [
       "<Figure size 640x480 with 1 Axes>"
      ]
     },
     "metadata": {},
     "output_type": "display_data"
    }
   ],
   "source": [
    "import matplotlib.pyplot as plt\n",
    "\n",
    "# Plot training & validation accuracy values\n",
    "plt.plot(history.history['accuracy'])\n",
    "plt.plot(history.history['val_accuracy'])\n",
    "plt.title('Model accuracy')\n",
    "plt.ylabel('Accuracy')\n",
    "plt.xlabel('Epoch')\n",
    "plt.legend(['Train', 'Validation'], loc='upper left')\n",
    "plt.show()\n",
    "\n",
    "# Plot training & validation loss values\n",
    "plt.plot(history.history['loss'])\n",
    "plt.plot(history.history['val_loss'])\n",
    "plt.title('Model loss')\n",
    "plt.ylabel('Loss')\n",
    "plt.xlabel('Epoch')\n",
    "plt.legend(['Train', 'Validation'], loc='upper left')\n",
    "plt.show()\n"
   ]
  },
  {
   "cell_type": "code",
   "execution_count": null,
   "id": "b468f0ae",
   "metadata": {},
   "outputs": [],
   "source": []
  },
  {
   "cell_type": "code",
   "execution_count": null,
   "id": "54c73939",
   "metadata": {},
   "outputs": [],
   "source": []
  },
  {
   "cell_type": "code",
   "execution_count": 74,
   "id": "705ce5e0",
   "metadata": {},
   "outputs": [
    {
     "ename": "NameError",
     "evalue": "name 'model1' is not defined",
     "output_type": "error",
     "traceback": [
      "\u001b[1;31m---------------------------------------------------------------------------\u001b[0m",
      "\u001b[1;31mNameError\u001b[0m                                 Traceback (most recent call last)",
      "Cell \u001b[1;32mIn[74], line 1\u001b[0m\n\u001b[1;32m----> 1\u001b[0m model1\u001b[38;5;241m.\u001b[39msummary()\n",
      "\u001b[1;31mNameError\u001b[0m: name 'model1' is not defined"
     ]
    }
   ],
   "source": [
    "model1.summary()"
   ]
  },
  {
   "cell_type": "code",
   "execution_count": 19,
   "id": "84e7e06e",
   "metadata": {},
   "outputs": [
    {
     "data": {
      "text/plain": [
       "True"
      ]
     },
     "execution_count": 19,
     "metadata": {},
     "output_type": "execute_result"
    }
   ],
   "source": [
    "model1.layers[3].trainable"
   ]
  },
  {
   "cell_type": "code",
   "execution_count": 20,
   "id": "83850417",
   "metadata": {},
   "outputs": [],
   "source": [
    "model1 = keras.models.Sequential(model0.layers[:-1])\n",
    "model1.add(keras.layers.Dense(50,activation='selu'))\n",
    "model1.add(keras.layers.Dense(10,activation='softmax'))"
   ]
  },
  {
   "cell_type": "code",
   "execution_count": 21,
   "id": "5b3a2bbf",
   "metadata": {},
   "outputs": [
    {
     "name": "stdout",
     "output_type": "stream",
     "text": [
      "Model: \"sequential_1\"\n",
      "_________________________________________________________________\n",
      " Layer (type)                Output Shape              Param #   \n",
      "=================================================================\n",
      " flatten (Flatten)           (None, 784)               0         \n",
      "                                                                 \n",
      " dense (Dense)               (None, 100)               78500     \n",
      "                                                                 \n",
      " dense_1 (Dense)             (None, 75)                7575      \n",
      "                                                                 \n",
      " dense_3 (Dense)             (None, 50)                3800      \n",
      "                                                                 \n",
      " dense_4 (Dense)             (None, 10)                510       \n",
      "                                                                 \n",
      "=================================================================\n",
      "Total params: 90385 (353.07 KB)\n",
      "Trainable params: 90385 (353.07 KB)\n",
      "Non-trainable params: 0 (0.00 Byte)\n",
      "_________________________________________________________________\n"
     ]
    }
   ],
   "source": [
    "model1.summary()"
   ]
  },
  {
   "cell_type": "code",
   "execution_count": 22,
   "id": "52782ff2",
   "metadata": {},
   "outputs": [
    {
     "data": {
      "text/plain": [
       "-760"
      ]
     },
     "execution_count": 22,
     "metadata": {},
     "output_type": "execute_result"
    }
   ],
   "source": [
    "86075-86835"
   ]
  },
  {
   "cell_type": "code",
   "execution_count": 29,
   "id": "133f098b",
   "metadata": {},
   "outputs": [
    {
     "name": "stdout",
     "output_type": "stream",
     "text": [
      "True\n",
      "True\n",
      "True\n",
      "True\n"
     ]
    }
   ],
   "source": [
    "for layer in model1.layers[:-1]:\n",
    "    layer.trainable = True\n",
    "    print(layer.trainable)"
   ]
  },
  {
   "cell_type": "code",
   "execution_count": null,
   "id": "56fb7a93",
   "metadata": {},
   "outputs": [],
   "source": []
  },
  {
   "cell_type": "code",
   "execution_count": null,
   "id": "7a9dc9a2",
   "metadata": {},
   "outputs": [],
   "source": []
  },
  {
   "cell_type": "code",
   "execution_count": null,
   "id": "e1ddd758",
   "metadata": {},
   "outputs": [],
   "source": []
  },
  {
   "cell_type": "code",
   "execution_count": null,
   "id": "969ddf86",
   "metadata": {},
   "outputs": [],
   "source": []
  },
  {
   "cell_type": "code",
   "execution_count": null,
   "id": "45bfc9cd",
   "metadata": {},
   "outputs": [],
   "source": []
  },
  {
   "cell_type": "code",
   "execution_count": null,
   "id": "f1970b62",
   "metadata": {},
   "outputs": [],
   "source": []
  }
 ],
 "metadata": {
  "kernelspec": {
   "display_name": "Python 3 (ipykernel)",
   "language": "python",
   "name": "python3"
  },
  "language_info": {
   "codemirror_mode": {
    "name": "ipython",
    "version": 3
   },
   "file_extension": ".py",
   "mimetype": "text/x-python",
   "name": "python",
   "nbconvert_exporter": "python",
   "pygments_lexer": "ipython3",
   "version": "3.11.3"
  }
 },
 "nbformat": 4,
 "nbformat_minor": 5
}
