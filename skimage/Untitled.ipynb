{
 "cells": [
  {
   "cell_type": "code",
   "execution_count": null,
   "id": "f3f33786",
   "metadata": {},
   "outputs": [],
   "source": [
    "from skimage.feature import Cascade\n",
    "from skimage.filters import gaussian\n",
    "import matplotlib.pyplot as plt\n",
    "\n",
    "# Load the image\n",
    "image = plt.imread('C:/Users/IDEH/Downloads/1.jpg')\n",
    "\n",
    "# Initialize the face detector with the path to the XML file\n",
    "detector = Cascade('C:/Users/IDEH/Downloads/haarcascade_frontalface_default.xml')\n",
    "\n",
    "# Detect the faces\n",
    "detected = detector.detect_multi_scale(img=image, scale_factor=1.2, step_ratio=1, min_size=(50, 50), max_size=(100, 100))\n",
    "\n",
    "def getFace(d):\n",
    "    ''' Extracts the face rectangle from the image using the coordinates of the detected. '''\n",
    "    # X and Y starting points of the face rectangle\n",
    "    x, y = d['r'], d['c']\n",
    "    # The width and height of the face rectangle\n",
    "    width, height = d['r'] + d['width'], d['c'] + d['height']\n",
    "    # Extract the detected face\n",
    "    face = image[x:width, y:height]\n",
    "    return face\n",
    "\n",
    "def mergeBlurryFace(original, gaussian_image, d):\n",
    "    # X and Y starting points of the face rectangle\n",
    "    x, y = d['r'], d['c']\n",
    "    # The width and height of the face rectangle\n",
    "    width, height = d['r'] + d['width'], d['c'] + d['height']\n",
    "    original[x:width, y:height] = gaussian_image\n",
    "    return original\n",
    "\n",
    "# For each detected face\n",
    "for d in detected:\n",
    "    # Obtain the face cropped from detected coordinates\n",
    "    face = getFace(d)\n",
    "    # Apply gaussian filter to extracted face\n",
    "    gaussian_face = gaussian(face, multichannel=True, sigma=10)\n",
    "    # Merge this blurry face to our final image\n",
    "    image = mergeBlurryFace(image, gaussian_face, d)\n",
    "\n",
    "# Display the resulting image\n",
    "plt.imshow(image)\n",
    "plt.axis('off')\n",
    "plt.show()\n"
   ]
  },
  {
   "cell_type": "code",
   "execution_count": null,
   "id": "700c4854",
   "metadata": {},
   "outputs": [],
   "source": []
  }
 ],
 "metadata": {
  "kernelspec": {
   "display_name": "Python 3 (ipykernel)",
   "language": "python",
   "name": "python3"
  },
  "language_info": {
   "codemirror_mode": {
    "name": "ipython",
    "version": 3
   },
   "file_extension": ".py",
   "mimetype": "text/x-python",
   "name": "python",
   "nbconvert_exporter": "python",
   "pygments_lexer": "ipython3",
   "version": "3.11.3"
  }
 },
 "nbformat": 4,
 "nbformat_minor": 5
}
